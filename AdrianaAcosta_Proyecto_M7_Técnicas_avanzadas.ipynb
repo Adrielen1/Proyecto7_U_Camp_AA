{
  "cells": [
    {
      "cell_type": "markdown",
      "metadata": {
        "id": "tP4QvuPIdTNJ"
      },
      "source": [
        "## **Bootcamp: Ciencia de Datos e Inteligencia Artificial**\n",
        "## **Proyecto del Módulo 7: Técnicas avanzadas para ciencia de datos y empleabilidad**\n",
        "\n",
        "Hola, ya es el último proyecto, has avanzado y aprendido mucho hasta acá. ¡Muchas felicidades!\n",
        "\n",
        "Es hora de poner en práctica todo lo que hemos aprendido a lo largo de nuestra travesía.\n",
        "\n",
        "Lee el proyecto y revisa con cuidado cada una de las instrucciones. Procura plasmar todo tu potencial para que lo concluyas de manera sobresaliente.\n",
        "\n",
        "¡Éxito!"
      ]
    },
    {
      "cell_type": "markdown",
      "metadata": {
        "id": "urHRQIXyd2qi"
      },
      "source": [
        "# Objetivos\n",
        "- Aplicar con éxito todos los conocimientos que has adquirido a lo largo del Bootcamp.\n",
        "- Consolidar las técnicas de limpieza, entrenamiento, graficación y ajuste a modelos de *Machine Learning*.\n",
        "- Generar una API que brinde predicciones como resultado a partir de datos enviados.\n"
      ]
    },
    {
      "cell_type": "markdown",
      "metadata": {
        "id": "0P7GcQKhexHj"
      },
      "source": [
        "# Proyecto\n",
        "\n",
        "1. Selecciona uno de los siguientes *datasets*:\n",
        "  - *Reviews* de aplicaciones de la Google Play Store: https://www.kaggle.com/datasets/lava18/google-play-store-apps\n",
        "  - Estadísticas demográficas de los ganadores del premio Oscar de la Academia: https://www.kaggle.com/datasets/fmejia21/demographics-of-academy-awards-oscars-winners\n",
        "  - Aspiraciones profesionales de la generación Z: https://www.kaggle.com/datasets/kulturehire/understanding-career-aspirations-of-genz\n",
        "\n",
        "Cada uno representa un *dataset*, un problema y una forma diferente de abordarlo. Tu tarea es identificar las técnicas y modelos que podrías usar para tu proyecto.\n",
        "\n",
        "2. Debes hacer un análisis exploratorio y limpieza de los datos. Usa las ténicas que creas convenientes.\n",
        "\n",
        "3. Entrena el modelo de *Machine Learning*, procesamiento de lenguaje natural o red neuronal que creas adecuado.\n",
        "\n",
        "4. Genera por lo menos dos gráficas y dos métricas de rendimiento; explica las puntuaciones de rendimiento que amerite tu problema. Todas las gráficas de rendimiento que realices deben tener leyendas, colores y títulos personalizados por ti.\n",
        "\n",
        "  - Además, antes de subir el modelo a \"producción\", deberás realizar un proceso de ensambles (*ensemblings*) y de ajuste de hiperparámetros o *tuning* para intentar mejorar la precisión y disminuir la varianza de tu modelo.\n",
        "\n",
        "5. Construye una API REST en la que cualquier usuario pueda mandar datos y que esta misma devuelva la predicción del modelo que has hecho. La API debe estar en la nube, ya sea en un servicio como Netlify o Ngrok, para que pueda ser consultada desde internet.\n",
        "\n",
        "6. Genera una presentación del problema y del modelo de solución que planteas. Muestra gráficas, datos de rendimiento y explicaciones. Esta presentación debe estar enfocada a personas que no sepan mucho de ciencia de datos e inteligencia artificial.\n",
        "\n",
        "7. **Solamente se recibirán trabajos subidos a tu cuenta de GitHub con un README.md apropiado que explique tu proyecto**.\n",
        "\n",
        "## Criterios de evaluación\n",
        "\n",
        "| Actividad | Porcentaje | Observaciones | Punto parcial\n",
        "| -- | -- | -- | -- |\n",
        "| Actividad 1. Limpieza y EDA | 20 | Realiza todas las tareas necesarias para hacer el EDA y la limpieza correcta, dependiendo de la problemática. Debes hacer como mínimo el análisis de completitud, escalamiento (si aplica) y tokenización (si aplica). | Realizaste solo algunas tareas de exploración y limpieza y el modelo se muestra aún con oportunidad de completitud, escalamiento y/o mejora. |\n",
        "| Actividad 2. Entrenamiento del modelo | 20 | Elige el modelo y algoritmo adecuados para tu problema, entrénalo con los datos ya limpios y genera algunas predicciones de prueba. | No has realizado predicciones de prueba para tu modelo de ML y/o tu modelo muestra una precisión menor al 60 %. |\n",
        "| Actividad 3. Graficación y métricas | 20 | Genera por lo menos dos gráficas y dos muestras de métricas que permitan visualizar el rendimiento y precisión del modelo que construiste. Además, realizaste los procesos de *tuning* y ensambles adecuados para tu problema. | Las gráficas no tienen leyendas y colores customizados, solo muestras una gráfica o no realizaste el *tuning* de hiperparámetros.\n",
        "| Actividad 4. API REST | 20 | Generaste con éxito un *link* público en el que, por método POST, se puede mandar información y la API REST devuelve una predicción junto con el porcentaje de confianza de esta misma. | N/A\n",
        "| Actividad 5. Presentación | 20 | Genera una presentación en la que establezcas como mínimo: el problema, proceso de solución, metodologías usadas, gráficas de rendimiento, demostración del modelo y aprendizajes obtenidos. Debes redactarla con términos que pueda entender cualquier persona, no solo científicos de datos. | La presentación no expone con claridad o en términos coloquiales el proceso de creación del modelo, sus ventajas y muestras de rendimiento.\n",
        "\n",
        "**Mucho éxito en tu camino como Data Scientist.**"
      ]
    },
    {
      "cell_type": "code",
      "execution_count": 2,
      "metadata": {
        "id": "Zz450SgmgK1D"
      },
      "outputs": [],
      "source": [
        "import pandas as pd\n",
        "from sklearn.model_selection import train_test_split, GridSearchCV\n",
        "from sklearn.preprocessing import LabelEncoder\n",
        "from sklearn.ensemble import RandomForestClassifier\n",
        "from sklearn.metrics import accuracy_score, confusion_matrix\n",
        "import matplotlib.pyplot as plt\n",
        "from sklearn.metrics import accuracy_score, classification_report, confusion_matrix\n",
        "\n",
        "\n",
        "\n",
        "import numpy as np\n",
        "import pandas as pd\n",
        "import matplotlib.pyplot as plt\n",
        "import matplotlib.pyplot as plt\n",
        "import plotly.express as px\n",
        "import plotly.graph_objects as go\n",
        "\n",
        "\n",
        "# Gráficos\n",
        "from matplotlib import style\n",
        "import seaborn as sns\n",
        "\n",
        "# Preprocesado y modelado\n",
        "from numpy import where\n",
        "from collections import Counter\n",
        "from sklearn.datasets import make_classification\n",
        "from sklearn.linear_model import LogisticRegression\n",
        "from sklearn.linear_model import LinearRegression\n",
        "from sklearn.model_selection import train_test_split\n",
        "from sklearn.datasets import make_multilabel_classification\n",
        "from sklearn.metrics import mean_squared_error\n",
        "from sklearn.metrics import roc_curve\n",
        "from sklearn.metrics import roc_auc_score\n",
        "from sklearn.datasets import make_blobs\n",
        "from sklearn import metrics\n",
        "from sklearn.tree import DecisionTreeClassifier\n",
        "from sklearn.metrics import accuracy_score, classification_report, confusion_matrix\n",
        "from sklearn.datasets import load_iris\n",
        "from sklearn.preprocessing import StandardScaler\n",
        "from sklearn.decomposition import PCA\n",
        "from sklearn.cluster import KMeans\n",
        "from mpl_toolkits.mplot3d import Axes3D\n",
        "\n",
        "\n",
        "\n",
        "#Configuración\n",
        "\n",
        "import warnings\n",
        "warnings.filterwarnings('ignore')\n"
      ]
    },
    {
      "cell_type": "code",
      "execution_count": 1,
      "metadata": {},
      "outputs": [
        {
          "data": {
            "text/html": [
              "<div>\n",
              "<style scoped>\n",
              "    .dataframe tbody tr th:only-of-type {\n",
              "        vertical-align: middle;\n",
              "    }\n",
              "\n",
              "    .dataframe tbody tr th {\n",
              "        vertical-align: top;\n",
              "    }\n",
              "\n",
              "    .dataframe thead th {\n",
              "        text-align: right;\n",
              "    }\n",
              "</style>\n",
              "<table border=\"1\" class=\"dataframe\">\n",
              "  <thead>\n",
              "    <tr style=\"text-align: right;\">\n",
              "      <th></th>\n",
              "      <th>Your Current Country.</th>\n",
              "      <th>Your Current Zip Code / Pin Code</th>\n",
              "      <th>Your Gender</th>\n",
              "      <th>Which of the below factors influence the most about your career aspirations ?</th>\n",
              "      <th>Would you definitely pursue a Higher Education / Post Graduation outside of India ? If only you have to self sponsor it.</th>\n",
              "      <th>How likely is that you will work for one employer for 3 years or more ?</th>\n",
              "      <th>Would you work for a company whose mission is not clearly defined and publicly posted.</th>\n",
              "      <th>How likely would you work for a company whose mission is misaligned with their public actions or even their product ?</th>\n",
              "      <th>How likely would you work for a company whose mission is not bringing social impact ?</th>\n",
              "      <th>What is the most preferred working environment for you.</th>\n",
              "      <th>Which of the below Employers would you work with.</th>\n",
              "      <th>Which type of learning environment that you are most likely to work in ?</th>\n",
              "      <th>Which of the below careers looks close to your Aspirational job ?</th>\n",
              "      <th>What type of Manager would you work without looking into your watch ?</th>\n",
              "      <th>Which of the following setup you would like to work ?</th>\n",
              "    </tr>\n",
              "  </thead>\n",
              "  <tbody>\n",
              "    <tr>\n",
              "      <th>0</th>\n",
              "      <td>India</td>\n",
              "      <td>273005</td>\n",
              "      <td>Male</td>\n",
              "      <td>People who have changed the world for better</td>\n",
              "      <td>Yes, I will earn and do that</td>\n",
              "      <td>This will be hard to do, but if it is the righ...</td>\n",
              "      <td>No</td>\n",
              "      <td>Will NOT work for them</td>\n",
              "      <td>4</td>\n",
              "      <td>Fully Remote with No option to visit offices</td>\n",
              "      <td>Employer who rewards learning and enables that...</td>\n",
              "      <td>Instructor or Expert Learning Programs, Trial ...</td>\n",
              "      <td>Business Operations in any organization, Build...</td>\n",
              "      <td>Manager who explains what is expected, sets a ...</td>\n",
              "      <td>Work alone, Work with 2 to 3 people in my team...</td>\n",
              "    </tr>\n",
              "    <tr>\n",
              "      <th>1</th>\n",
              "      <td>India</td>\n",
              "      <td>851129</td>\n",
              "      <td>Male</td>\n",
              "      <td>People who have changed the world for better</td>\n",
              "      <td>No, But if someone could bare the cost I will</td>\n",
              "      <td>This will be hard to do, but if it is the righ...</td>\n",
              "      <td>No</td>\n",
              "      <td>Will NOT work for them</td>\n",
              "      <td>1</td>\n",
              "      <td>Fully Remote with Options to travel as and whe...</td>\n",
              "      <td>Employer who pushes your limits by enabling an...</td>\n",
              "      <td>Self Paced Learning Portals, Instructor or Exp...</td>\n",
              "      <td>Business Operations in any organization, Build...</td>\n",
              "      <td>Manager who explains what is expected, sets a ...</td>\n",
              "      <td>Work with 5 to 6 people in my team</td>\n",
              "    </tr>\n",
              "    <tr>\n",
              "      <th>2</th>\n",
              "      <td>India</td>\n",
              "      <td>123106</td>\n",
              "      <td>Female</td>\n",
              "      <td>Social Media like LinkedIn</td>\n",
              "      <td>Yes, I will earn and do that</td>\n",
              "      <td>Will work for 3 years or more</td>\n",
              "      <td>Yes</td>\n",
              "      <td>Will work for them</td>\n",
              "      <td>7</td>\n",
              "      <td>Hybrid Working Environment with less than 15 d...</td>\n",
              "      <td>Employer who pushes your limits by enabling an...</td>\n",
              "      <td>Self Paced Learning Portals, Trial and error b...</td>\n",
              "      <td>Manage and drive End-to-End Projects or Produc...</td>\n",
              "      <td>Manager who explains what is expected, sets a ...</td>\n",
              "      <td>Work with 2 to 3 people in my team, Work with ...</td>\n",
              "    </tr>\n",
              "    <tr>\n",
              "      <th>3</th>\n",
              "      <td>India</td>\n",
              "      <td>834003</td>\n",
              "      <td>Male</td>\n",
              "      <td>People from my circle, but not family members</td>\n",
              "      <td>No, But if someone could bare the cost I will</td>\n",
              "      <td>This will be hard to do, but if it is the righ...</td>\n",
              "      <td>No</td>\n",
              "      <td>Will NOT work for them</td>\n",
              "      <td>6</td>\n",
              "      <td>Hybrid Working Environment with less than 15 d...</td>\n",
              "      <td>Employer who pushes your limits by enabling an...</td>\n",
              "      <td>Instructor or Expert Learning Programs, Trial ...</td>\n",
              "      <td>Business Operations in any organization, Manag...</td>\n",
              "      <td>Manager who explains what is expected, sets a ...</td>\n",
              "      <td>Work with 2 to 3 people in my team</td>\n",
              "    </tr>\n",
              "    <tr>\n",
              "      <th>4</th>\n",
              "      <td>India</td>\n",
              "      <td>301019</td>\n",
              "      <td>Female</td>\n",
              "      <td>Influencers who had successful careers</td>\n",
              "      <td>No, But if someone could bare the cost I will</td>\n",
              "      <td>Will work for 3 years or more</td>\n",
              "      <td>No</td>\n",
              "      <td>Will NOT work for them</td>\n",
              "      <td>5</td>\n",
              "      <td>Fully Remote with Options to travel as and whe...</td>\n",
              "      <td>Employer who appreciates learning and enables ...</td>\n",
              "      <td>Self Paced Learning Portals, Learning by obser...</td>\n",
              "      <td>Teaching in any of the institutes/online or Of...</td>\n",
              "      <td>Manager who explains what is expected, sets a ...</td>\n",
              "      <td>Work with 2 to 3 people in my team, Work with ...</td>\n",
              "    </tr>\n",
              "  </tbody>\n",
              "</table>\n",
              "</div>"
            ],
            "text/plain": [
              "  Your Current Country.  Your Current Zip Code / Pin Code Your Gender  \\\n",
              "0                 India                            273005        Male   \n",
              "1                 India                            851129        Male   \n",
              "2                 India                            123106      Female   \n",
              "3                 India                            834003        Male   \n",
              "4                 India                            301019      Female   \n",
              "\n",
              "  Which of the below factors influence the most about your career aspirations ?  \\\n",
              "0       People who have changed the world for better                              \n",
              "1       People who have changed the world for better                              \n",
              "2                         Social Media like LinkedIn                              \n",
              "3      People from my circle, but not family members                              \n",
              "4             Influencers who had successful careers                              \n",
              "\n",
              "  Would you definitely pursue a Higher Education / Post Graduation outside of India ? If only you have to self sponsor it.  \\\n",
              "0                       Yes, I will earn and do that                                                                         \n",
              "1      No, But if someone could bare the cost I will                                                                         \n",
              "2                       Yes, I will earn and do that                                                                         \n",
              "3      No, But if someone could bare the cost I will                                                                         \n",
              "4      No, But if someone could bare the cost I will                                                                         \n",
              "\n",
              "  How likely is that you will work for one employer for 3 years or more ?  \\\n",
              "0  This will be hard to do, but if it is the righ...                        \n",
              "1  This will be hard to do, but if it is the righ...                        \n",
              "2                      Will work for 3 years or more                        \n",
              "3  This will be hard to do, but if it is the righ...                        \n",
              "4                      Will work for 3 years or more                        \n",
              "\n",
              "  Would you work for a company whose mission is not clearly defined and publicly posted.  \\\n",
              "0                                                 No                                       \n",
              "1                                                 No                                       \n",
              "2                                                Yes                                       \n",
              "3                                                 No                                       \n",
              "4                                                 No                                       \n",
              "\n",
              "  How likely would you work for a company whose mission is misaligned with their public actions or even their product ?  \\\n",
              "0                             Will NOT work for them                                                                      \n",
              "1                             Will NOT work for them                                                                      \n",
              "2                                 Will work for them                                                                      \n",
              "3                             Will NOT work for them                                                                      \n",
              "4                             Will NOT work for them                                                                      \n",
              "\n",
              "   How likely would you work for a company whose mission is not bringing social impact ?  \\\n",
              "0                                                  4                                       \n",
              "1                                                  1                                       \n",
              "2                                                  7                                       \n",
              "3                                                  6                                       \n",
              "4                                                  5                                       \n",
              "\n",
              "  What is the most preferred working environment for you.  \\\n",
              "0       Fully Remote with No option to visit offices        \n",
              "1  Fully Remote with Options to travel as and whe...        \n",
              "2  Hybrid Working Environment with less than 15 d...        \n",
              "3  Hybrid Working Environment with less than 15 d...        \n",
              "4  Fully Remote with Options to travel as and whe...        \n",
              "\n",
              "   Which of the below Employers would you work with.  \\\n",
              "0  Employer who rewards learning and enables that...   \n",
              "1  Employer who pushes your limits by enabling an...   \n",
              "2  Employer who pushes your limits by enabling an...   \n",
              "3  Employer who pushes your limits by enabling an...   \n",
              "4  Employer who appreciates learning and enables ...   \n",
              "\n",
              "  Which type of learning environment that you are most likely to work in ?  \\\n",
              "0  Instructor or Expert Learning Programs, Trial ...                         \n",
              "1  Self Paced Learning Portals, Instructor or Exp...                         \n",
              "2  Self Paced Learning Portals, Trial and error b...                         \n",
              "3  Instructor or Expert Learning Programs, Trial ...                         \n",
              "4  Self Paced Learning Portals, Learning by obser...                         \n",
              "\n",
              "  Which of the below careers looks close to your Aspirational job ?  \\\n",
              "0  Business Operations in any organization, Build...                  \n",
              "1  Business Operations in any organization, Build...                  \n",
              "2  Manage and drive End-to-End Projects or Produc...                  \n",
              "3  Business Operations in any organization, Manag...                  \n",
              "4  Teaching in any of the institutes/online or Of...                  \n",
              "\n",
              "  What type of Manager would you work without looking into your watch ?  \\\n",
              "0  Manager who explains what is expected, sets a ...                      \n",
              "1  Manager who explains what is expected, sets a ...                      \n",
              "2  Manager who explains what is expected, sets a ...                      \n",
              "3  Manager who explains what is expected, sets a ...                      \n",
              "4  Manager who explains what is expected, sets a ...                      \n",
              "\n",
              "  Which of the following setup you would like to work ?  \n",
              "0  Work alone, Work with 2 to 3 people in my team...     \n",
              "1                 Work with 5 to 6 people in my team     \n",
              "2  Work with 2 to 3 people in my team, Work with ...     \n",
              "3                 Work with 2 to 3 people in my team     \n",
              "4  Work with 2 to 3 people in my team, Work with ...     "
            ]
          },
          "execution_count": 1,
          "metadata": {},
          "output_type": "execute_result"
        }
      ],
      "source": [
        "import pandas as pd \n",
        "\n",
        "df = pd.read_csv(\"C:/Users/adria/Documents/U Camp/Proyecto7_U_Camp_AA/Your Career Aspirations of GenZ.csv\") #, encoding = 'latin'\n",
        "\n",
        "#df = pd.read_csv(\"C:/Users/adria/Downloads/googleplaystore.csv\")\n",
        "\n",
        "df.head()"
      ]
    },
    {
      "cell_type": "code",
      "execution_count": 35,
      "metadata": {},
      "outputs": [
        {
          "name": "stdout",
          "output_type": "stream",
          "text": [
            "El tamaño del conjunto es:   (235, 15) \n",
            "\n",
            " \n",
            "<class 'pandas.core.frame.DataFrame'>\n",
            "RangeIndex: 235 entries, 0 to 234\n",
            "Data columns (total 15 columns):\n",
            " #   Column                                                                                                                    Non-Null Count  Dtype \n",
            "---  ------                                                                                                                    --------------  ----- \n",
            " 0   Your Current Country.                                                                                                     235 non-null    object\n",
            " 1   Your Current Zip Code / Pin Code                                                                                          235 non-null    int64 \n",
            " 2   Your Gender                                                                                                               235 non-null    object\n",
            " 3   Which of the below factors influence the most about your career aspirations ?                                             235 non-null    object\n",
            " 4   Would you definitely pursue a Higher Education / Post Graduation outside of India ? If only you have to self sponsor it.  235 non-null    object\n",
            " 5   How likely is that you will work for one employer for 3 years or more ?                                                   235 non-null    object\n",
            " 6   Would you work for a company whose mission is not clearly defined and publicly posted.                                    235 non-null    object\n",
            " 7   How likely would you work for a company whose mission is misaligned with their public actions or even their product ?     235 non-null    object\n",
            " 8   How likely would you work for a company whose mission is not bringing social impact ?                                     235 non-null    int64 \n",
            " 9   What is the most preferred working environment for you.                                                                   235 non-null    object\n",
            " 10  Which of the below Employers would you work with.                                                                         235 non-null    object\n",
            " 11  Which type of learning environment that you are most likely to work in ?                                                  235 non-null    object\n",
            " 12  Which of the below careers looks close to your Aspirational job ?                                                         235 non-null    object\n",
            " 13  What type of Manager would you work without looking into your watch ?                                                     235 non-null    object\n",
            " 14  Which of the following setup you would like to work ?                                                                     235 non-null    object\n",
            "dtypes: int64(2), object(13)\n",
            "memory usage: 27.7+ KB\n"
          ]
        }
      ],
      "source": [
        "tam_conjunto = df.shape  # Verificar tamaño de la base de datos\n",
        "\n",
        "print (\"El tamaño del conjunto es:  \", tam_conjunto , '\\n\\n ')\n",
        "\n",
        "df.info()"
      ]
    },
    {
      "cell_type": "markdown",
      "metadata": {},
      "source": []
    },
    {
      "cell_type": "code",
      "execution_count": 4,
      "metadata": {},
      "outputs": [
        {
          "name": "stdout",
          "output_type": "stream",
          "text": [
            "Número de filas duplicadas: 0\n"
          ]
        }
      ],
      "source": [
        "duplicados = df.duplicated()  # Revision de datos duplicados\n",
        "conteo_duplicados = duplicados.sum()\n",
        "print(\"Número de filas duplicadas:\", conteo_duplicados)"
      ]
    },
    {
      "cell_type": "code",
      "execution_count": 5,
      "metadata": {},
      "outputs": [
        {
          "data": {
            "text/html": [
              "<div>\n",
              "<style scoped>\n",
              "    .dataframe tbody tr th:only-of-type {\n",
              "        vertical-align: middle;\n",
              "    }\n",
              "\n",
              "    .dataframe tbody tr th {\n",
              "        vertical-align: top;\n",
              "    }\n",
              "\n",
              "    .dataframe thead th {\n",
              "        text-align: right;\n",
              "    }\n",
              "</style>\n",
              "<table border=\"1\" class=\"dataframe\">\n",
              "  <thead>\n",
              "    <tr style=\"text-align: right;\">\n",
              "      <th></th>\n",
              "      <th>columna</th>\n",
              "      <th>total</th>\n",
              "      <th>completitud</th>\n",
              "    </tr>\n",
              "  </thead>\n",
              "  <tbody>\n",
              "    <tr>\n",
              "      <th>0</th>\n",
              "      <td>Your Current Country.</td>\n",
              "      <td>0</td>\n",
              "      <td>100.0</td>\n",
              "    </tr>\n",
              "    <tr>\n",
              "      <th>1</th>\n",
              "      <td>Your Current Zip Code / Pin Code</td>\n",
              "      <td>0</td>\n",
              "      <td>100.0</td>\n",
              "    </tr>\n",
              "    <tr>\n",
              "      <th>2</th>\n",
              "      <td>Your Gender</td>\n",
              "      <td>0</td>\n",
              "      <td>100.0</td>\n",
              "    </tr>\n",
              "    <tr>\n",
              "      <th>3</th>\n",
              "      <td>Which of the below factors influence the most ...</td>\n",
              "      <td>0</td>\n",
              "      <td>100.0</td>\n",
              "    </tr>\n",
              "    <tr>\n",
              "      <th>4</th>\n",
              "      <td>Would you definitely pursue a Higher Education...</td>\n",
              "      <td>0</td>\n",
              "      <td>100.0</td>\n",
              "    </tr>\n",
              "    <tr>\n",
              "      <th>5</th>\n",
              "      <td>How likely is that you will work for one emplo...</td>\n",
              "      <td>0</td>\n",
              "      <td>100.0</td>\n",
              "    </tr>\n",
              "    <tr>\n",
              "      <th>6</th>\n",
              "      <td>Would you work for a company whose mission is ...</td>\n",
              "      <td>0</td>\n",
              "      <td>100.0</td>\n",
              "    </tr>\n",
              "    <tr>\n",
              "      <th>7</th>\n",
              "      <td>How likely would you work for a company whose ...</td>\n",
              "      <td>0</td>\n",
              "      <td>100.0</td>\n",
              "    </tr>\n",
              "    <tr>\n",
              "      <th>8</th>\n",
              "      <td>How likely would you work for a company whose ...</td>\n",
              "      <td>0</td>\n",
              "      <td>100.0</td>\n",
              "    </tr>\n",
              "    <tr>\n",
              "      <th>9</th>\n",
              "      <td>What is the most preferred working environment...</td>\n",
              "      <td>0</td>\n",
              "      <td>100.0</td>\n",
              "    </tr>\n",
              "    <tr>\n",
              "      <th>10</th>\n",
              "      <td>Which of the below Employers would you work with.</td>\n",
              "      <td>0</td>\n",
              "      <td>100.0</td>\n",
              "    </tr>\n",
              "    <tr>\n",
              "      <th>11</th>\n",
              "      <td>Which type of learning environment that you ar...</td>\n",
              "      <td>0</td>\n",
              "      <td>100.0</td>\n",
              "    </tr>\n",
              "    <tr>\n",
              "      <th>12</th>\n",
              "      <td>Which of the below careers looks close to your...</td>\n",
              "      <td>0</td>\n",
              "      <td>100.0</td>\n",
              "    </tr>\n",
              "    <tr>\n",
              "      <th>13</th>\n",
              "      <td>What type of Manager would you work without lo...</td>\n",
              "      <td>0</td>\n",
              "      <td>100.0</td>\n",
              "    </tr>\n",
              "    <tr>\n",
              "      <th>14</th>\n",
              "      <td>Which of the following setup you would like to...</td>\n",
              "      <td>0</td>\n",
              "      <td>100.0</td>\n",
              "    </tr>\n",
              "  </tbody>\n",
              "</table>\n",
              "</div>"
            ],
            "text/plain": [
              "                                              columna  total  completitud\n",
              "0                               Your Current Country.      0        100.0\n",
              "1                    Your Current Zip Code / Pin Code      0        100.0\n",
              "2                                         Your Gender      0        100.0\n",
              "3   Which of the below factors influence the most ...      0        100.0\n",
              "4   Would you definitely pursue a Higher Education...      0        100.0\n",
              "5   How likely is that you will work for one emplo...      0        100.0\n",
              "6   Would you work for a company whose mission is ...      0        100.0\n",
              "7   How likely would you work for a company whose ...      0        100.0\n",
              "8   How likely would you work for a company whose ...      0        100.0\n",
              "9   What is the most preferred working environment...      0        100.0\n",
              "10  Which of the below Employers would you work with.      0        100.0\n",
              "11  Which type of learning environment that you ar...      0        100.0\n",
              "12  Which of the below careers looks close to your...      0        100.0\n",
              "13  What type of Manager would you work without lo...      0        100.0\n",
              "14  Which of the following setup you would like to...      0        100.0"
            ]
          },
          "execution_count": 5,
          "metadata": {},
          "output_type": "execute_result"
        }
      ],
      "source": [
        "#Verificamos la completitud de los datos\n",
        "completitud = pd.DataFrame(df.isnull().sum())\n",
        "completitud.reset_index(inplace = True)\n",
        "completitud = completitud.rename(columns = {\"index\":\"columna\", 0:\"total\"})\n",
        "completitud[\"completitud\"] = (1 - completitud[\"total\"] / df.shape[0]) * 100\n",
        "completitud = completitud.sort_values(by = \"completitud\", ascending=True)\n",
        "completitud.reset_index(drop = True, inplace=True)\n",
        "completitud"
      ]
    },
    {
      "cell_type": "code",
      "execution_count": 8,
      "metadata": {},
      "outputs": [
        {
          "data": {
            "text/plain": [
              "count    235.000000\n",
              "mean       5.272340\n",
              "std        2.479463\n",
              "min        1.000000\n",
              "25%        3.000000\n",
              "50%        5.000000\n",
              "75%        7.000000\n",
              "max       10.000000\n",
              "Name: How likely would you work for a company whose mission is not bringing social impact ?, dtype: float64"
            ]
          },
          "execution_count": 8,
          "metadata": {},
          "output_type": "execute_result"
        }
      ],
      "source": [
        "df['How likely would you work for a company whose mission is not bringing social impact ?'].describe()  # Solo para explorar si hay algo relevante\n"
      ]
    },
    {
      "cell_type": "code",
      "execution_count": 64,
      "metadata": {},
      "outputs": [
        {
          "data": {
            "text/plain": [
              "India                       231\n",
              "Germany                       2\n",
              "United Arab Emirates          1\n",
              "United States of America      1\n",
              "Name: Your Current Country., dtype: int64"
            ]
          },
          "execution_count": 64,
          "metadata": {},
          "output_type": "execute_result"
        }
      ],
      "source": [
        "country = df[\"Your Current Country.\"].value_counts()\n",
        "country\n"
      ]
    },
    {
      "cell_type": "code",
      "execution_count": 28,
      "metadata": {},
      "outputs": [
        {
          "data": {
            "text/plain": [
              "205      1234\n",
              "218      2004\n",
              "27      27287\n",
              "128     81827\n",
              "108     83024\n",
              "        ...  \n",
              "105    852131\n",
              "23     852201\n",
              "26     852201\n",
              "33     852201\n",
              "60     852218\n",
              "Name: Your Current Zip Code / Pin Code, Length: 235, dtype: int64"
            ]
          },
          "execution_count": 28,
          "metadata": {},
          "output_type": "execute_result"
        }
      ],
      "source": [
        "#zip_code = df[\"Your Current Zip Code / Pin Code\"].value_counts()\n",
        "zip_code = df[\"Your Current Zip Code / Pin Code\"].sort_values()\n",
        "zip_code"
      ]
    },
    {
      "cell_type": "code",
      "execution_count": 4,
      "metadata": {},
      "outputs": [
        {
          "data": {
            "application/vnd.plotly.v1+json": {
              "config": {
                "plotlyServerURL": "https://plot.ly"
              },
              "data": [
                {
                  "labels": [
                    "India",
                    "Germany",
                    "United Arab Emirates",
                    "United States of America"
                  ],
                  "marker": {
                    "colors": [
                      "#DAA520",
                      "#2ca02c",
                      "#000080",
                      "#d62728"
                    ]
                  },
                  "pull": [
                    0,
                    0.1,
                    0.2,
                    0.3
                  ],
                  "type": "pie",
                  "values": [
                    231,
                    2,
                    1,
                    1
                  ]
                }
              ],
              "layout": {
                "template": {
                  "data": {
                    "bar": [
                      {
                        "error_x": {
                          "color": "#2a3f5f"
                        },
                        "error_y": {
                          "color": "#2a3f5f"
                        },
                        "marker": {
                          "line": {
                            "color": "#E5ECF6",
                            "width": 0.5
                          },
                          "pattern": {
                            "fillmode": "overlay",
                            "size": 10,
                            "solidity": 0.2
                          }
                        },
                        "type": "bar"
                      }
                    ],
                    "barpolar": [
                      {
                        "marker": {
                          "line": {
                            "color": "#E5ECF6",
                            "width": 0.5
                          },
                          "pattern": {
                            "fillmode": "overlay",
                            "size": 10,
                            "solidity": 0.2
                          }
                        },
                        "type": "barpolar"
                      }
                    ],
                    "carpet": [
                      {
                        "aaxis": {
                          "endlinecolor": "#2a3f5f",
                          "gridcolor": "white",
                          "linecolor": "white",
                          "minorgridcolor": "white",
                          "startlinecolor": "#2a3f5f"
                        },
                        "baxis": {
                          "endlinecolor": "#2a3f5f",
                          "gridcolor": "white",
                          "linecolor": "white",
                          "minorgridcolor": "white",
                          "startlinecolor": "#2a3f5f"
                        },
                        "type": "carpet"
                      }
                    ],
                    "choropleth": [
                      {
                        "colorbar": {
                          "outlinewidth": 0,
                          "ticks": ""
                        },
                        "type": "choropleth"
                      }
                    ],
                    "contour": [
                      {
                        "colorbar": {
                          "outlinewidth": 0,
                          "ticks": ""
                        },
                        "colorscale": [
                          [
                            0,
                            "#0d0887"
                          ],
                          [
                            0.1111111111111111,
                            "#46039f"
                          ],
                          [
                            0.2222222222222222,
                            "#7201a8"
                          ],
                          [
                            0.3333333333333333,
                            "#9c179e"
                          ],
                          [
                            0.4444444444444444,
                            "#bd3786"
                          ],
                          [
                            0.5555555555555556,
                            "#d8576b"
                          ],
                          [
                            0.6666666666666666,
                            "#ed7953"
                          ],
                          [
                            0.7777777777777778,
                            "#fb9f3a"
                          ],
                          [
                            0.8888888888888888,
                            "#fdca26"
                          ],
                          [
                            1,
                            "#f0f921"
                          ]
                        ],
                        "type": "contour"
                      }
                    ],
                    "contourcarpet": [
                      {
                        "colorbar": {
                          "outlinewidth": 0,
                          "ticks": ""
                        },
                        "type": "contourcarpet"
                      }
                    ],
                    "heatmap": [
                      {
                        "colorbar": {
                          "outlinewidth": 0,
                          "ticks": ""
                        },
                        "colorscale": [
                          [
                            0,
                            "#0d0887"
                          ],
                          [
                            0.1111111111111111,
                            "#46039f"
                          ],
                          [
                            0.2222222222222222,
                            "#7201a8"
                          ],
                          [
                            0.3333333333333333,
                            "#9c179e"
                          ],
                          [
                            0.4444444444444444,
                            "#bd3786"
                          ],
                          [
                            0.5555555555555556,
                            "#d8576b"
                          ],
                          [
                            0.6666666666666666,
                            "#ed7953"
                          ],
                          [
                            0.7777777777777778,
                            "#fb9f3a"
                          ],
                          [
                            0.8888888888888888,
                            "#fdca26"
                          ],
                          [
                            1,
                            "#f0f921"
                          ]
                        ],
                        "type": "heatmap"
                      }
                    ],
                    "heatmapgl": [
                      {
                        "colorbar": {
                          "outlinewidth": 0,
                          "ticks": ""
                        },
                        "colorscale": [
                          [
                            0,
                            "#0d0887"
                          ],
                          [
                            0.1111111111111111,
                            "#46039f"
                          ],
                          [
                            0.2222222222222222,
                            "#7201a8"
                          ],
                          [
                            0.3333333333333333,
                            "#9c179e"
                          ],
                          [
                            0.4444444444444444,
                            "#bd3786"
                          ],
                          [
                            0.5555555555555556,
                            "#d8576b"
                          ],
                          [
                            0.6666666666666666,
                            "#ed7953"
                          ],
                          [
                            0.7777777777777778,
                            "#fb9f3a"
                          ],
                          [
                            0.8888888888888888,
                            "#fdca26"
                          ],
                          [
                            1,
                            "#f0f921"
                          ]
                        ],
                        "type": "heatmapgl"
                      }
                    ],
                    "histogram": [
                      {
                        "marker": {
                          "pattern": {
                            "fillmode": "overlay",
                            "size": 10,
                            "solidity": 0.2
                          }
                        },
                        "type": "histogram"
                      }
                    ],
                    "histogram2d": [
                      {
                        "colorbar": {
                          "outlinewidth": 0,
                          "ticks": ""
                        },
                        "colorscale": [
                          [
                            0,
                            "#0d0887"
                          ],
                          [
                            0.1111111111111111,
                            "#46039f"
                          ],
                          [
                            0.2222222222222222,
                            "#7201a8"
                          ],
                          [
                            0.3333333333333333,
                            "#9c179e"
                          ],
                          [
                            0.4444444444444444,
                            "#bd3786"
                          ],
                          [
                            0.5555555555555556,
                            "#d8576b"
                          ],
                          [
                            0.6666666666666666,
                            "#ed7953"
                          ],
                          [
                            0.7777777777777778,
                            "#fb9f3a"
                          ],
                          [
                            0.8888888888888888,
                            "#fdca26"
                          ],
                          [
                            1,
                            "#f0f921"
                          ]
                        ],
                        "type": "histogram2d"
                      }
                    ],
                    "histogram2dcontour": [
                      {
                        "colorbar": {
                          "outlinewidth": 0,
                          "ticks": ""
                        },
                        "colorscale": [
                          [
                            0,
                            "#0d0887"
                          ],
                          [
                            0.1111111111111111,
                            "#46039f"
                          ],
                          [
                            0.2222222222222222,
                            "#7201a8"
                          ],
                          [
                            0.3333333333333333,
                            "#9c179e"
                          ],
                          [
                            0.4444444444444444,
                            "#bd3786"
                          ],
                          [
                            0.5555555555555556,
                            "#d8576b"
                          ],
                          [
                            0.6666666666666666,
                            "#ed7953"
                          ],
                          [
                            0.7777777777777778,
                            "#fb9f3a"
                          ],
                          [
                            0.8888888888888888,
                            "#fdca26"
                          ],
                          [
                            1,
                            "#f0f921"
                          ]
                        ],
                        "type": "histogram2dcontour"
                      }
                    ],
                    "mesh3d": [
                      {
                        "colorbar": {
                          "outlinewidth": 0,
                          "ticks": ""
                        },
                        "type": "mesh3d"
                      }
                    ],
                    "parcoords": [
                      {
                        "line": {
                          "colorbar": {
                            "outlinewidth": 0,
                            "ticks": ""
                          }
                        },
                        "type": "parcoords"
                      }
                    ],
                    "pie": [
                      {
                        "automargin": true,
                        "type": "pie"
                      }
                    ],
                    "scatter": [
                      {
                        "fillpattern": {
                          "fillmode": "overlay",
                          "size": 10,
                          "solidity": 0.2
                        },
                        "type": "scatter"
                      }
                    ],
                    "scatter3d": [
                      {
                        "line": {
                          "colorbar": {
                            "outlinewidth": 0,
                            "ticks": ""
                          }
                        },
                        "marker": {
                          "colorbar": {
                            "outlinewidth": 0,
                            "ticks": ""
                          }
                        },
                        "type": "scatter3d"
                      }
                    ],
                    "scattercarpet": [
                      {
                        "marker": {
                          "colorbar": {
                            "outlinewidth": 0,
                            "ticks": ""
                          }
                        },
                        "type": "scattercarpet"
                      }
                    ],
                    "scattergeo": [
                      {
                        "marker": {
                          "colorbar": {
                            "outlinewidth": 0,
                            "ticks": ""
                          }
                        },
                        "type": "scattergeo"
                      }
                    ],
                    "scattergl": [
                      {
                        "marker": {
                          "colorbar": {
                            "outlinewidth": 0,
                            "ticks": ""
                          }
                        },
                        "type": "scattergl"
                      }
                    ],
                    "scattermapbox": [
                      {
                        "marker": {
                          "colorbar": {
                            "outlinewidth": 0,
                            "ticks": ""
                          }
                        },
                        "type": "scattermapbox"
                      }
                    ],
                    "scatterpolar": [
                      {
                        "marker": {
                          "colorbar": {
                            "outlinewidth": 0,
                            "ticks": ""
                          }
                        },
                        "type": "scatterpolar"
                      }
                    ],
                    "scatterpolargl": [
                      {
                        "marker": {
                          "colorbar": {
                            "outlinewidth": 0,
                            "ticks": ""
                          }
                        },
                        "type": "scatterpolargl"
                      }
                    ],
                    "scatterternary": [
                      {
                        "marker": {
                          "colorbar": {
                            "outlinewidth": 0,
                            "ticks": ""
                          }
                        },
                        "type": "scatterternary"
                      }
                    ],
                    "surface": [
                      {
                        "colorbar": {
                          "outlinewidth": 0,
                          "ticks": ""
                        },
                        "colorscale": [
                          [
                            0,
                            "#0d0887"
                          ],
                          [
                            0.1111111111111111,
                            "#46039f"
                          ],
                          [
                            0.2222222222222222,
                            "#7201a8"
                          ],
                          [
                            0.3333333333333333,
                            "#9c179e"
                          ],
                          [
                            0.4444444444444444,
                            "#bd3786"
                          ],
                          [
                            0.5555555555555556,
                            "#d8576b"
                          ],
                          [
                            0.6666666666666666,
                            "#ed7953"
                          ],
                          [
                            0.7777777777777778,
                            "#fb9f3a"
                          ],
                          [
                            0.8888888888888888,
                            "#fdca26"
                          ],
                          [
                            1,
                            "#f0f921"
                          ]
                        ],
                        "type": "surface"
                      }
                    ],
                    "table": [
                      {
                        "cells": {
                          "fill": {
                            "color": "#EBF0F8"
                          },
                          "line": {
                            "color": "white"
                          }
                        },
                        "header": {
                          "fill": {
                            "color": "#C8D4E3"
                          },
                          "line": {
                            "color": "white"
                          }
                        },
                        "type": "table"
                      }
                    ]
                  },
                  "layout": {
                    "annotationdefaults": {
                      "arrowcolor": "#2a3f5f",
                      "arrowhead": 0,
                      "arrowwidth": 1
                    },
                    "autotypenumbers": "strict",
                    "coloraxis": {
                      "colorbar": {
                        "outlinewidth": 0,
                        "ticks": ""
                      }
                    },
                    "colorscale": {
                      "diverging": [
                        [
                          0,
                          "#8e0152"
                        ],
                        [
                          0.1,
                          "#c51b7d"
                        ],
                        [
                          0.2,
                          "#de77ae"
                        ],
                        [
                          0.3,
                          "#f1b6da"
                        ],
                        [
                          0.4,
                          "#fde0ef"
                        ],
                        [
                          0.5,
                          "#f7f7f7"
                        ],
                        [
                          0.6,
                          "#e6f5d0"
                        ],
                        [
                          0.7,
                          "#b8e186"
                        ],
                        [
                          0.8,
                          "#7fbc41"
                        ],
                        [
                          0.9,
                          "#4d9221"
                        ],
                        [
                          1,
                          "#276419"
                        ]
                      ],
                      "sequential": [
                        [
                          0,
                          "#0d0887"
                        ],
                        [
                          0.1111111111111111,
                          "#46039f"
                        ],
                        [
                          0.2222222222222222,
                          "#7201a8"
                        ],
                        [
                          0.3333333333333333,
                          "#9c179e"
                        ],
                        [
                          0.4444444444444444,
                          "#bd3786"
                        ],
                        [
                          0.5555555555555556,
                          "#d8576b"
                        ],
                        [
                          0.6666666666666666,
                          "#ed7953"
                        ],
                        [
                          0.7777777777777778,
                          "#fb9f3a"
                        ],
                        [
                          0.8888888888888888,
                          "#fdca26"
                        ],
                        [
                          1,
                          "#f0f921"
                        ]
                      ],
                      "sequentialminus": [
                        [
                          0,
                          "#0d0887"
                        ],
                        [
                          0.1111111111111111,
                          "#46039f"
                        ],
                        [
                          0.2222222222222222,
                          "#7201a8"
                        ],
                        [
                          0.3333333333333333,
                          "#9c179e"
                        ],
                        [
                          0.4444444444444444,
                          "#bd3786"
                        ],
                        [
                          0.5555555555555556,
                          "#d8576b"
                        ],
                        [
                          0.6666666666666666,
                          "#ed7953"
                        ],
                        [
                          0.7777777777777778,
                          "#fb9f3a"
                        ],
                        [
                          0.8888888888888888,
                          "#fdca26"
                        ],
                        [
                          1,
                          "#f0f921"
                        ]
                      ]
                    },
                    "colorway": [
                      "#636efa",
                      "#EF553B",
                      "#00cc96",
                      "#ab63fa",
                      "#FFA15A",
                      "#19d3f3",
                      "#FF6692",
                      "#B6E880",
                      "#FF97FF",
                      "#FECB52"
                    ],
                    "font": {
                      "color": "#2a3f5f"
                    },
                    "geo": {
                      "bgcolor": "white",
                      "lakecolor": "white",
                      "landcolor": "#E5ECF6",
                      "showlakes": true,
                      "showland": true,
                      "subunitcolor": "white"
                    },
                    "hoverlabel": {
                      "align": "left"
                    },
                    "hovermode": "closest",
                    "mapbox": {
                      "style": "light"
                    },
                    "paper_bgcolor": "white",
                    "plot_bgcolor": "#E5ECF6",
                    "polar": {
                      "angularaxis": {
                        "gridcolor": "white",
                        "linecolor": "white",
                        "ticks": ""
                      },
                      "bgcolor": "#E5ECF6",
                      "radialaxis": {
                        "gridcolor": "white",
                        "linecolor": "white",
                        "ticks": ""
                      }
                    },
                    "scene": {
                      "xaxis": {
                        "backgroundcolor": "#E5ECF6",
                        "gridcolor": "white",
                        "gridwidth": 2,
                        "linecolor": "white",
                        "showbackground": true,
                        "ticks": "",
                        "zerolinecolor": "white"
                      },
                      "yaxis": {
                        "backgroundcolor": "#E5ECF6",
                        "gridcolor": "white",
                        "gridwidth": 2,
                        "linecolor": "white",
                        "showbackground": true,
                        "ticks": "",
                        "zerolinecolor": "white"
                      },
                      "zaxis": {
                        "backgroundcolor": "#E5ECF6",
                        "gridcolor": "white",
                        "gridwidth": 2,
                        "linecolor": "white",
                        "showbackground": true,
                        "ticks": "",
                        "zerolinecolor": "white"
                      }
                    },
                    "shapedefaults": {
                      "line": {
                        "color": "#2a3f5f"
                      }
                    },
                    "ternary": {
                      "aaxis": {
                        "gridcolor": "white",
                        "linecolor": "white",
                        "ticks": ""
                      },
                      "baxis": {
                        "gridcolor": "white",
                        "linecolor": "white",
                        "ticks": ""
                      },
                      "bgcolor": "#E5ECF6",
                      "caxis": {
                        "gridcolor": "white",
                        "linecolor": "white",
                        "ticks": ""
                      }
                    },
                    "title": {
                      "x": 0.05
                    },
                    "xaxis": {
                      "automargin": true,
                      "gridcolor": "white",
                      "linecolor": "white",
                      "ticks": "",
                      "title": {
                        "standoff": 15
                      },
                      "zerolinecolor": "white",
                      "zerolinewidth": 2
                    },
                    "yaxis": {
                      "automargin": true,
                      "gridcolor": "white",
                      "linecolor": "white",
                      "ticks": "",
                      "title": {
                        "standoff": 15
                      },
                      "zerolinecolor": "white",
                      "zerolinewidth": 2
                    }
                  }
                },
                "title": {
                  "text": "Your Current Country"
                }
              }
            }
          },
          "metadata": {},
          "output_type": "display_data"
        }
      ],
      "source": [
        "import plotly.graph_objects as go\n",
        "\n",
        "country = df['Your Current Country.'].value_counts()\n",
        "label = country.index\n",
        "counts = country.values\n",
        "\n",
        "# Lista de colores personalizados\n",
        "colors = ['#DAA520', '#2ca02c', '#000080', '#d62728']  \n",
        "\n",
        "\n",
        "fig = go.Figure(data=[go.Pie(labels=label, values=counts, pull=[0, 0.1, 0.2, 0.3], marker=dict(colors=colors))])\n",
        "fig.update_layout(title_text=\"Your Current Country\")\n",
        "\n",
        "fig.show()\n"
      ]
    },
    {
      "cell_type": "code",
      "execution_count": 11,
      "metadata": {},
      "outputs": [
        {
          "data": {
            "application/vnd.plotly.v1+json": {
              "config": {
                "plotlyServerURL": "https://plot.ly"
              },
              "data": [
                {
                  "marker": {
                    "color": [
                      "mediumturquoise",
                      "purple"
                    ]
                  },
                  "text": [
                    66.38,
                    33.62
                  ],
                  "textposition": "auto",
                  "type": "bar",
                  "x": [
                    "Male",
                    "Female"
                  ],
                  "y": [
                    66.38297872340425,
                    33.61702127659574
                  ]
                }
              ],
              "layout": {
                "height": 500,
                "template": {
                  "data": {
                    "bar": [
                      {
                        "error_x": {
                          "color": "#2a3f5f"
                        },
                        "error_y": {
                          "color": "#2a3f5f"
                        },
                        "marker": {
                          "line": {
                            "color": "#E5ECF6",
                            "width": 0.5
                          },
                          "pattern": {
                            "fillmode": "overlay",
                            "size": 10,
                            "solidity": 0.2
                          }
                        },
                        "type": "bar"
                      }
                    ],
                    "barpolar": [
                      {
                        "marker": {
                          "line": {
                            "color": "#E5ECF6",
                            "width": 0.5
                          },
                          "pattern": {
                            "fillmode": "overlay",
                            "size": 10,
                            "solidity": 0.2
                          }
                        },
                        "type": "barpolar"
                      }
                    ],
                    "carpet": [
                      {
                        "aaxis": {
                          "endlinecolor": "#2a3f5f",
                          "gridcolor": "white",
                          "linecolor": "white",
                          "minorgridcolor": "white",
                          "startlinecolor": "#2a3f5f"
                        },
                        "baxis": {
                          "endlinecolor": "#2a3f5f",
                          "gridcolor": "white",
                          "linecolor": "white",
                          "minorgridcolor": "white",
                          "startlinecolor": "#2a3f5f"
                        },
                        "type": "carpet"
                      }
                    ],
                    "choropleth": [
                      {
                        "colorbar": {
                          "outlinewidth": 0,
                          "ticks": ""
                        },
                        "type": "choropleth"
                      }
                    ],
                    "contour": [
                      {
                        "colorbar": {
                          "outlinewidth": 0,
                          "ticks": ""
                        },
                        "colorscale": [
                          [
                            0,
                            "#0d0887"
                          ],
                          [
                            0.1111111111111111,
                            "#46039f"
                          ],
                          [
                            0.2222222222222222,
                            "#7201a8"
                          ],
                          [
                            0.3333333333333333,
                            "#9c179e"
                          ],
                          [
                            0.4444444444444444,
                            "#bd3786"
                          ],
                          [
                            0.5555555555555556,
                            "#d8576b"
                          ],
                          [
                            0.6666666666666666,
                            "#ed7953"
                          ],
                          [
                            0.7777777777777778,
                            "#fb9f3a"
                          ],
                          [
                            0.8888888888888888,
                            "#fdca26"
                          ],
                          [
                            1,
                            "#f0f921"
                          ]
                        ],
                        "type": "contour"
                      }
                    ],
                    "contourcarpet": [
                      {
                        "colorbar": {
                          "outlinewidth": 0,
                          "ticks": ""
                        },
                        "type": "contourcarpet"
                      }
                    ],
                    "heatmap": [
                      {
                        "colorbar": {
                          "outlinewidth": 0,
                          "ticks": ""
                        },
                        "colorscale": [
                          [
                            0,
                            "#0d0887"
                          ],
                          [
                            0.1111111111111111,
                            "#46039f"
                          ],
                          [
                            0.2222222222222222,
                            "#7201a8"
                          ],
                          [
                            0.3333333333333333,
                            "#9c179e"
                          ],
                          [
                            0.4444444444444444,
                            "#bd3786"
                          ],
                          [
                            0.5555555555555556,
                            "#d8576b"
                          ],
                          [
                            0.6666666666666666,
                            "#ed7953"
                          ],
                          [
                            0.7777777777777778,
                            "#fb9f3a"
                          ],
                          [
                            0.8888888888888888,
                            "#fdca26"
                          ],
                          [
                            1,
                            "#f0f921"
                          ]
                        ],
                        "type": "heatmap"
                      }
                    ],
                    "heatmapgl": [
                      {
                        "colorbar": {
                          "outlinewidth": 0,
                          "ticks": ""
                        },
                        "colorscale": [
                          [
                            0,
                            "#0d0887"
                          ],
                          [
                            0.1111111111111111,
                            "#46039f"
                          ],
                          [
                            0.2222222222222222,
                            "#7201a8"
                          ],
                          [
                            0.3333333333333333,
                            "#9c179e"
                          ],
                          [
                            0.4444444444444444,
                            "#bd3786"
                          ],
                          [
                            0.5555555555555556,
                            "#d8576b"
                          ],
                          [
                            0.6666666666666666,
                            "#ed7953"
                          ],
                          [
                            0.7777777777777778,
                            "#fb9f3a"
                          ],
                          [
                            0.8888888888888888,
                            "#fdca26"
                          ],
                          [
                            1,
                            "#f0f921"
                          ]
                        ],
                        "type": "heatmapgl"
                      }
                    ],
                    "histogram": [
                      {
                        "marker": {
                          "pattern": {
                            "fillmode": "overlay",
                            "size": 10,
                            "solidity": 0.2
                          }
                        },
                        "type": "histogram"
                      }
                    ],
                    "histogram2d": [
                      {
                        "colorbar": {
                          "outlinewidth": 0,
                          "ticks": ""
                        },
                        "colorscale": [
                          [
                            0,
                            "#0d0887"
                          ],
                          [
                            0.1111111111111111,
                            "#46039f"
                          ],
                          [
                            0.2222222222222222,
                            "#7201a8"
                          ],
                          [
                            0.3333333333333333,
                            "#9c179e"
                          ],
                          [
                            0.4444444444444444,
                            "#bd3786"
                          ],
                          [
                            0.5555555555555556,
                            "#d8576b"
                          ],
                          [
                            0.6666666666666666,
                            "#ed7953"
                          ],
                          [
                            0.7777777777777778,
                            "#fb9f3a"
                          ],
                          [
                            0.8888888888888888,
                            "#fdca26"
                          ],
                          [
                            1,
                            "#f0f921"
                          ]
                        ],
                        "type": "histogram2d"
                      }
                    ],
                    "histogram2dcontour": [
                      {
                        "colorbar": {
                          "outlinewidth": 0,
                          "ticks": ""
                        },
                        "colorscale": [
                          [
                            0,
                            "#0d0887"
                          ],
                          [
                            0.1111111111111111,
                            "#46039f"
                          ],
                          [
                            0.2222222222222222,
                            "#7201a8"
                          ],
                          [
                            0.3333333333333333,
                            "#9c179e"
                          ],
                          [
                            0.4444444444444444,
                            "#bd3786"
                          ],
                          [
                            0.5555555555555556,
                            "#d8576b"
                          ],
                          [
                            0.6666666666666666,
                            "#ed7953"
                          ],
                          [
                            0.7777777777777778,
                            "#fb9f3a"
                          ],
                          [
                            0.8888888888888888,
                            "#fdca26"
                          ],
                          [
                            1,
                            "#f0f921"
                          ]
                        ],
                        "type": "histogram2dcontour"
                      }
                    ],
                    "mesh3d": [
                      {
                        "colorbar": {
                          "outlinewidth": 0,
                          "ticks": ""
                        },
                        "type": "mesh3d"
                      }
                    ],
                    "parcoords": [
                      {
                        "line": {
                          "colorbar": {
                            "outlinewidth": 0,
                            "ticks": ""
                          }
                        },
                        "type": "parcoords"
                      }
                    ],
                    "pie": [
                      {
                        "automargin": true,
                        "type": "pie"
                      }
                    ],
                    "scatter": [
                      {
                        "fillpattern": {
                          "fillmode": "overlay",
                          "size": 10,
                          "solidity": 0.2
                        },
                        "type": "scatter"
                      }
                    ],
                    "scatter3d": [
                      {
                        "line": {
                          "colorbar": {
                            "outlinewidth": 0,
                            "ticks": ""
                          }
                        },
                        "marker": {
                          "colorbar": {
                            "outlinewidth": 0,
                            "ticks": ""
                          }
                        },
                        "type": "scatter3d"
                      }
                    ],
                    "scattercarpet": [
                      {
                        "marker": {
                          "colorbar": {
                            "outlinewidth": 0,
                            "ticks": ""
                          }
                        },
                        "type": "scattercarpet"
                      }
                    ],
                    "scattergeo": [
                      {
                        "marker": {
                          "colorbar": {
                            "outlinewidth": 0,
                            "ticks": ""
                          }
                        },
                        "type": "scattergeo"
                      }
                    ],
                    "scattergl": [
                      {
                        "marker": {
                          "colorbar": {
                            "outlinewidth": 0,
                            "ticks": ""
                          }
                        },
                        "type": "scattergl"
                      }
                    ],
                    "scattermapbox": [
                      {
                        "marker": {
                          "colorbar": {
                            "outlinewidth": 0,
                            "ticks": ""
                          }
                        },
                        "type": "scattermapbox"
                      }
                    ],
                    "scatterpolar": [
                      {
                        "marker": {
                          "colorbar": {
                            "outlinewidth": 0,
                            "ticks": ""
                          }
                        },
                        "type": "scatterpolar"
                      }
                    ],
                    "scatterpolargl": [
                      {
                        "marker": {
                          "colorbar": {
                            "outlinewidth": 0,
                            "ticks": ""
                          }
                        },
                        "type": "scatterpolargl"
                      }
                    ],
                    "scatterternary": [
                      {
                        "marker": {
                          "colorbar": {
                            "outlinewidth": 0,
                            "ticks": ""
                          }
                        },
                        "type": "scatterternary"
                      }
                    ],
                    "surface": [
                      {
                        "colorbar": {
                          "outlinewidth": 0,
                          "ticks": ""
                        },
                        "colorscale": [
                          [
                            0,
                            "#0d0887"
                          ],
                          [
                            0.1111111111111111,
                            "#46039f"
                          ],
                          [
                            0.2222222222222222,
                            "#7201a8"
                          ],
                          [
                            0.3333333333333333,
                            "#9c179e"
                          ],
                          [
                            0.4444444444444444,
                            "#bd3786"
                          ],
                          [
                            0.5555555555555556,
                            "#d8576b"
                          ],
                          [
                            0.6666666666666666,
                            "#ed7953"
                          ],
                          [
                            0.7777777777777778,
                            "#fb9f3a"
                          ],
                          [
                            0.8888888888888888,
                            "#fdca26"
                          ],
                          [
                            1,
                            "#f0f921"
                          ]
                        ],
                        "type": "surface"
                      }
                    ],
                    "table": [
                      {
                        "cells": {
                          "fill": {
                            "color": "#EBF0F8"
                          },
                          "line": {
                            "color": "white"
                          }
                        },
                        "header": {
                          "fill": {
                            "color": "#C8D4E3"
                          },
                          "line": {
                            "color": "white"
                          }
                        },
                        "type": "table"
                      }
                    ]
                  },
                  "layout": {
                    "annotationdefaults": {
                      "arrowcolor": "#2a3f5f",
                      "arrowhead": 0,
                      "arrowwidth": 1
                    },
                    "autotypenumbers": "strict",
                    "coloraxis": {
                      "colorbar": {
                        "outlinewidth": 0,
                        "ticks": ""
                      }
                    },
                    "colorscale": {
                      "diverging": [
                        [
                          0,
                          "#8e0152"
                        ],
                        [
                          0.1,
                          "#c51b7d"
                        ],
                        [
                          0.2,
                          "#de77ae"
                        ],
                        [
                          0.3,
                          "#f1b6da"
                        ],
                        [
                          0.4,
                          "#fde0ef"
                        ],
                        [
                          0.5,
                          "#f7f7f7"
                        ],
                        [
                          0.6,
                          "#e6f5d0"
                        ],
                        [
                          0.7,
                          "#b8e186"
                        ],
                        [
                          0.8,
                          "#7fbc41"
                        ],
                        [
                          0.9,
                          "#4d9221"
                        ],
                        [
                          1,
                          "#276419"
                        ]
                      ],
                      "sequential": [
                        [
                          0,
                          "#0d0887"
                        ],
                        [
                          0.1111111111111111,
                          "#46039f"
                        ],
                        [
                          0.2222222222222222,
                          "#7201a8"
                        ],
                        [
                          0.3333333333333333,
                          "#9c179e"
                        ],
                        [
                          0.4444444444444444,
                          "#bd3786"
                        ],
                        [
                          0.5555555555555556,
                          "#d8576b"
                        ],
                        [
                          0.6666666666666666,
                          "#ed7953"
                        ],
                        [
                          0.7777777777777778,
                          "#fb9f3a"
                        ],
                        [
                          0.8888888888888888,
                          "#fdca26"
                        ],
                        [
                          1,
                          "#f0f921"
                        ]
                      ],
                      "sequentialminus": [
                        [
                          0,
                          "#0d0887"
                        ],
                        [
                          0.1111111111111111,
                          "#46039f"
                        ],
                        [
                          0.2222222222222222,
                          "#7201a8"
                        ],
                        [
                          0.3333333333333333,
                          "#9c179e"
                        ],
                        [
                          0.4444444444444444,
                          "#bd3786"
                        ],
                        [
                          0.5555555555555556,
                          "#d8576b"
                        ],
                        [
                          0.6666666666666666,
                          "#ed7953"
                        ],
                        [
                          0.7777777777777778,
                          "#fb9f3a"
                        ],
                        [
                          0.8888888888888888,
                          "#fdca26"
                        ],
                        [
                          1,
                          "#f0f921"
                        ]
                      ]
                    },
                    "colorway": [
                      "#636efa",
                      "#EF553B",
                      "#00cc96",
                      "#ab63fa",
                      "#FFA15A",
                      "#19d3f3",
                      "#FF6692",
                      "#B6E880",
                      "#FF97FF",
                      "#FECB52"
                    ],
                    "font": {
                      "color": "#2a3f5f"
                    },
                    "geo": {
                      "bgcolor": "white",
                      "lakecolor": "white",
                      "landcolor": "#E5ECF6",
                      "showlakes": true,
                      "showland": true,
                      "subunitcolor": "white"
                    },
                    "hoverlabel": {
                      "align": "left"
                    },
                    "hovermode": "closest",
                    "mapbox": {
                      "style": "light"
                    },
                    "paper_bgcolor": "white",
                    "plot_bgcolor": "#E5ECF6",
                    "polar": {
                      "angularaxis": {
                        "gridcolor": "white",
                        "linecolor": "white",
                        "ticks": ""
                      },
                      "bgcolor": "#E5ECF6",
                      "radialaxis": {
                        "gridcolor": "white",
                        "linecolor": "white",
                        "ticks": ""
                      }
                    },
                    "scene": {
                      "xaxis": {
                        "backgroundcolor": "#E5ECF6",
                        "gridcolor": "white",
                        "gridwidth": 2,
                        "linecolor": "white",
                        "showbackground": true,
                        "ticks": "",
                        "zerolinecolor": "white"
                      },
                      "yaxis": {
                        "backgroundcolor": "#E5ECF6",
                        "gridcolor": "white",
                        "gridwidth": 2,
                        "linecolor": "white",
                        "showbackground": true,
                        "ticks": "",
                        "zerolinecolor": "white"
                      },
                      "zaxis": {
                        "backgroundcolor": "#E5ECF6",
                        "gridcolor": "white",
                        "gridwidth": 2,
                        "linecolor": "white",
                        "showbackground": true,
                        "ticks": "",
                        "zerolinecolor": "white"
                      }
                    },
                    "shapedefaults": {
                      "line": {
                        "color": "#2a3f5f"
                      }
                    },
                    "ternary": {
                      "aaxis": {
                        "gridcolor": "white",
                        "linecolor": "white",
                        "ticks": ""
                      },
                      "baxis": {
                        "gridcolor": "white",
                        "linecolor": "white",
                        "ticks": ""
                      },
                      "bgcolor": "#E5ECF6",
                      "caxis": {
                        "gridcolor": "white",
                        "linecolor": "white",
                        "ticks": ""
                      }
                    },
                    "title": {
                      "x": 0.05
                    },
                    "xaxis": {
                      "automargin": true,
                      "gridcolor": "white",
                      "linecolor": "white",
                      "ticks": "",
                      "title": {
                        "standoff": 15
                      },
                      "zerolinecolor": "white",
                      "zerolinewidth": 2
                    },
                    "yaxis": {
                      "automargin": true,
                      "gridcolor": "white",
                      "linecolor": "white",
                      "ticks": "",
                      "title": {
                        "standoff": 15
                      },
                      "zerolinecolor": "white",
                      "zerolinewidth": 2
                    }
                  }
                },
                "title": {
                  "text": "Your Gender"
                },
                "width": 400,
                "xaxis": {
                  "title": {
                    "text": "Género"
                  }
                },
                "yaxis": {
                  "title": {
                    "text": "Porcentaje %"
                  }
                }
              }
            }
          },
          "metadata": {},
          "output_type": "display_data"
        }
      ],
      "source": [
        "# Contar la cantidad de valores 'male' y 'female' en la columna 'gender'\n",
        "genero = df['Your Gender'].value_counts()\n",
        "\n",
        "# Calcular el porcentaje de cada género\n",
        "porcentaje = (genero / genero.sum()) * 100\n",
        "\n",
        "# Crear la figura\n",
        "fig = go.Figure(data=[go.Bar(x=genero.index, y=porcentaje, text=porcentaje.round(2), textposition='auto', marker_color=['mediumturquoise', 'purple'])])\n",
        "\n",
        "# Actualizar el layout\n",
        "fig.update_layout(title='Your Gender',\n",
        "                   xaxis_title='Género', \n",
        "                   yaxis_title='Porcentaje %',\n",
        "                    height= 500, \n",
        "                    width = 400)\n",
        "\n",
        "# Mostrar la gráfica\n",
        "fig.show()\n",
        "\n"
      ]
    },
    {
      "cell_type": "code",
      "execution_count": 29,
      "metadata": {},
      "outputs": [
        {
          "name": "stdout",
          "output_type": "stream",
          "text": [
            "My Parents                                       79\n",
            "People who have changed the world for better     57\n",
            "People from my circle, but not family members    39\n",
            "Influencers who had successful careers           37\n",
            "Social Media like LinkedIn                       23\n",
            "Name: Which of the below factors influence the most about your career aspirations ?, dtype: int64\n"
          ]
        },
        {
          "data": {
            "application/vnd.plotly.v1+json": {
              "config": {
                "plotlyServerURL": "https://plot.ly"
              },
              "data": [
                {
                  "marker": {
                    "color": [
                      "purple",
                      "mediumturquoise",
                      "gold",
                      "darkblue",
                      "red",
                      "pink",
                      "yellow",
                      "purple",
                      "lightgray"
                    ]
                  },
                  "type": "bar",
                  "x": [
                    "My Parents",
                    "People who have changed the world for better",
                    "People from my circle, but not family members",
                    "Influencers who had successful careers",
                    "Social Media like LinkedIn"
                  ],
                  "y": [
                    79,
                    57,
                    39,
                    37,
                    23
                  ]
                }
              ],
              "layout": {
                "annotations": [
                  {
                    "font": {
                      "color": "black",
                      "size": 12
                    },
                    "showarrow": false,
                    "text": "79",
                    "x": "My Parents",
                    "xanchor": "center",
                    "y": 79,
                    "yanchor": "bottom"
                  },
                  {
                    "font": {
                      "color": "black",
                      "size": 12
                    },
                    "showarrow": false,
                    "text": "57",
                    "x": "People who have changed the world for better",
                    "xanchor": "center",
                    "y": 57,
                    "yanchor": "bottom"
                  },
                  {
                    "font": {
                      "color": "black",
                      "size": 12
                    },
                    "showarrow": false,
                    "text": "39",
                    "x": "People from my circle, but not family members",
                    "xanchor": "center",
                    "y": 39,
                    "yanchor": "bottom"
                  },
                  {
                    "font": {
                      "color": "black",
                      "size": 12
                    },
                    "showarrow": false,
                    "text": "37",
                    "x": "Influencers who had successful careers",
                    "xanchor": "center",
                    "y": 37,
                    "yanchor": "bottom"
                  },
                  {
                    "font": {
                      "color": "black",
                      "size": 12
                    },
                    "showarrow": false,
                    "text": "23",
                    "x": "Social Media like LinkedIn",
                    "xanchor": "center",
                    "y": 23,
                    "yanchor": "bottom"
                  }
                ],
                "height": 600,
                "template": {
                  "data": {
                    "bar": [
                      {
                        "error_x": {
                          "color": "#2a3f5f"
                        },
                        "error_y": {
                          "color": "#2a3f5f"
                        },
                        "marker": {
                          "line": {
                            "color": "#E5ECF6",
                            "width": 0.5
                          },
                          "pattern": {
                            "fillmode": "overlay",
                            "size": 10,
                            "solidity": 0.2
                          }
                        },
                        "type": "bar"
                      }
                    ],
                    "barpolar": [
                      {
                        "marker": {
                          "line": {
                            "color": "#E5ECF6",
                            "width": 0.5
                          },
                          "pattern": {
                            "fillmode": "overlay",
                            "size": 10,
                            "solidity": 0.2
                          }
                        },
                        "type": "barpolar"
                      }
                    ],
                    "carpet": [
                      {
                        "aaxis": {
                          "endlinecolor": "#2a3f5f",
                          "gridcolor": "white",
                          "linecolor": "white",
                          "minorgridcolor": "white",
                          "startlinecolor": "#2a3f5f"
                        },
                        "baxis": {
                          "endlinecolor": "#2a3f5f",
                          "gridcolor": "white",
                          "linecolor": "white",
                          "minorgridcolor": "white",
                          "startlinecolor": "#2a3f5f"
                        },
                        "type": "carpet"
                      }
                    ],
                    "choropleth": [
                      {
                        "colorbar": {
                          "outlinewidth": 0,
                          "ticks": ""
                        },
                        "type": "choropleth"
                      }
                    ],
                    "contour": [
                      {
                        "colorbar": {
                          "outlinewidth": 0,
                          "ticks": ""
                        },
                        "colorscale": [
                          [
                            0,
                            "#0d0887"
                          ],
                          [
                            0.1111111111111111,
                            "#46039f"
                          ],
                          [
                            0.2222222222222222,
                            "#7201a8"
                          ],
                          [
                            0.3333333333333333,
                            "#9c179e"
                          ],
                          [
                            0.4444444444444444,
                            "#bd3786"
                          ],
                          [
                            0.5555555555555556,
                            "#d8576b"
                          ],
                          [
                            0.6666666666666666,
                            "#ed7953"
                          ],
                          [
                            0.7777777777777778,
                            "#fb9f3a"
                          ],
                          [
                            0.8888888888888888,
                            "#fdca26"
                          ],
                          [
                            1,
                            "#f0f921"
                          ]
                        ],
                        "type": "contour"
                      }
                    ],
                    "contourcarpet": [
                      {
                        "colorbar": {
                          "outlinewidth": 0,
                          "ticks": ""
                        },
                        "type": "contourcarpet"
                      }
                    ],
                    "heatmap": [
                      {
                        "colorbar": {
                          "outlinewidth": 0,
                          "ticks": ""
                        },
                        "colorscale": [
                          [
                            0,
                            "#0d0887"
                          ],
                          [
                            0.1111111111111111,
                            "#46039f"
                          ],
                          [
                            0.2222222222222222,
                            "#7201a8"
                          ],
                          [
                            0.3333333333333333,
                            "#9c179e"
                          ],
                          [
                            0.4444444444444444,
                            "#bd3786"
                          ],
                          [
                            0.5555555555555556,
                            "#d8576b"
                          ],
                          [
                            0.6666666666666666,
                            "#ed7953"
                          ],
                          [
                            0.7777777777777778,
                            "#fb9f3a"
                          ],
                          [
                            0.8888888888888888,
                            "#fdca26"
                          ],
                          [
                            1,
                            "#f0f921"
                          ]
                        ],
                        "type": "heatmap"
                      }
                    ],
                    "heatmapgl": [
                      {
                        "colorbar": {
                          "outlinewidth": 0,
                          "ticks": ""
                        },
                        "colorscale": [
                          [
                            0,
                            "#0d0887"
                          ],
                          [
                            0.1111111111111111,
                            "#46039f"
                          ],
                          [
                            0.2222222222222222,
                            "#7201a8"
                          ],
                          [
                            0.3333333333333333,
                            "#9c179e"
                          ],
                          [
                            0.4444444444444444,
                            "#bd3786"
                          ],
                          [
                            0.5555555555555556,
                            "#d8576b"
                          ],
                          [
                            0.6666666666666666,
                            "#ed7953"
                          ],
                          [
                            0.7777777777777778,
                            "#fb9f3a"
                          ],
                          [
                            0.8888888888888888,
                            "#fdca26"
                          ],
                          [
                            1,
                            "#f0f921"
                          ]
                        ],
                        "type": "heatmapgl"
                      }
                    ],
                    "histogram": [
                      {
                        "marker": {
                          "pattern": {
                            "fillmode": "overlay",
                            "size": 10,
                            "solidity": 0.2
                          }
                        },
                        "type": "histogram"
                      }
                    ],
                    "histogram2d": [
                      {
                        "colorbar": {
                          "outlinewidth": 0,
                          "ticks": ""
                        },
                        "colorscale": [
                          [
                            0,
                            "#0d0887"
                          ],
                          [
                            0.1111111111111111,
                            "#46039f"
                          ],
                          [
                            0.2222222222222222,
                            "#7201a8"
                          ],
                          [
                            0.3333333333333333,
                            "#9c179e"
                          ],
                          [
                            0.4444444444444444,
                            "#bd3786"
                          ],
                          [
                            0.5555555555555556,
                            "#d8576b"
                          ],
                          [
                            0.6666666666666666,
                            "#ed7953"
                          ],
                          [
                            0.7777777777777778,
                            "#fb9f3a"
                          ],
                          [
                            0.8888888888888888,
                            "#fdca26"
                          ],
                          [
                            1,
                            "#f0f921"
                          ]
                        ],
                        "type": "histogram2d"
                      }
                    ],
                    "histogram2dcontour": [
                      {
                        "colorbar": {
                          "outlinewidth": 0,
                          "ticks": ""
                        },
                        "colorscale": [
                          [
                            0,
                            "#0d0887"
                          ],
                          [
                            0.1111111111111111,
                            "#46039f"
                          ],
                          [
                            0.2222222222222222,
                            "#7201a8"
                          ],
                          [
                            0.3333333333333333,
                            "#9c179e"
                          ],
                          [
                            0.4444444444444444,
                            "#bd3786"
                          ],
                          [
                            0.5555555555555556,
                            "#d8576b"
                          ],
                          [
                            0.6666666666666666,
                            "#ed7953"
                          ],
                          [
                            0.7777777777777778,
                            "#fb9f3a"
                          ],
                          [
                            0.8888888888888888,
                            "#fdca26"
                          ],
                          [
                            1,
                            "#f0f921"
                          ]
                        ],
                        "type": "histogram2dcontour"
                      }
                    ],
                    "mesh3d": [
                      {
                        "colorbar": {
                          "outlinewidth": 0,
                          "ticks": ""
                        },
                        "type": "mesh3d"
                      }
                    ],
                    "parcoords": [
                      {
                        "line": {
                          "colorbar": {
                            "outlinewidth": 0,
                            "ticks": ""
                          }
                        },
                        "type": "parcoords"
                      }
                    ],
                    "pie": [
                      {
                        "automargin": true,
                        "type": "pie"
                      }
                    ],
                    "scatter": [
                      {
                        "fillpattern": {
                          "fillmode": "overlay",
                          "size": 10,
                          "solidity": 0.2
                        },
                        "type": "scatter"
                      }
                    ],
                    "scatter3d": [
                      {
                        "line": {
                          "colorbar": {
                            "outlinewidth": 0,
                            "ticks": ""
                          }
                        },
                        "marker": {
                          "colorbar": {
                            "outlinewidth": 0,
                            "ticks": ""
                          }
                        },
                        "type": "scatter3d"
                      }
                    ],
                    "scattercarpet": [
                      {
                        "marker": {
                          "colorbar": {
                            "outlinewidth": 0,
                            "ticks": ""
                          }
                        },
                        "type": "scattercarpet"
                      }
                    ],
                    "scattergeo": [
                      {
                        "marker": {
                          "colorbar": {
                            "outlinewidth": 0,
                            "ticks": ""
                          }
                        },
                        "type": "scattergeo"
                      }
                    ],
                    "scattergl": [
                      {
                        "marker": {
                          "colorbar": {
                            "outlinewidth": 0,
                            "ticks": ""
                          }
                        },
                        "type": "scattergl"
                      }
                    ],
                    "scattermapbox": [
                      {
                        "marker": {
                          "colorbar": {
                            "outlinewidth": 0,
                            "ticks": ""
                          }
                        },
                        "type": "scattermapbox"
                      }
                    ],
                    "scatterpolar": [
                      {
                        "marker": {
                          "colorbar": {
                            "outlinewidth": 0,
                            "ticks": ""
                          }
                        },
                        "type": "scatterpolar"
                      }
                    ],
                    "scatterpolargl": [
                      {
                        "marker": {
                          "colorbar": {
                            "outlinewidth": 0,
                            "ticks": ""
                          }
                        },
                        "type": "scatterpolargl"
                      }
                    ],
                    "scatterternary": [
                      {
                        "marker": {
                          "colorbar": {
                            "outlinewidth": 0,
                            "ticks": ""
                          }
                        },
                        "type": "scatterternary"
                      }
                    ],
                    "surface": [
                      {
                        "colorbar": {
                          "outlinewidth": 0,
                          "ticks": ""
                        },
                        "colorscale": [
                          [
                            0,
                            "#0d0887"
                          ],
                          [
                            0.1111111111111111,
                            "#46039f"
                          ],
                          [
                            0.2222222222222222,
                            "#7201a8"
                          ],
                          [
                            0.3333333333333333,
                            "#9c179e"
                          ],
                          [
                            0.4444444444444444,
                            "#bd3786"
                          ],
                          [
                            0.5555555555555556,
                            "#d8576b"
                          ],
                          [
                            0.6666666666666666,
                            "#ed7953"
                          ],
                          [
                            0.7777777777777778,
                            "#fb9f3a"
                          ],
                          [
                            0.8888888888888888,
                            "#fdca26"
                          ],
                          [
                            1,
                            "#f0f921"
                          ]
                        ],
                        "type": "surface"
                      }
                    ],
                    "table": [
                      {
                        "cells": {
                          "fill": {
                            "color": "#EBF0F8"
                          },
                          "line": {
                            "color": "white"
                          }
                        },
                        "header": {
                          "fill": {
                            "color": "#C8D4E3"
                          },
                          "line": {
                            "color": "white"
                          }
                        },
                        "type": "table"
                      }
                    ]
                  },
                  "layout": {
                    "annotationdefaults": {
                      "arrowcolor": "#2a3f5f",
                      "arrowhead": 0,
                      "arrowwidth": 1
                    },
                    "autotypenumbers": "strict",
                    "coloraxis": {
                      "colorbar": {
                        "outlinewidth": 0,
                        "ticks": ""
                      }
                    },
                    "colorscale": {
                      "diverging": [
                        [
                          0,
                          "#8e0152"
                        ],
                        [
                          0.1,
                          "#c51b7d"
                        ],
                        [
                          0.2,
                          "#de77ae"
                        ],
                        [
                          0.3,
                          "#f1b6da"
                        ],
                        [
                          0.4,
                          "#fde0ef"
                        ],
                        [
                          0.5,
                          "#f7f7f7"
                        ],
                        [
                          0.6,
                          "#e6f5d0"
                        ],
                        [
                          0.7,
                          "#b8e186"
                        ],
                        [
                          0.8,
                          "#7fbc41"
                        ],
                        [
                          0.9,
                          "#4d9221"
                        ],
                        [
                          1,
                          "#276419"
                        ]
                      ],
                      "sequential": [
                        [
                          0,
                          "#0d0887"
                        ],
                        [
                          0.1111111111111111,
                          "#46039f"
                        ],
                        [
                          0.2222222222222222,
                          "#7201a8"
                        ],
                        [
                          0.3333333333333333,
                          "#9c179e"
                        ],
                        [
                          0.4444444444444444,
                          "#bd3786"
                        ],
                        [
                          0.5555555555555556,
                          "#d8576b"
                        ],
                        [
                          0.6666666666666666,
                          "#ed7953"
                        ],
                        [
                          0.7777777777777778,
                          "#fb9f3a"
                        ],
                        [
                          0.8888888888888888,
                          "#fdca26"
                        ],
                        [
                          1,
                          "#f0f921"
                        ]
                      ],
                      "sequentialminus": [
                        [
                          0,
                          "#0d0887"
                        ],
                        [
                          0.1111111111111111,
                          "#46039f"
                        ],
                        [
                          0.2222222222222222,
                          "#7201a8"
                        ],
                        [
                          0.3333333333333333,
                          "#9c179e"
                        ],
                        [
                          0.4444444444444444,
                          "#bd3786"
                        ],
                        [
                          0.5555555555555556,
                          "#d8576b"
                        ],
                        [
                          0.6666666666666666,
                          "#ed7953"
                        ],
                        [
                          0.7777777777777778,
                          "#fb9f3a"
                        ],
                        [
                          0.8888888888888888,
                          "#fdca26"
                        ],
                        [
                          1,
                          "#f0f921"
                        ]
                      ]
                    },
                    "colorway": [
                      "#636efa",
                      "#EF553B",
                      "#00cc96",
                      "#ab63fa",
                      "#FFA15A",
                      "#19d3f3",
                      "#FF6692",
                      "#B6E880",
                      "#FF97FF",
                      "#FECB52"
                    ],
                    "font": {
                      "color": "#2a3f5f"
                    },
                    "geo": {
                      "bgcolor": "white",
                      "lakecolor": "white",
                      "landcolor": "#E5ECF6",
                      "showlakes": true,
                      "showland": true,
                      "subunitcolor": "white"
                    },
                    "hoverlabel": {
                      "align": "left"
                    },
                    "hovermode": "closest",
                    "mapbox": {
                      "style": "light"
                    },
                    "paper_bgcolor": "white",
                    "plot_bgcolor": "#E5ECF6",
                    "polar": {
                      "angularaxis": {
                        "gridcolor": "white",
                        "linecolor": "white",
                        "ticks": ""
                      },
                      "bgcolor": "#E5ECF6",
                      "radialaxis": {
                        "gridcolor": "white",
                        "linecolor": "white",
                        "ticks": ""
                      }
                    },
                    "scene": {
                      "xaxis": {
                        "backgroundcolor": "#E5ECF6",
                        "gridcolor": "white",
                        "gridwidth": 2,
                        "linecolor": "white",
                        "showbackground": true,
                        "ticks": "",
                        "zerolinecolor": "white"
                      },
                      "yaxis": {
                        "backgroundcolor": "#E5ECF6",
                        "gridcolor": "white",
                        "gridwidth": 2,
                        "linecolor": "white",
                        "showbackground": true,
                        "ticks": "",
                        "zerolinecolor": "white"
                      },
                      "zaxis": {
                        "backgroundcolor": "#E5ECF6",
                        "gridcolor": "white",
                        "gridwidth": 2,
                        "linecolor": "white",
                        "showbackground": true,
                        "ticks": "",
                        "zerolinecolor": "white"
                      }
                    },
                    "shapedefaults": {
                      "line": {
                        "color": "#2a3f5f"
                      }
                    },
                    "ternary": {
                      "aaxis": {
                        "gridcolor": "white",
                        "linecolor": "white",
                        "ticks": ""
                      },
                      "baxis": {
                        "gridcolor": "white",
                        "linecolor": "white",
                        "ticks": ""
                      },
                      "bgcolor": "#E5ECF6",
                      "caxis": {
                        "gridcolor": "white",
                        "linecolor": "white",
                        "ticks": ""
                      }
                    },
                    "title": {
                      "x": 0.05
                    },
                    "xaxis": {
                      "automargin": true,
                      "gridcolor": "white",
                      "linecolor": "white",
                      "ticks": "",
                      "title": {
                        "standoff": 15
                      },
                      "zerolinecolor": "white",
                      "zerolinewidth": 2
                    },
                    "yaxis": {
                      "automargin": true,
                      "gridcolor": "white",
                      "linecolor": "white",
                      "ticks": "",
                      "title": {
                        "standoff": 15
                      },
                      "zerolinecolor": "white",
                      "zerolinewidth": 2
                    }
                  }
                },
                "title": {
                  "text": "Which of the below factors influence the most about your career aspirations?"
                },
                "width": 800,
                "xaxis": {
                  "tickangle": -45,
                  "title": {
                    "text": "Factors influencing career aspirations"
                  }
                },
                "yaxis": {
                  "title": {
                    "text": "Count"
                  }
                }
              }
            }
          },
          "metadata": {},
          "output_type": "display_data"
        }
      ],
      "source": [
        "\n",
        "import plotly.graph_objects as go\n",
        "\n",
        "influence = df[\"Which of the below factors influence the most about your career aspirations ?\"].value_counts()\n",
        "print (influence)\n",
        "\n",
        "# Lista de colores para cada barra\n",
        "colors = ['purple', 'mediumturquoise', 'gold', 'darkblue', 'red', 'pink', 'yellow', 'purple', 'lightgray']\n",
        "\n",
        "# Crear el gráfico de barras\n",
        "fig = go.Figure(data=[go.Bar(x=influence.index, y=influence.values, marker_color=colors)])\n",
        "\n",
        "# Agregar etiquetas en cada barra\n",
        "for i, value in enumerate(influence.values):\n",
        "    fig.add_annotation(\n",
        "        x=influence.index[i],\n",
        "        y=value,\n",
        "        text=str(value),\n",
        "        showarrow=False,\n",
        "        font=dict(color='black', size=12),\n",
        "        xanchor='center',\n",
        "        yanchor='bottom'\n",
        "    )\n",
        "\n",
        "# Actualizar el diseño del gráfico\n",
        "fig.update_layout(\n",
        "    title=\"Which of the below factors influence the most about your career aspirations?\",\n",
        "    xaxis_title=\"Factors influencing career aspirations\",\n",
        "    yaxis_title=\"Count\",\n",
        "    xaxis_tickangle=-45,\n",
        "    height=600, \n",
        "    width = 800\n",
        ")\n",
        "\n",
        "# Mostrar el gráfico\n",
        "fig.show()\n",
        "\n"
      ]
    },
    {
      "cell_type": "code",
      "execution_count": 105,
      "metadata": {},
      "outputs": [
        {
          "data": {
            "application/vnd.plotly.v1+json": {
              "config": {
                "plotlyServerURL": "https://plot.ly"
              },
              "data": [
                {
                  "labels": [
                    "Yes, I will earn and do that",
                    "No I would not be pursuing Higher Education outside of India",
                    "No, But if someone could bare the cost I will"
                  ],
                  "marker": {
                    "colors": [
                      "gold",
                      "purple",
                      "mediumturquoise"
                    ]
                  },
                  "type": "pie",
                  "values": [
                    110,
                    65,
                    60
                  ]
                }
              ],
              "layout": {
                "showlegend": true,
                "template": {
                  "data": {
                    "bar": [
                      {
                        "error_x": {
                          "color": "#2a3f5f"
                        },
                        "error_y": {
                          "color": "#2a3f5f"
                        },
                        "marker": {
                          "line": {
                            "color": "#E5ECF6",
                            "width": 0.5
                          },
                          "pattern": {
                            "fillmode": "overlay",
                            "size": 10,
                            "solidity": 0.2
                          }
                        },
                        "type": "bar"
                      }
                    ],
                    "barpolar": [
                      {
                        "marker": {
                          "line": {
                            "color": "#E5ECF6",
                            "width": 0.5
                          },
                          "pattern": {
                            "fillmode": "overlay",
                            "size": 10,
                            "solidity": 0.2
                          }
                        },
                        "type": "barpolar"
                      }
                    ],
                    "carpet": [
                      {
                        "aaxis": {
                          "endlinecolor": "#2a3f5f",
                          "gridcolor": "white",
                          "linecolor": "white",
                          "minorgridcolor": "white",
                          "startlinecolor": "#2a3f5f"
                        },
                        "baxis": {
                          "endlinecolor": "#2a3f5f",
                          "gridcolor": "white",
                          "linecolor": "white",
                          "minorgridcolor": "white",
                          "startlinecolor": "#2a3f5f"
                        },
                        "type": "carpet"
                      }
                    ],
                    "choropleth": [
                      {
                        "colorbar": {
                          "outlinewidth": 0,
                          "ticks": ""
                        },
                        "type": "choropleth"
                      }
                    ],
                    "contour": [
                      {
                        "colorbar": {
                          "outlinewidth": 0,
                          "ticks": ""
                        },
                        "colorscale": [
                          [
                            0,
                            "#0d0887"
                          ],
                          [
                            0.1111111111111111,
                            "#46039f"
                          ],
                          [
                            0.2222222222222222,
                            "#7201a8"
                          ],
                          [
                            0.3333333333333333,
                            "#9c179e"
                          ],
                          [
                            0.4444444444444444,
                            "#bd3786"
                          ],
                          [
                            0.5555555555555556,
                            "#d8576b"
                          ],
                          [
                            0.6666666666666666,
                            "#ed7953"
                          ],
                          [
                            0.7777777777777778,
                            "#fb9f3a"
                          ],
                          [
                            0.8888888888888888,
                            "#fdca26"
                          ],
                          [
                            1,
                            "#f0f921"
                          ]
                        ],
                        "type": "contour"
                      }
                    ],
                    "contourcarpet": [
                      {
                        "colorbar": {
                          "outlinewidth": 0,
                          "ticks": ""
                        },
                        "type": "contourcarpet"
                      }
                    ],
                    "heatmap": [
                      {
                        "colorbar": {
                          "outlinewidth": 0,
                          "ticks": ""
                        },
                        "colorscale": [
                          [
                            0,
                            "#0d0887"
                          ],
                          [
                            0.1111111111111111,
                            "#46039f"
                          ],
                          [
                            0.2222222222222222,
                            "#7201a8"
                          ],
                          [
                            0.3333333333333333,
                            "#9c179e"
                          ],
                          [
                            0.4444444444444444,
                            "#bd3786"
                          ],
                          [
                            0.5555555555555556,
                            "#d8576b"
                          ],
                          [
                            0.6666666666666666,
                            "#ed7953"
                          ],
                          [
                            0.7777777777777778,
                            "#fb9f3a"
                          ],
                          [
                            0.8888888888888888,
                            "#fdca26"
                          ],
                          [
                            1,
                            "#f0f921"
                          ]
                        ],
                        "type": "heatmap"
                      }
                    ],
                    "heatmapgl": [
                      {
                        "colorbar": {
                          "outlinewidth": 0,
                          "ticks": ""
                        },
                        "colorscale": [
                          [
                            0,
                            "#0d0887"
                          ],
                          [
                            0.1111111111111111,
                            "#46039f"
                          ],
                          [
                            0.2222222222222222,
                            "#7201a8"
                          ],
                          [
                            0.3333333333333333,
                            "#9c179e"
                          ],
                          [
                            0.4444444444444444,
                            "#bd3786"
                          ],
                          [
                            0.5555555555555556,
                            "#d8576b"
                          ],
                          [
                            0.6666666666666666,
                            "#ed7953"
                          ],
                          [
                            0.7777777777777778,
                            "#fb9f3a"
                          ],
                          [
                            0.8888888888888888,
                            "#fdca26"
                          ],
                          [
                            1,
                            "#f0f921"
                          ]
                        ],
                        "type": "heatmapgl"
                      }
                    ],
                    "histogram": [
                      {
                        "marker": {
                          "pattern": {
                            "fillmode": "overlay",
                            "size": 10,
                            "solidity": 0.2
                          }
                        },
                        "type": "histogram"
                      }
                    ],
                    "histogram2d": [
                      {
                        "colorbar": {
                          "outlinewidth": 0,
                          "ticks": ""
                        },
                        "colorscale": [
                          [
                            0,
                            "#0d0887"
                          ],
                          [
                            0.1111111111111111,
                            "#46039f"
                          ],
                          [
                            0.2222222222222222,
                            "#7201a8"
                          ],
                          [
                            0.3333333333333333,
                            "#9c179e"
                          ],
                          [
                            0.4444444444444444,
                            "#bd3786"
                          ],
                          [
                            0.5555555555555556,
                            "#d8576b"
                          ],
                          [
                            0.6666666666666666,
                            "#ed7953"
                          ],
                          [
                            0.7777777777777778,
                            "#fb9f3a"
                          ],
                          [
                            0.8888888888888888,
                            "#fdca26"
                          ],
                          [
                            1,
                            "#f0f921"
                          ]
                        ],
                        "type": "histogram2d"
                      }
                    ],
                    "histogram2dcontour": [
                      {
                        "colorbar": {
                          "outlinewidth": 0,
                          "ticks": ""
                        },
                        "colorscale": [
                          [
                            0,
                            "#0d0887"
                          ],
                          [
                            0.1111111111111111,
                            "#46039f"
                          ],
                          [
                            0.2222222222222222,
                            "#7201a8"
                          ],
                          [
                            0.3333333333333333,
                            "#9c179e"
                          ],
                          [
                            0.4444444444444444,
                            "#bd3786"
                          ],
                          [
                            0.5555555555555556,
                            "#d8576b"
                          ],
                          [
                            0.6666666666666666,
                            "#ed7953"
                          ],
                          [
                            0.7777777777777778,
                            "#fb9f3a"
                          ],
                          [
                            0.8888888888888888,
                            "#fdca26"
                          ],
                          [
                            1,
                            "#f0f921"
                          ]
                        ],
                        "type": "histogram2dcontour"
                      }
                    ],
                    "mesh3d": [
                      {
                        "colorbar": {
                          "outlinewidth": 0,
                          "ticks": ""
                        },
                        "type": "mesh3d"
                      }
                    ],
                    "parcoords": [
                      {
                        "line": {
                          "colorbar": {
                            "outlinewidth": 0,
                            "ticks": ""
                          }
                        },
                        "type": "parcoords"
                      }
                    ],
                    "pie": [
                      {
                        "automargin": true,
                        "type": "pie"
                      }
                    ],
                    "scatter": [
                      {
                        "fillpattern": {
                          "fillmode": "overlay",
                          "size": 10,
                          "solidity": 0.2
                        },
                        "type": "scatter"
                      }
                    ],
                    "scatter3d": [
                      {
                        "line": {
                          "colorbar": {
                            "outlinewidth": 0,
                            "ticks": ""
                          }
                        },
                        "marker": {
                          "colorbar": {
                            "outlinewidth": 0,
                            "ticks": ""
                          }
                        },
                        "type": "scatter3d"
                      }
                    ],
                    "scattercarpet": [
                      {
                        "marker": {
                          "colorbar": {
                            "outlinewidth": 0,
                            "ticks": ""
                          }
                        },
                        "type": "scattercarpet"
                      }
                    ],
                    "scattergeo": [
                      {
                        "marker": {
                          "colorbar": {
                            "outlinewidth": 0,
                            "ticks": ""
                          }
                        },
                        "type": "scattergeo"
                      }
                    ],
                    "scattergl": [
                      {
                        "marker": {
                          "colorbar": {
                            "outlinewidth": 0,
                            "ticks": ""
                          }
                        },
                        "type": "scattergl"
                      }
                    ],
                    "scattermapbox": [
                      {
                        "marker": {
                          "colorbar": {
                            "outlinewidth": 0,
                            "ticks": ""
                          }
                        },
                        "type": "scattermapbox"
                      }
                    ],
                    "scatterpolar": [
                      {
                        "marker": {
                          "colorbar": {
                            "outlinewidth": 0,
                            "ticks": ""
                          }
                        },
                        "type": "scatterpolar"
                      }
                    ],
                    "scatterpolargl": [
                      {
                        "marker": {
                          "colorbar": {
                            "outlinewidth": 0,
                            "ticks": ""
                          }
                        },
                        "type": "scatterpolargl"
                      }
                    ],
                    "scatterternary": [
                      {
                        "marker": {
                          "colorbar": {
                            "outlinewidth": 0,
                            "ticks": ""
                          }
                        },
                        "type": "scatterternary"
                      }
                    ],
                    "surface": [
                      {
                        "colorbar": {
                          "outlinewidth": 0,
                          "ticks": ""
                        },
                        "colorscale": [
                          [
                            0,
                            "#0d0887"
                          ],
                          [
                            0.1111111111111111,
                            "#46039f"
                          ],
                          [
                            0.2222222222222222,
                            "#7201a8"
                          ],
                          [
                            0.3333333333333333,
                            "#9c179e"
                          ],
                          [
                            0.4444444444444444,
                            "#bd3786"
                          ],
                          [
                            0.5555555555555556,
                            "#d8576b"
                          ],
                          [
                            0.6666666666666666,
                            "#ed7953"
                          ],
                          [
                            0.7777777777777778,
                            "#fb9f3a"
                          ],
                          [
                            0.8888888888888888,
                            "#fdca26"
                          ],
                          [
                            1,
                            "#f0f921"
                          ]
                        ],
                        "type": "surface"
                      }
                    ],
                    "table": [
                      {
                        "cells": {
                          "fill": {
                            "color": "#EBF0F8"
                          },
                          "line": {
                            "color": "white"
                          }
                        },
                        "header": {
                          "fill": {
                            "color": "#C8D4E3"
                          },
                          "line": {
                            "color": "white"
                          }
                        },
                        "type": "table"
                      }
                    ]
                  },
                  "layout": {
                    "annotationdefaults": {
                      "arrowcolor": "#2a3f5f",
                      "arrowhead": 0,
                      "arrowwidth": 1
                    },
                    "autotypenumbers": "strict",
                    "coloraxis": {
                      "colorbar": {
                        "outlinewidth": 0,
                        "ticks": ""
                      }
                    },
                    "colorscale": {
                      "diverging": [
                        [
                          0,
                          "#8e0152"
                        ],
                        [
                          0.1,
                          "#c51b7d"
                        ],
                        [
                          0.2,
                          "#de77ae"
                        ],
                        [
                          0.3,
                          "#f1b6da"
                        ],
                        [
                          0.4,
                          "#fde0ef"
                        ],
                        [
                          0.5,
                          "#f7f7f7"
                        ],
                        [
                          0.6,
                          "#e6f5d0"
                        ],
                        [
                          0.7,
                          "#b8e186"
                        ],
                        [
                          0.8,
                          "#7fbc41"
                        ],
                        [
                          0.9,
                          "#4d9221"
                        ],
                        [
                          1,
                          "#276419"
                        ]
                      ],
                      "sequential": [
                        [
                          0,
                          "#0d0887"
                        ],
                        [
                          0.1111111111111111,
                          "#46039f"
                        ],
                        [
                          0.2222222222222222,
                          "#7201a8"
                        ],
                        [
                          0.3333333333333333,
                          "#9c179e"
                        ],
                        [
                          0.4444444444444444,
                          "#bd3786"
                        ],
                        [
                          0.5555555555555556,
                          "#d8576b"
                        ],
                        [
                          0.6666666666666666,
                          "#ed7953"
                        ],
                        [
                          0.7777777777777778,
                          "#fb9f3a"
                        ],
                        [
                          0.8888888888888888,
                          "#fdca26"
                        ],
                        [
                          1,
                          "#f0f921"
                        ]
                      ],
                      "sequentialminus": [
                        [
                          0,
                          "#0d0887"
                        ],
                        [
                          0.1111111111111111,
                          "#46039f"
                        ],
                        [
                          0.2222222222222222,
                          "#7201a8"
                        ],
                        [
                          0.3333333333333333,
                          "#9c179e"
                        ],
                        [
                          0.4444444444444444,
                          "#bd3786"
                        ],
                        [
                          0.5555555555555556,
                          "#d8576b"
                        ],
                        [
                          0.6666666666666666,
                          "#ed7953"
                        ],
                        [
                          0.7777777777777778,
                          "#fb9f3a"
                        ],
                        [
                          0.8888888888888888,
                          "#fdca26"
                        ],
                        [
                          1,
                          "#f0f921"
                        ]
                      ]
                    },
                    "colorway": [
                      "#636efa",
                      "#EF553B",
                      "#00cc96",
                      "#ab63fa",
                      "#FFA15A",
                      "#19d3f3",
                      "#FF6692",
                      "#B6E880",
                      "#FF97FF",
                      "#FECB52"
                    ],
                    "font": {
                      "color": "#2a3f5f"
                    },
                    "geo": {
                      "bgcolor": "white",
                      "lakecolor": "white",
                      "landcolor": "#E5ECF6",
                      "showlakes": true,
                      "showland": true,
                      "subunitcolor": "white"
                    },
                    "hoverlabel": {
                      "align": "left"
                    },
                    "hovermode": "closest",
                    "mapbox": {
                      "style": "light"
                    },
                    "paper_bgcolor": "white",
                    "plot_bgcolor": "#E5ECF6",
                    "polar": {
                      "angularaxis": {
                        "gridcolor": "white",
                        "linecolor": "white",
                        "ticks": ""
                      },
                      "bgcolor": "#E5ECF6",
                      "radialaxis": {
                        "gridcolor": "white",
                        "linecolor": "white",
                        "ticks": ""
                      }
                    },
                    "scene": {
                      "xaxis": {
                        "backgroundcolor": "#E5ECF6",
                        "gridcolor": "white",
                        "gridwidth": 2,
                        "linecolor": "white",
                        "showbackground": true,
                        "ticks": "",
                        "zerolinecolor": "white"
                      },
                      "yaxis": {
                        "backgroundcolor": "#E5ECF6",
                        "gridcolor": "white",
                        "gridwidth": 2,
                        "linecolor": "white",
                        "showbackground": true,
                        "ticks": "",
                        "zerolinecolor": "white"
                      },
                      "zaxis": {
                        "backgroundcolor": "#E5ECF6",
                        "gridcolor": "white",
                        "gridwidth": 2,
                        "linecolor": "white",
                        "showbackground": true,
                        "ticks": "",
                        "zerolinecolor": "white"
                      }
                    },
                    "shapedefaults": {
                      "line": {
                        "color": "#2a3f5f"
                      }
                    },
                    "ternary": {
                      "aaxis": {
                        "gridcolor": "white",
                        "linecolor": "white",
                        "ticks": ""
                      },
                      "baxis": {
                        "gridcolor": "white",
                        "linecolor": "white",
                        "ticks": ""
                      },
                      "bgcolor": "#E5ECF6",
                      "caxis": {
                        "gridcolor": "white",
                        "linecolor": "white",
                        "ticks": ""
                      }
                    },
                    "title": {
                      "x": 0.05
                    },
                    "xaxis": {
                      "automargin": true,
                      "gridcolor": "white",
                      "linecolor": "white",
                      "ticks": "",
                      "title": {
                        "standoff": 15
                      },
                      "zerolinecolor": "white",
                      "zerolinewidth": 2
                    },
                    "yaxis": {
                      "automargin": true,
                      "gridcolor": "white",
                      "linecolor": "white",
                      "ticks": "",
                      "title": {
                        "standoff": 15
                      },
                      "zerolinecolor": "white",
                      "zerolinewidth": 2
                    }
                  }
                },
                "title": {
                  "text": "Would you definitely pursue a Higher Education / Post Graduation outside of India ? If only you have to self sponsor it."
                }
              }
            }
          },
          "metadata": {},
          "output_type": "display_data"
        }
      ],
      "source": [
        "import plotly.graph_objects as go\n",
        "\n",
        "# Obtener los datos\n",
        "FueraIndia = df[\"Would you definitely pursue a Higher Education / Post Graduation outside of India ? If only you have to self sponsor it.\"].value_counts()\n",
        "labels = FueraIndia.index\n",
        "counts = FueraIndia.values\n",
        "\n",
        "# Definir los colores deseados\n",
        "colors = ['gold', 'purple', 'mediumturquoise']\n",
        "\n",
        "# Crear el gráfico de pastel\n",
        "fig = go.Figure(data=[go.Pie(labels=labels, values=counts, marker=dict(colors=colors))])\n",
        "\n",
        "# Actualizar el diseño del gráfico\n",
        "fig.update_layout(title_text=\"Would you definitely pursue a Higher Education / Post Graduation outside of India ? If only you have to self sponsor it.\",\n",
        "                  showlegend=True)  # Mostrar la leyenda\n",
        "\n",
        "# Mostrar el gráfico\n",
        "fig.show()\n",
        "\n"
      ]
    },
    {
      "cell_type": "code",
      "execution_count": 123,
      "metadata": {},
      "outputs": [
        {
          "data": {
            "image/png": "[encoded data removed]",
            "text/plain": [
              "<Figure size 640x480 with 1 Axes>"
            ]
          },
          "metadata": {},
          "output_type": "display_data"
        }
      ],
      "source": [
        "import matplotlib.pyplot as plt\n",
        "\n",
        "# Datos de ejemplo\n",
        "employer  = df[\"How likely is that you will work for one employer for 3 years or more ?\"].value_counts()\n",
        "labels = employer.index\n",
        "counts = employer.values\n",
        "\n",
        "plt.pie(counts, labels=labels, autopct='%1.1f%%', startangle=70, colors=['lightgreen','coral' , 'purple'])\n",
        "plt.axis('equal')  # Hace que el gráfico de pastel sea circular\n",
        "plt.title('How likely is that you will work for one employer for 3 years or more ?')\n",
        "plt.show()\n"
      ]
    },
    {
      "cell_type": "code",
      "execution_count": 8,
      "metadata": {},
      "outputs": [
        {
          "data": {
            "application/vnd.plotly.v1+json": {
              "config": {
                "plotlyServerURL": "https://plot.ly"
              },
              "data": [
                {
                  "labels": [
                    "Work with 5 to 6 people in my team",
                    "Work with 2 to 3 people in my team",
                    "Work with more than 10 people in my team",
                    "Work alone",
                    "Work with 7 to 10 or more people in my team",
                    "Work alone, Work with 2 to 3 people in my team",
                    "Work with 2 to 3 people in my team, Work with 5 to 6 people in my team",
                    "Work alone, Work with 2 to 3 people in my team, Work with 5 to 6 people in my team, Work with 7 to 10 or more people in my team, Work with more than 10 people in my team",
                    "Work alone, Work with 2 to 3 people in my team, Work with 5 to 6 people in my team",
                    "Work alone, Work with 5 to 6 people in my team",
                    "Work alone, Work with more than 10 people in my team",
                    "Work with 5 to 6 people in my team, Work with more than 10 people in my team",
                    "Work with 2 to 3 people in my team, Work with 5 to 6 people in my team, Work with 7 to 10 or more people in my team, Work with more than 10 people in my team",
                    "Work with 5 to 6 people in my team, Work with 7 to 10 or more people in my team",
                    "Work with 5 to 6 people in my team, Work with 7 to 10 or more people in my team, Work with more than 10 people in my team",
                    "Work with 2 to 3 people in my team, Work with 5 to 6 people in my team, Work with 7 to 10 or more people in my team",
                    "Work with 2 to 3 people in my team, Work with 7 to 10 or more people in my team, Work with more than 10 people in my team",
                    "Work alone, Work with 2 to 3 people in my team, Work with 7 to 10 or more people in my team",
                    "Work with 7 to 10 or more people in my team, Work with more than 10 people in my team",
                    "Work alone, Work with 2 to 3 people in my team, Work with 5 to 6 people in my team, Work with 7 to 10 or more people in my team"
                  ],
                  "marker": {
                    "colors": [
                      "purple",
                      "mediumturquoise",
                      "gold",
                      "indigo",
                      "olivedrab",
                      "mediumvioletred",
                      "yellow",
                      "purple",
                      "lightgray"
                    ]
                  },
                  "type": "pie",
                  "values": [
                    63,
                    55,
                    26,
                    16,
                    15,
                    14,
                    12,
                    8,
                    7,
                    3,
                    2,
                    2,
                    2,
                    2,
                    2,
                    2,
                    1,
                    1,
                    1,
                    1
                  ]
                }
              ],
              "layout": {
                "template": {
                  "data": {
                    "bar": [
                      {
                        "error_x": {
                          "color": "#2a3f5f"
                        },
                        "error_y": {
                          "color": "#2a3f5f"
                        },
                        "marker": {
                          "line": {
                            "color": "#E5ECF6",
                            "width": 0.5
                          },
                          "pattern": {
                            "fillmode": "overlay",
                            "size": 10,
                            "solidity": 0.2
                          }
                        },
                        "type": "bar"
                      }
                    ],
                    "barpolar": [
                      {
                        "marker": {
                          "line": {
                            "color": "#E5ECF6",
                            "width": 0.5
                          },
                          "pattern": {
                            "fillmode": "overlay",
                            "size": 10,
                            "solidity": 0.2
                          }
                        },
                        "type": "barpolar"
                      }
                    ],
                    "carpet": [
                      {
                        "aaxis": {
                          "endlinecolor": "#2a3f5f",
                          "gridcolor": "white",
                          "linecolor": "white",
                          "minorgridcolor": "white",
                          "startlinecolor": "#2a3f5f"
                        },
                        "baxis": {
                          "endlinecolor": "#2a3f5f",
                          "gridcolor": "white",
                          "linecolor": "white",
                          "minorgridcolor": "white",
                          "startlinecolor": "#2a3f5f"
                        },
                        "type": "carpet"
                      }
                    ],
                    "choropleth": [
                      {
                        "colorbar": {
                          "outlinewidth": 0,
                          "ticks": ""
                        },
                        "type": "choropleth"
                      }
                    ],
                    "contour": [
                      {
                        "colorbar": {
                          "outlinewidth": 0,
                          "ticks": ""
                        },
                        "colorscale": [
                          [
                            0,
                            "#0d0887"
                          ],
                          [
                            0.1111111111111111,
                            "#46039f"
                          ],
                          [
                            0.2222222222222222,
                            "#7201a8"
                          ],
                          [
                            0.3333333333333333,
                            "#9c179e"
                          ],
                          [
                            0.4444444444444444,
                            "#bd3786"
                          ],
                          [
                            0.5555555555555556,
                            "#d8576b"
                          ],
                          [
                            0.6666666666666666,
                            "#ed7953"
                          ],
                          [
                            0.7777777777777778,
                            "#fb9f3a"
                          ],
                          [
                            0.8888888888888888,
                            "#fdca26"
                          ],
                          [
                            1,
                            "#f0f921"
                          ]
                        ],
                        "type": "contour"
                      }
                    ],
                    "contourcarpet": [
                      {
                        "colorbar": {
                          "outlinewidth": 0,
                          "ticks": ""
                        },
                        "type": "contourcarpet"
                      }
                    ],
                    "heatmap": [
                      {
                        "colorbar": {
                          "outlinewidth": 0,
                          "ticks": ""
                        },
                        "colorscale": [
                          [
                            0,
                            "#0d0887"
                          ],
                          [
                            0.1111111111111111,
                            "#46039f"
                          ],
                          [
                            0.2222222222222222,
                            "#7201a8"
                          ],
                          [
                            0.3333333333333333,
                            "#9c179e"
                          ],
                          [
                            0.4444444444444444,
                            "#bd3786"
                          ],
                          [
                            0.5555555555555556,
                            "#d8576b"
                          ],
                          [
                            0.6666666666666666,
                            "#ed7953"
                          ],
                          [
                            0.7777777777777778,
                            "#fb9f3a"
                          ],
                          [
                            0.8888888888888888,
                            "#fdca26"
                          ],
                          [
                            1,
                            "#f0f921"
                          ]
                        ],
                        "type": "heatmap"
                      }
                    ],
                    "heatmapgl": [
                      {
                        "colorbar": {
                          "outlinewidth": 0,
                          "ticks": ""
                        },
                        "colorscale": [
                          [
                            0,
                            "#0d0887"
                          ],
                          [
                            0.1111111111111111,
                            "#46039f"
                          ],
                          [
                            0.2222222222222222,
                            "#7201a8"
                          ],
                          [
                            0.3333333333333333,
                            "#9c179e"
                          ],
                          [
                            0.4444444444444444,
                            "#bd3786"
                          ],
                          [
                            0.5555555555555556,
                            "#d8576b"
                          ],
                          [
                            0.6666666666666666,
                            "#ed7953"
                          ],
                          [
                            0.7777777777777778,
                            "#fb9f3a"
                          ],
                          [
                            0.8888888888888888,
                            "#fdca26"
                          ],
                          [
                            1,
                            "#f0f921"
                          ]
                        ],
                        "type": "heatmapgl"
                      }
                    ],
                    "histogram": [
                      {
                        "marker": {
                          "pattern": {
                            "fillmode": "overlay",
                            "size": 10,
                            "solidity": 0.2
                          }
                        },
                        "type": "histogram"
                      }
                    ],
                    "histogram2d": [
                      {
                        "colorbar": {
                          "outlinewidth": 0,
                          "ticks": ""
                        },
                        "colorscale": [
                          [
                            0,
                            "#0d0887"
                          ],
                          [
                            0.1111111111111111,
                            "#46039f"
                          ],
                          [
                            0.2222222222222222,
                            "#7201a8"
                          ],
                          [
                            0.3333333333333333,
                            "#9c179e"
                          ],
                          [
                            0.4444444444444444,
                            "#bd3786"
                          ],
                          [
                            0.5555555555555556,
                            "#d8576b"
                          ],
                          [
                            0.6666666666666666,
                            "#ed7953"
                          ],
                          [
                            0.7777777777777778,
                            "#fb9f3a"
                          ],
                          [
                            0.8888888888888888,
                            "#fdca26"
                          ],
                          [
                            1,
                            "#f0f921"
                          ]
                        ],
                        "type": "histogram2d"
                      }
                    ],
                    "histogram2dcontour": [
                      {
                        "colorbar": {
                          "outlinewidth": 0,
                          "ticks": ""
                        },
                        "colorscale": [
                          [
                            0,
                            "#0d0887"
                          ],
                          [
                            0.1111111111111111,
                            "#46039f"
                          ],
                          [
                            0.2222222222222222,
                            "#7201a8"
                          ],
                          [
                            0.3333333333333333,
                            "#9c179e"
                          ],
                          [
                            0.4444444444444444,
                            "#bd3786"
                          ],
                          [
                            0.5555555555555556,
                            "#d8576b"
                          ],
                          [
                            0.6666666666666666,
                            "#ed7953"
                          ],
                          [
                            0.7777777777777778,
                            "#fb9f3a"
                          ],
                          [
                            0.8888888888888888,
                            "#fdca26"
                          ],
                          [
                            1,
                            "#f0f921"
                          ]
                        ],
                        "type": "histogram2dcontour"
                      }
                    ],
                    "mesh3d": [
                      {
                        "colorbar": {
                          "outlinewidth": 0,
                          "ticks": ""
                        },
                        "type": "mesh3d"
                      }
                    ],
                    "parcoords": [
                      {
                        "line": {
                          "colorbar": {
                            "outlinewidth": 0,
                            "ticks": ""
                          }
                        },
                        "type": "parcoords"
                      }
                    ],
                    "pie": [
                      {
                        "automargin": true,
                        "type": "pie"
                      }
                    ],
                    "scatter": [
                      {
                        "fillpattern": {
                          "fillmode": "overlay",
                          "size": 10,
                          "solidity": 0.2
                        },
                        "type": "scatter"
                      }
                    ],
                    "scatter3d": [
                      {
                        "line": {
                          "colorbar": {
                            "outlinewidth": 0,
                            "ticks": ""
                          }
                        },
                        "marker": {
                          "colorbar": {
                            "outlinewidth": 0,
                            "ticks": ""
                          }
                        },
                        "type": "scatter3d"
                      }
                    ],
                    "scattercarpet": [
                      {
                        "marker": {
                          "colorbar": {
                            "outlinewidth": 0,
                            "ticks": ""
                          }
                        },
                        "type": "scattercarpet"
                      }
                    ],
                    "scattergeo": [
                      {
                        "marker": {
                          "colorbar": {
                            "outlinewidth": 0,
                            "ticks": ""
                          }
                        },
                        "type": "scattergeo"
                      }
                    ],
                    "scattergl": [
                      {
                        "marker": {
                          "colorbar": {
                            "outlinewidth": 0,
                            "ticks": ""
                          }
                        },
                        "type": "scattergl"
                      }
                    ],
                    "scattermapbox": [
                      {
                        "marker": {
                          "colorbar": {
                            "outlinewidth": 0,
                            "ticks": ""
                          }
                        },
                        "type": "scattermapbox"
                      }
                    ],
                    "scatterpolar": [
                      {
                        "marker": {
                          "colorbar": {
                            "outlinewidth": 0,
                            "ticks": ""
                          }
                        },
                        "type": "scatterpolar"
                      }
                    ],
                    "scatterpolargl": [
                      {
                        "marker": {
                          "colorbar": {
                            "outlinewidth": 0,
                            "ticks": ""
                          }
                        },
                        "type": "scatterpolargl"
                      }
                    ],
                    "scatterternary": [
                      {
                        "marker": {
                          "colorbar": {
                            "outlinewidth": 0,
                            "ticks": ""
                          }
                        },
                        "type": "scatterternary"
                      }
                    ],
                    "surface": [
                      {
                        "colorbar": {
                          "outlinewidth": 0,
                          "ticks": ""
                        },
                        "colorscale": [
                          [
                            0,
                            "#0d0887"
                          ],
                          [
                            0.1111111111111111,
                            "#46039f"
                          ],
                          [
                            0.2222222222222222,
                            "#7201a8"
                          ],
                          [
                            0.3333333333333333,
                            "#9c179e"
                          ],
                          [
                            0.4444444444444444,
                            "#bd3786"
                          ],
                          [
                            0.5555555555555556,
                            "#d8576b"
                          ],
                          [
                            0.6666666666666666,
                            "#ed7953"
                          ],
                          [
                            0.7777777777777778,
                            "#fb9f3a"
                          ],
                          [
                            0.8888888888888888,
                            "#fdca26"
                          ],
                          [
                            1,
                            "#f0f921"
                          ]
                        ],
                        "type": "surface"
                      }
                    ],
                    "table": [
                      {
                        "cells": {
                          "fill": {
                            "color": "#EBF0F8"
                          },
                          "line": {
                            "color": "white"
                          }
                        },
                        "header": {
                          "fill": {
                            "color": "#C8D4E3"
                          },
                          "line": {
                            "color": "white"
                          }
                        },
                        "type": "table"
                      }
                    ]
                  },
                  "layout": {
                    "annotationdefaults": {
                      "arrowcolor": "#2a3f5f",
                      "arrowhead": 0,
                      "arrowwidth": 1
                    },
                    "autotypenumbers": "strict",
                    "coloraxis": {
                      "colorbar": {
                        "outlinewidth": 0,
                        "ticks": ""
                      }
                    },
                    "colorscale": {
                      "diverging": [
                        [
                          0,
                          "#8e0152"
                        ],
                        [
                          0.1,
                          "#c51b7d"
                        ],
                        [
                          0.2,
                          "#de77ae"
                        ],
                        [
                          0.3,
                          "#f1b6da"
                        ],
                        [
                          0.4,
                          "#fde0ef"
                        ],
                        [
                          0.5,
                          "#f7f7f7"
                        ],
                        [
                          0.6,
                          "#e6f5d0"
                        ],
                        [
                          0.7,
                          "#b8e186"
                        ],
                        [
                          0.8,
                          "#7fbc41"
                        ],
                        [
                          0.9,
                          "#4d9221"
                        ],
                        [
                          1,
                          "#276419"
                        ]
                      ],
                      "sequential": [
                        [
                          0,
                          "#0d0887"
                        ],
                        [
                          0.1111111111111111,
                          "#46039f"
                        ],
                        [
                          0.2222222222222222,
                          "#7201a8"
                        ],
                        [
                          0.3333333333333333,
                          "#9c179e"
                        ],
                        [
                          0.4444444444444444,
                          "#bd3786"
                        ],
                        [
                          0.5555555555555556,
                          "#d8576b"
                        ],
                        [
                          0.6666666666666666,
                          "#ed7953"
                        ],
                        [
                          0.7777777777777778,
                          "#fb9f3a"
                        ],
                        [
                          0.8888888888888888,
                          "#fdca26"
                        ],
                        [
                          1,
                          "#f0f921"
                        ]
                      ],
                      "sequentialminus": [
                        [
                          0,
                          "#0d0887"
                        ],
                        [
                          0.1111111111111111,
                          "#46039f"
                        ],
                        [
                          0.2222222222222222,
                          "#7201a8"
                        ],
                        [
                          0.3333333333333333,
                          "#9c179e"
                        ],
                        [
                          0.4444444444444444,
                          "#bd3786"
                        ],
                        [
                          0.5555555555555556,
                          "#d8576b"
                        ],
                        [
                          0.6666666666666666,
                          "#ed7953"
                        ],
                        [
                          0.7777777777777778,
                          "#fb9f3a"
                        ],
                        [
                          0.8888888888888888,
                          "#fdca26"
                        ],
                        [
                          1,
                          "#f0f921"
                        ]
                      ]
                    },
                    "colorway": [
                      "#636efa",
                      "#EF553B",
                      "#00cc96",
                      "#ab63fa",
                      "#FFA15A",
                      "#19d3f3",
                      "#FF6692",
                      "#B6E880",
                      "#FF97FF",
                      "#FECB52"
                    ],
                    "font": {
                      "color": "#2a3f5f"
                    },
                    "geo": {
                      "bgcolor": "white",
                      "lakecolor": "white",
                      "landcolor": "#E5ECF6",
                      "showlakes": true,
                      "showland": true,
                      "subunitcolor": "white"
                    },
                    "hoverlabel": {
                      "align": "left"
                    },
                    "hovermode": "closest",
                    "mapbox": {
                      "style": "light"
                    },
                    "paper_bgcolor": "white",
                    "plot_bgcolor": "#E5ECF6",
                    "polar": {
                      "angularaxis": {
                        "gridcolor": "white",
                        "linecolor": "white",
                        "ticks": ""
                      },
                      "bgcolor": "#E5ECF6",
                      "radialaxis": {
                        "gridcolor": "white",
                        "linecolor": "white",
                        "ticks": ""
                      }
                    },
                    "scene": {
                      "xaxis": {
                        "backgroundcolor": "#E5ECF6",
                        "gridcolor": "white",
                        "gridwidth": 2,
                        "linecolor": "white",
                        "showbackground": true,
                        "ticks": "",
                        "zerolinecolor": "white"
                      },
                      "yaxis": {
                        "backgroundcolor": "#E5ECF6",
                        "gridcolor": "white",
                        "gridwidth": 2,
                        "linecolor": "white",
                        "showbackground": true,
                        "ticks": "",
                        "zerolinecolor": "white"
                      },
                      "zaxis": {
                        "backgroundcolor": "#E5ECF6",
                        "gridcolor": "white",
                        "gridwidth": 2,
                        "linecolor": "white",
                        "showbackground": true,
                        "ticks": "",
                        "zerolinecolor": "white"
                      }
                    },
                    "shapedefaults": {
                      "line": {
                        "color": "#2a3f5f"
                      }
                    },
                    "ternary": {
                      "aaxis": {
                        "gridcolor": "white",
                        "linecolor": "white",
                        "ticks": ""
                      },
                      "baxis": {
                        "gridcolor": "white",
                        "linecolor": "white",
                        "ticks": ""
                      },
                      "bgcolor": "#E5ECF6",
                      "caxis": {
                        "gridcolor": "white",
                        "linecolor": "white",
                        "ticks": ""
                      }
                    },
                    "title": {
                      "x": 0.05
                    },
                    "xaxis": {
                      "automargin": true,
                      "gridcolor": "white",
                      "linecolor": "white",
                      "ticks": "",
                      "title": {
                        "standoff": 15
                      },
                      "zerolinecolor": "white",
                      "zerolinewidth": 2
                    },
                    "yaxis": {
                      "automargin": true,
                      "gridcolor": "white",
                      "linecolor": "white",
                      "ticks": "",
                      "title": {
                        "standoff": 15
                      },
                      "zerolinecolor": "white",
                      "zerolinewidth": 2
                    }
                  }
                },
                "title": {
                  "text": "Which of the following setup you would like to work ?"
                }
              }
            }
          },
          "metadata": {},
          "output_type": "display_data"
        }
      ],
      "source": [
        "colors = ['purple', 'mediumturquoise', 'gold', 'indigo', 'olivedrab', 'mediumvioletred', 'yellow', 'purple', 'lightgray']\n",
        "\n",
        "environment=df[\"Which of the following setup you would like to work ?\"].value_counts()\n",
        "label=environment.index\n",
        "counts=environment.values\n",
        "fig=go.Figure(data=[go.Pie(labels=label,values=counts, marker_colors=colors)])\n",
        "fig.update_layout(title_text=\"Which of the following setup you would like to work ?\")\n",
        "fig.show()"
      ]
    },
    {
      "cell_type": "code",
      "execution_count": 10,
      "metadata": {},
      "outputs": [
        {
          "data": {
            "image/png": "[encoded data removed]",
            "text/plain": [
              "<Figure size 640x480 with 1 Axes>"
            ]
          },
          "metadata": {},
          "output_type": "display_data"
        }
      ],
      "source": [
        "import matplotlib.pyplot as plt\n",
        "\n",
        "# Datos de ejemplo\n",
        "employer  = df[\"What type of Manager would you work without looking into your watch ?\"].value_counts()\n",
        "labels = employer.index\n",
        "counts = employer.values\n",
        "\n",
        "plt.pie(counts, labels=labels, autopct='%1.1f%%', startangle=70, colors=['lightgreen','coral' , 'purple', 'lightblue', 'yellow', 'orange'])\n",
        "plt.axis('equal')  # Hace que el gráfico de pastel sea circular\n",
        "plt.title('What type of Manager would you work without looking into your watch ?')\n",
        "plt.show()"
      ]
    },
    {
      "cell_type": "code",
      "execution_count": 157,
      "metadata": {},
      "outputs": [
        {
          "data": {
            "text/plain": [
              "Fully Remote with Options to travel as and when needed                 60\n",
              "Hybrid Working Environment with less than 15 days a month at office    57\n",
              "Every Day Office Environment                                           50\n",
              "Hybrid Working Environment with less than 10 days a month at office    31\n",
              "Hybrid Working Environment with less than 3 days a month at office     26\n",
              "Fully Remote with No option to visit offices                           11\n",
              "Name: What is the most preferred working environment for you., dtype: int64"
            ]
          },
          "execution_count": 157,
          "metadata": {},
          "output_type": "execute_result"
        }
      ],
      "source": [
        "influence=df[\"What is the most preferred working environment for you.\"].value_counts()\n",
        "influence"
      ]
    },
    {
      "cell_type": "code",
      "execution_count": 25,
      "metadata": {},
      "outputs": [
        {
          "data": {
            "application/vnd.plotly.v1+json": {
              "config": {
                "plotlyServerURL": "https://plot.ly"
              },
              "data": [
                {
                  "labels": [
                    "Employer who pushes your limits by enabling an learning environment, and rewards you at the end",
                    "Employer who appreciates learning and enables that environment",
                    "Employer who rewards learning and enables that environment",
                    "Employer who pushes your limits and doesn't enables learning environment and never rewards you",
                    "Employers who appreciates learning but doesn't enables an learning environment"
                  ],
                  "marker": {
                    "colors": [
                      "lightgreen",
                      "coral",
                      "purple",
                      "mediumturquoise",
                      "gold",
                      "indigo",
                      "olivedrab",
                      "mediumvioletred",
                      "yellow",
                      "purple",
                      "lightgray"
                    ]
                  },
                  "type": "pie",
                  "values": [
                    113,
                    75,
                    36,
                    7,
                    4
                  ]
                }
              ],
              "layout": {
                "template": {
                  "data": {
                    "bar": [
                      {
                        "error_x": {
                          "color": "#2a3f5f"
                        },
                        "error_y": {
                          "color": "#2a3f5f"
                        },
                        "marker": {
                          "line": {
                            "color": "#E5ECF6",
                            "width": 0.5
                          },
                          "pattern": {
                            "fillmode": "overlay",
                            "size": 10,
                            "solidity": 0.2
                          }
                        },
                        "type": "bar"
                      }
                    ],
                    "barpolar": [
                      {
                        "marker": {
                          "line": {
                            "color": "#E5ECF6",
                            "width": 0.5
                          },
                          "pattern": {
                            "fillmode": "overlay",
                            "size": 10,
                            "solidity": 0.2
                          }
                        },
                        "type": "barpolar"
                      }
                    ],
                    "carpet": [
                      {
                        "aaxis": {
                          "endlinecolor": "#2a3f5f",
                          "gridcolor": "white",
                          "linecolor": "white",
                          "minorgridcolor": "white",
                          "startlinecolor": "#2a3f5f"
                        },
                        "baxis": {
                          "endlinecolor": "#2a3f5f",
                          "gridcolor": "white",
                          "linecolor": "white",
                          "minorgridcolor": "white",
                          "startlinecolor": "#2a3f5f"
                        },
                        "type": "carpet"
                      }
                    ],
                    "choropleth": [
                      {
                        "colorbar": {
                          "outlinewidth": 0,
                          "ticks": ""
                        },
                        "type": "choropleth"
                      }
                    ],
                    "contour": [
                      {
                        "colorbar": {
                          "outlinewidth": 0,
                          "ticks": ""
                        },
                        "colorscale": [
                          [
                            0,
                            "#0d0887"
                          ],
                          [
                            0.1111111111111111,
                            "#46039f"
                          ],
                          [
                            0.2222222222222222,
                            "#7201a8"
                          ],
                          [
                            0.3333333333333333,
                            "#9c179e"
                          ],
                          [
                            0.4444444444444444,
                            "#bd3786"
                          ],
                          [
                            0.5555555555555556,
                            "#d8576b"
                          ],
                          [
                            0.6666666666666666,
                            "#ed7953"
                          ],
                          [
                            0.7777777777777778,
                            "#fb9f3a"
                          ],
                          [
                            0.8888888888888888,
                            "#fdca26"
                          ],
                          [
                            1,
                            "#f0f921"
                          ]
                        ],
                        "type": "contour"
                      }
                    ],
                    "contourcarpet": [
                      {
                        "colorbar": {
                          "outlinewidth": 0,
                          "ticks": ""
                        },
                        "type": "contourcarpet"
                      }
                    ],
                    "heatmap": [
                      {
                        "colorbar": {
                          "outlinewidth": 0,
                          "ticks": ""
                        },
                        "colorscale": [
                          [
                            0,
                            "#0d0887"
                          ],
                          [
                            0.1111111111111111,
                            "#46039f"
                          ],
                          [
                            0.2222222222222222,
                            "#7201a8"
                          ],
                          [
                            0.3333333333333333,
                            "#9c179e"
                          ],
                          [
                            0.4444444444444444,
                            "#bd3786"
                          ],
                          [
                            0.5555555555555556,
                            "#d8576b"
                          ],
                          [
                            0.6666666666666666,
                            "#ed7953"
                          ],
                          [
                            0.7777777777777778,
                            "#fb9f3a"
                          ],
                          [
                            0.8888888888888888,
                            "#fdca26"
                          ],
                          [
                            1,
                            "#f0f921"
                          ]
                        ],
                        "type": "heatmap"
                      }
                    ],
                    "heatmapgl": [
                      {
                        "colorbar": {
                          "outlinewidth": 0,
                          "ticks": ""
                        },
                        "colorscale": [
                          [
                            0,
                            "#0d0887"
                          ],
                          [
                            0.1111111111111111,
                            "#46039f"
                          ],
                          [
                            0.2222222222222222,
                            "#7201a8"
                          ],
                          [
                            0.3333333333333333,
                            "#9c179e"
                          ],
                          [
                            0.4444444444444444,
                            "#bd3786"
                          ],
                          [
                            0.5555555555555556,
                            "#d8576b"
                          ],
                          [
                            0.6666666666666666,
                            "#ed7953"
                          ],
                          [
                            0.7777777777777778,
                            "#fb9f3a"
                          ],
                          [
                            0.8888888888888888,
                            "#fdca26"
                          ],
                          [
                            1,
                            "#f0f921"
                          ]
                        ],
                        "type": "heatmapgl"
                      }
                    ],
                    "histogram": [
                      {
                        "marker": {
                          "pattern": {
                            "fillmode": "overlay",
                            "size": 10,
                            "solidity": 0.2
                          }
                        },
                        "type": "histogram"
                      }
                    ],
                    "histogram2d": [
                      {
                        "colorbar": {
                          "outlinewidth": 0,
                          "ticks": ""
                        },
                        "colorscale": [
                          [
                            0,
                            "#0d0887"
                          ],
                          [
                            0.1111111111111111,
                            "#46039f"
                          ],
                          [
                            0.2222222222222222,
                            "#7201a8"
                          ],
                          [
                            0.3333333333333333,
                            "#9c179e"
                          ],
                          [
                            0.4444444444444444,
                            "#bd3786"
                          ],
                          [
                            0.5555555555555556,
                            "#d8576b"
                          ],
                          [
                            0.6666666666666666,
                            "#ed7953"
                          ],
                          [
                            0.7777777777777778,
                            "#fb9f3a"
                          ],
                          [
                            0.8888888888888888,
                            "#fdca26"
                          ],
                          [
                            1,
                            "#f0f921"
                          ]
                        ],
                        "type": "histogram2d"
                      }
                    ],
                    "histogram2dcontour": [
                      {
                        "colorbar": {
                          "outlinewidth": 0,
                          "ticks": ""
                        },
                        "colorscale": [
                          [
                            0,
                            "#0d0887"
                          ],
                          [
                            0.1111111111111111,
                            "#46039f"
                          ],
                          [
                            0.2222222222222222,
                            "#7201a8"
                          ],
                          [
                            0.3333333333333333,
                            "#9c179e"
                          ],
                          [
                            0.4444444444444444,
                            "#bd3786"
                          ],
                          [
                            0.5555555555555556,
                            "#d8576b"
                          ],
                          [
                            0.6666666666666666,
                            "#ed7953"
                          ],
                          [
                            0.7777777777777778,
                            "#fb9f3a"
                          ],
                          [
                            0.8888888888888888,
                            "#fdca26"
                          ],
                          [
                            1,
                            "#f0f921"
                          ]
                        ],
                        "type": "histogram2dcontour"
                      }
                    ],
                    "mesh3d": [
                      {
                        "colorbar": {
                          "outlinewidth": 0,
                          "ticks": ""
                        },
                        "type": "mesh3d"
                      }
                    ],
                    "parcoords": [
                      {
                        "line": {
                          "colorbar": {
                            "outlinewidth": 0,
                            "ticks": ""
                          }
                        },
                        "type": "parcoords"
                      }
                    ],
                    "pie": [
                      {
                        "automargin": true,
                        "type": "pie"
                      }
                    ],
                    "scatter": [
                      {
                        "fillpattern": {
                          "fillmode": "overlay",
                          "size": 10,
                          "solidity": 0.2
                        },
                        "type": "scatter"
                      }
                    ],
                    "scatter3d": [
                      {
                        "line": {
                          "colorbar": {
                            "outlinewidth": 0,
                            "ticks": ""
                          }
                        },
                        "marker": {
                          "colorbar": {
                            "outlinewidth": 0,
                            "ticks": ""
                          }
                        },
                        "type": "scatter3d"
                      }
                    ],
                    "scattercarpet": [
                      {
                        "marker": {
                          "colorbar": {
                            "outlinewidth": 0,
                            "ticks": ""
                          }
                        },
                        "type": "scattercarpet"
                      }
                    ],
                    "scattergeo": [
                      {
                        "marker": {
                          "colorbar": {
                            "outlinewidth": 0,
                            "ticks": ""
                          }
                        },
                        "type": "scattergeo"
                      }
                    ],
                    "scattergl": [
                      {
                        "marker": {
                          "colorbar": {
                            "outlinewidth": 0,
                            "ticks": ""
                          }
                        },
                        "type": "scattergl"
                      }
                    ],
                    "scattermapbox": [
                      {
                        "marker": {
                          "colorbar": {
                            "outlinewidth": 0,
                            "ticks": ""
                          }
                        },
                        "type": "scattermapbox"
                      }
                    ],
                    "scatterpolar": [
                      {
                        "marker": {
                          "colorbar": {
                            "outlinewidth": 0,
                            "ticks": ""
                          }
                        },
                        "type": "scatterpolar"
                      }
                    ],
                    "scatterpolargl": [
                      {
                        "marker": {
                          "colorbar": {
                            "outlinewidth": 0,
                            "ticks": ""
                          }
                        },
                        "type": "scatterpolargl"
                      }
                    ],
                    "scatterternary": [
                      {
                        "marker": {
                          "colorbar": {
                            "outlinewidth": 0,
                            "ticks": ""
                          }
                        },
                        "type": "scatterternary"
                      }
                    ],
                    "surface": [
                      {
                        "colorbar": {
                          "outlinewidth": 0,
                          "ticks": ""
                        },
                        "colorscale": [
                          [
                            0,
                            "#0d0887"
                          ],
                          [
                            0.1111111111111111,
                            "#46039f"
                          ],
                          [
                            0.2222222222222222,
                            "#7201a8"
                          ],
                          [
                            0.3333333333333333,
                            "#9c179e"
                          ],
                          [
                            0.4444444444444444,
                            "#bd3786"
                          ],
                          [
                            0.5555555555555556,
                            "#d8576b"
                          ],
                          [
                            0.6666666666666666,
                            "#ed7953"
                          ],
                          [
                            0.7777777777777778,
                            "#fb9f3a"
                          ],
                          [
                            0.8888888888888888,
                            "#fdca26"
                          ],
                          [
                            1,
                            "#f0f921"
                          ]
                        ],
                        "type": "surface"
                      }
                    ],
                    "table": [
                      {
                        "cells": {
                          "fill": {
                            "color": "#EBF0F8"
                          },
                          "line": {
                            "color": "white"
                          }
                        },
                        "header": {
                          "fill": {
                            "color": "#C8D4E3"
                          },
                          "line": {
                            "color": "white"
                          }
                        },
                        "type": "table"
                      }
                    ]
                  },
                  "layout": {
                    "annotationdefaults": {
                      "arrowcolor": "#2a3f5f",
                      "arrowhead": 0,
                      "arrowwidth": 1
                    },
                    "autotypenumbers": "strict",
                    "coloraxis": {
                      "colorbar": {
                        "outlinewidth": 0,
                        "ticks": ""
                      }
                    },
                    "colorscale": {
                      "diverging": [
                        [
                          0,
                          "#8e0152"
                        ],
                        [
                          0.1,
                          "#c51b7d"
                        ],
                        [
                          0.2,
                          "#de77ae"
                        ],
                        [
                          0.3,
                          "#f1b6da"
                        ],
                        [
                          0.4,
                          "#fde0ef"
                        ],
                        [
                          0.5,
                          "#f7f7f7"
                        ],
                        [
                          0.6,
                          "#e6f5d0"
                        ],
                        [
                          0.7,
                          "#b8e186"
                        ],
                        [
                          0.8,
                          "#7fbc41"
                        ],
                        [
                          0.9,
                          "#4d9221"
                        ],
                        [
                          1,
                          "#276419"
                        ]
                      ],
                      "sequential": [
                        [
                          0,
                          "#0d0887"
                        ],
                        [
                          0.1111111111111111,
                          "#46039f"
                        ],
                        [
                          0.2222222222222222,
                          "#7201a8"
                        ],
                        [
                          0.3333333333333333,
                          "#9c179e"
                        ],
                        [
                          0.4444444444444444,
                          "#bd3786"
                        ],
                        [
                          0.5555555555555556,
                          "#d8576b"
                        ],
                        [
                          0.6666666666666666,
                          "#ed7953"
                        ],
                        [
                          0.7777777777777778,
                          "#fb9f3a"
                        ],
                        [
                          0.8888888888888888,
                          "#fdca26"
                        ],
                        [
                          1,
                          "#f0f921"
                        ]
                      ],
                      "sequentialminus": [
                        [
                          0,
                          "#0d0887"
                        ],
                        [
                          0.1111111111111111,
                          "#46039f"
                        ],
                        [
                          0.2222222222222222,
                          "#7201a8"
                        ],
                        [
                          0.3333333333333333,
                          "#9c179e"
                        ],
                        [
                          0.4444444444444444,
                          "#bd3786"
                        ],
                        [
                          0.5555555555555556,
                          "#d8576b"
                        ],
                        [
                          0.6666666666666666,
                          "#ed7953"
                        ],
                        [
                          0.7777777777777778,
                          "#fb9f3a"
                        ],
                        [
                          0.8888888888888888,
                          "#fdca26"
                        ],
                        [
                          1,
                          "#f0f921"
                        ]
                      ]
                    },
                    "colorway": [
                      "#636efa",
                      "#EF553B",
                      "#00cc96",
                      "#ab63fa",
                      "#FFA15A",
                      "#19d3f3",
                      "#FF6692",
                      "#B6E880",
                      "#FF97FF",
                      "#FECB52"
                    ],
                    "font": {
                      "color": "#2a3f5f"
                    },
                    "geo": {
                      "bgcolor": "white",
                      "lakecolor": "white",
                      "landcolor": "#E5ECF6",
                      "showlakes": true,
                      "showland": true,
                      "subunitcolor": "white"
                    },
                    "hoverlabel": {
                      "align": "left"
                    },
                    "hovermode": "closest",
                    "mapbox": {
                      "style": "light"
                    },
                    "paper_bgcolor": "white",
                    "plot_bgcolor": "#E5ECF6",
                    "polar": {
                      "angularaxis": {
                        "gridcolor": "white",
                        "linecolor": "white",
                        "ticks": ""
                      },
                      "bgcolor": "#E5ECF6",
                      "radialaxis": {
                        "gridcolor": "white",
                        "linecolor": "white",
                        "ticks": ""
                      }
                    },
                    "scene": {
                      "xaxis": {
                        "backgroundcolor": "#E5ECF6",
                        "gridcolor": "white",
                        "gridwidth": 2,
                        "linecolor": "white",
                        "showbackground": true,
                        "ticks": "",
                        "zerolinecolor": "white"
                      },
                      "yaxis": {
                        "backgroundcolor": "#E5ECF6",
                        "gridcolor": "white",
                        "gridwidth": 2,
                        "linecolor": "white",
                        "showbackground": true,
                        "ticks": "",
                        "zerolinecolor": "white"
                      },
                      "zaxis": {
                        "backgroundcolor": "#E5ECF6",
                        "gridcolor": "white",
                        "gridwidth": 2,
                        "linecolor": "white",
                        "showbackground": true,
                        "ticks": "",
                        "zerolinecolor": "white"
                      }
                    },
                    "shapedefaults": {
                      "line": {
                        "color": "#2a3f5f"
                      }
                    },
                    "ternary": {
                      "aaxis": {
                        "gridcolor": "white",
                        "linecolor": "white",
                        "ticks": ""
                      },
                      "baxis": {
                        "gridcolor": "white",
                        "linecolor": "white",
                        "ticks": ""
                      },
                      "bgcolor": "#E5ECF6",
                      "caxis": {
                        "gridcolor": "white",
                        "linecolor": "white",
                        "ticks": ""
                      }
                    },
                    "title": {
                      "x": 0.05
                    },
                    "xaxis": {
                      "automargin": true,
                      "gridcolor": "white",
                      "linecolor": "white",
                      "ticks": "",
                      "title": {
                        "standoff": 15
                      },
                      "zerolinecolor": "white",
                      "zerolinewidth": 2
                    },
                    "yaxis": {
                      "automargin": true,
                      "gridcolor": "white",
                      "linecolor": "white",
                      "ticks": "",
                      "title": {
                        "standoff": 15
                      },
                      "zerolinecolor": "white",
                      "zerolinewidth": 2
                    }
                  }
                },
                "title": {
                  "text": "Which of the below Employers would you work with."
                }
              }
            }
          },
          "metadata": {},
          "output_type": "display_data"
        }
      ],
      "source": [
        "colors = ['lightgreen', 'coral' , 'purple', 'mediumturquoise', 'gold', 'indigo' ,  'olivedrab', 'mediumvioletred', 'yellow', 'purple', 'lightgray']\n",
        "\n",
        "Employers=df[\"Which of the below Employers would you work with.\"].value_counts()\n",
        "label=Employers.index\n",
        "counts=Employers.values\n",
        "fig=go.Figure(data=[go.Pie(labels=label,values=counts, marker_colors=colors)])\n",
        "fig.update_layout(title_text=\"Which of the below Employers would you work with.\")\n",
        "fig.show()\n"
      ]
    },
    {
      "cell_type": "code",
      "execution_count": 11,
      "metadata": {},
      "outputs": [
        {
          "data": {
            "application/vnd.plotly.v1+json": {
              "config": {
                "plotlyServerURL": "https://plot.ly"
              },
              "data": [
                {
                  "labels": [
                    "Business Operations in any organization, Manage and drive End-to-End Projects or Products, Look deeply into Data and generate insights",
                    "Business Operations in any organization, Manage and drive End-to-End Projects or Products, Build and develop a Team",
                    "Design and Creative strategy in any company, Teaching in any of the institutes/online or Offline, Business Operations in any organization",
                    "Business Operations in any organization, Build and develop a Team, Look deeply into Data and generate insights",
                    "Design and Creative strategy in any company, Manage and drive End-to-End Projects or Products, Look deeply into Data and generate insights",
                    "Design and Creative strategy in any company, Business Operations in any organization, Look deeply into Data and generate insights",
                    "Design and Creative strategy in any company, Build and develop a Team, Look deeply into Data and generate insights",
                    "Design and Develop amazing software, Look deeply into Data and generate insights, Work as a freelancer and do my thing my way",
                    "Business Operations in any organization, Design and Develop amazing software, Look deeply into Data and generate insights",
                    "Design and Creative strategy in any company, Teaching in any of the institutes/online or Offline, Design and Develop amazing software",
                    "Design and Creative strategy in any company, Business Operations in any organization, Build and develop a Team",
                    "Design and Creative strategy in any company, Work as a freelancer and do my thing my way, Become a content Creator in some platform",
                    "Design and Creative strategy in any company, Build and develop a Team, Design and Develop amazing software",
                    "Manage and drive End-to-End Projects or Products, Build and develop a Team, Design and Develop amazing software",
                    "Design and Creative strategy in any company, Business Operations in any organization, Manage and drive End-to-End Projects or Products",
                    "Manage and drive End-to-End Projects or Products, Build and develop a Team, Look deeply into Data and generate insights",
                    "Design and Creative strategy in any company, Teaching in any of the institutes/online or Offline, Look deeply into Data and generate insights",
                    "Teaching in any of the institutes/online or Offline, Build and develop a Team, Work as a freelancer and do my thing my way",
                    "Design and Creative strategy in any company, Teaching in any of the institutes/online or Offline, Build and develop a Team",
                    "Build and develop a Team, Design and Develop amazing software, Look deeply into Data and generate insights",
                    "Design and Creative strategy in any company, Teaching in any of the institutes/online or Offline, Manage and drive End-to-End Projects or Products",
                    "Manage and drive End-to-End Projects or Products, Look deeply into Data and generate insights, Work as a freelancer and do my thing my way",
                    "Design and Creative strategy in any company, Teaching in any of the institutes/online or Offline, Become a content Creator in some platform",
                    "Design and Creative strategy in any company, Teaching in any of the institutes/online or Offline, Work as a freelancer and do my thing my way",
                    "Business Operations in any organization, Work as a freelancer and do my thing my way, Become a content Creator in some platform",
                    "Design and Develop amazing software, Work as a freelancer and do my thing my way, Become a content Creator in some platform",
                    "Design and Creative strategy in any company, Design and Develop amazing software, Become a content Creator in some platform",
                    "Business Operations in any organization, Look deeply into Data and generate insights, Work as a freelancer and do my thing my way",
                    "Look deeply into Data and generate insights, Work as a freelancer and do my thing my way, Become a content Creator in some platform",
                    "Design and Creative strategy in any company, Look deeply into Data and generate insights, Work as a freelancer and do my thing my way",
                    "Teaching in any of the institutes/online or Offline, Work as a freelancer and do my thing my way, Become a content Creator in some platform",
                    "Teaching in any of the institutes/online or Offline, Look deeply into Data and generate insights, Work as a freelancer and do my thing my way",
                    "Design and Creative strategy in any company, Manage and drive End-to-End Projects or Products, Design and Develop amazing software",
                    "Design and Creative strategy in any company, Business Operations in any organization, Become a content Creator in some platform",
                    "Design and Creative strategy in any company, Manage and drive End-to-End Projects or Products, Build and develop a Team",
                    "Design and Creative strategy in any company, Business Operations in any organization, Work as a freelancer and do my thing my way",
                    "Manage and drive End-to-End Projects or Products, Work as a freelancer and do my thing my way, Become a content Creator in some platform",
                    "Teaching in any of the institutes/online or Offline, Build and develop a Team, Become a content Creator in some platform",
                    "Design and Creative strategy in any company, Look deeply into Data and generate insights, Become a content Creator in some platform",
                    "Design and Creative strategy in any company, Build and develop a Team, Become a content Creator in some platform",
                    "Teaching in any of the institutes/online or Offline, Manage and drive End-to-End Projects or Products, Become a content Creator in some platform",
                    "Business Operations in any organization, Build and develop a Team, Work as a freelancer and do my thing my way",
                    "Business Operations in any organization, Build and develop a Team, Become a content Creator in some platform",
                    "Business Operations in any organization, Manage and drive End-to-End Projects or Products, Work in a BPO setup for some well known client",
                    "Teaching in any of the institutes/online or Offline, Build and develop a Team, Look deeply into Data and generate insights",
                    "Teaching in any of the institutes/online or Offline, Manage and drive End-to-End Projects or Products, Look deeply into Data and generate insights",
                    "Teaching in any of the institutes/online or Offline, Business Operations in any organization, Manage and drive End-to-End Projects or Products",
                    "Business Operations in any organization, Look deeply into Data and generate insights, Work in a BPO setup for some well known client",
                    "Design and Creative strategy in any company, Manage and drive End-to-End Projects or Products, Work as a freelancer and do my thing my way",
                    "Teaching in any of the institutes/online or Offline, Build and develop a Team, Design and Develop amazing software",
                    "Design and Develop amazing software, Look deeply into Data and generate insights, Become a content Creator in some platform",
                    "Teaching in any of the institutes/online or Offline, Look deeply into Data and generate insights, Become a content Creator in some platform",
                    "Teaching in any of the institutes/online or Offline, Business Operations in any organization, Build and develop a Team",
                    "Design and Creative strategy in any company, Design and Develop amazing software, Look deeply into Data and generate insights",
                    "Teaching in any of the institutes/online or Offline, Design and Develop amazing software, Work in a BPO setup for some well known client",
                    "Manage and drive End-to-End Projects or Products, Look deeply into Data and generate insights, Work in a BPO setup for some well known client",
                    "Teaching in any of the institutes/online or Offline, Work in a BPO setup for some well known client, Work as a freelancer and do my thing my way",
                    "Teaching in any of the institutes/online or Offline, Business Operations in any organization, Work in a BPO setup for some well known client",
                    "Design and Creative strategy in any company, Manage and drive End-to-End Projects or Products, Work in a BPO setup for some well known client",
                    "Teaching in any of the institutes/online or Offline, Business Operations in any organization, Work as a freelancer and do my thing my way",
                    "Build and develop a Team, Design and Develop amazing software, Become a content Creator in some platform",
                    "Design and Creative strategy in any company, Design and Develop amazing software, Work as a freelancer and do my thing my way",
                    "Teaching in any of the institutes/online or Offline, Manage and drive End-to-End Projects or Products, Design and Develop amazing software",
                    "Manage and drive End-to-End Projects or Products, Design and Develop amazing software, Become a content Creator in some platform",
                    "Design and Creative strategy in any company, Business Operations in any organization, Design and Develop amazing software",
                    "Manage and drive End-to-End Projects or Products, Build and develop a Team, Work in a BPO setup for some well known client",
                    "Teaching in any of the institutes/online or Offline, Business Operations in any organization, Look deeply into Data and generate insights",
                    "Design and Creative strategy in any company, Manage and drive End-to-End Projects or Products, Become a content Creator in some platform",
                    "Build and develop a Team, Look deeply into Data and generate insights, Become a content Creator in some platform",
                    "Design and Creative strategy in any company, Design and Develop amazing software, Work in a BPO setup for some well known client",
                    "Look deeply into Data and generate insights, Work in a BPO setup for some well known client, Work as a freelancer and do my thing my way",
                    "Build and develop a Team, Work as a freelancer and do my thing my way, Become a content Creator in some platform",
                    "Business Operations in any organization, Manage and drive End-to-End Projects or Products, Design and Develop amazing software",
                    "Design and Creative strategy in any company, Build and develop a Team, Work as a freelancer and do my thing my way",
                    "Look deeply into Data and generate insights, Work in a BPO setup for some well known client, Become a content Creator in some platform",
                    "Teaching in any of the institutes/online or Offline, Design and Develop amazing software, Look deeply into Data and generate insights",
                    "Business Operations in any organization, Manage and drive End-to-End Projects or Products, Become a content Creator in some platform",
                    "Business Operations in any organization, Manage and drive End-to-End Projects or Products, Work as a freelancer and do my thing my way",
                    "Manage and drive End-to-End Projects or Products, Design and Develop amazing software, Look deeply into Data and generate insights",
                    "Teaching in any of the institutes/online or Offline, Manage and drive End-to-End Projects or Products, Build and develop a Team",
                    "Teaching in any of the institutes/online or Offline, Design and Develop amazing software, Work as a freelancer and do my thing my way",
                    "Design and Creative strategy in any company, Business Operations in any organization, Work in a BPO setup for some well known client",
                    "Manage and drive End-to-End Projects or Products, Look deeply into Data and generate insights, Become a content Creator in some platform",
                    "Business Operations in any organization, Design and Develop amazing software, Become a content Creator in some platform"
                  ],
                  "marker": {
                    "colors": [
                      "purple",
                      "mediumturquoise",
                      "gold",
                      "indigo",
                      "olivedrab",
                      "mediumvioletred",
                      "yellow",
                      "purple",
                      "lightgray"
                    ]
                  },
                  "type": "pie",
                  "values": [
                    12,
                    11,
                    9,
                    9,
                    8,
                    8,
                    7,
                    7,
                    6,
                    5,
                    5,
                    5,
                    4,
                    4,
                    4,
                    4,
                    4,
                    4,
                    4,
                    4,
                    4,
                    4,
                    4,
                    4,
                    3,
                    3,
                    3,
                    3,
                    3,
                    3,
                    3,
                    3,
                    3,
                    3,
                    3,
                    3,
                    2,
                    2,
                    2,
                    2,
                    2,
                    2,
                    2,
                    2,
                    2,
                    2,
                    2,
                    1,
                    1,
                    1,
                    1,
                    1,
                    1,
                    1,
                    1,
                    1,
                    1,
                    1,
                    1,
                    1,
                    1,
                    1,
                    1,
                    1,
                    1,
                    1,
                    1,
                    1,
                    1,
                    1,
                    1,
                    1,
                    1,
                    1,
                    1,
                    1,
                    1,
                    1,
                    1,
                    1,
                    1,
                    1,
                    1,
                    1
                  ]
                }
              ],
              "layout": {
                "template": {
                  "data": {
                    "bar": [
                      {
                        "error_x": {
                          "color": "#2a3f5f"
                        },
                        "error_y": {
                          "color": "#2a3f5f"
                        },
                        "marker": {
                          "line": {
                            "color": "#E5ECF6",
                            "width": 0.5
                          },
                          "pattern": {
                            "fillmode": "overlay",
                            "size": 10,
                            "solidity": 0.2
                          }
                        },
                        "type": "bar"
                      }
                    ],
                    "barpolar": [
                      {
                        "marker": {
                          "line": {
                            "color": "#E5ECF6",
                            "width": 0.5
                          },
                          "pattern": {
                            "fillmode": "overlay",
                            "size": 10,
                            "solidity": 0.2
                          }
                        },
                        "type": "barpolar"
                      }
                    ],
                    "carpet": [
                      {
                        "aaxis": {
                          "endlinecolor": "#2a3f5f",
                          "gridcolor": "white",
                          "linecolor": "white",
                          "minorgridcolor": "white",
                          "startlinecolor": "#2a3f5f"
                        },
                        "baxis": {
                          "endlinecolor": "#2a3f5f",
                          "gridcolor": "white",
                          "linecolor": "white",
                          "minorgridcolor": "white",
                          "startlinecolor": "#2a3f5f"
                        },
                        "type": "carpet"
                      }
                    ],
                    "choropleth": [
                      {
                        "colorbar": {
                          "outlinewidth": 0,
                          "ticks": ""
                        },
                        "type": "choropleth"
                      }
                    ],
                    "contour": [
                      {
                        "colorbar": {
                          "outlinewidth": 0,
                          "ticks": ""
                        },
                        "colorscale": [
                          [
                            0,
                            "#0d0887"
                          ],
                          [
                            0.1111111111111111,
                            "#46039f"
                          ],
                          [
                            0.2222222222222222,
                            "#7201a8"
                          ],
                          [
                            0.3333333333333333,
                            "#9c179e"
                          ],
                          [
                            0.4444444444444444,
                            "#bd3786"
                          ],
                          [
                            0.5555555555555556,
                            "#d8576b"
                          ],
                          [
                            0.6666666666666666,
                            "#ed7953"
                          ],
                          [
                            0.7777777777777778,
                            "#fb9f3a"
                          ],
                          [
                            0.8888888888888888,
                            "#fdca26"
                          ],
                          [
                            1,
                            "#f0f921"
                          ]
                        ],
                        "type": "contour"
                      }
                    ],
                    "contourcarpet": [
                      {
                        "colorbar": {
                          "outlinewidth": 0,
                          "ticks": ""
                        },
                        "type": "contourcarpet"
                      }
                    ],
                    "heatmap": [
                      {
                        "colorbar": {
                          "outlinewidth": 0,
                          "ticks": ""
                        },
                        "colorscale": [
                          [
                            0,
                            "#0d0887"
                          ],
                          [
                            0.1111111111111111,
                            "#46039f"
                          ],
                          [
                            0.2222222222222222,
                            "#7201a8"
                          ],
                          [
                            0.3333333333333333,
                            "#9c179e"
                          ],
                          [
                            0.4444444444444444,
                            "#bd3786"
                          ],
                          [
                            0.5555555555555556,
                            "#d8576b"
                          ],
                          [
                            0.6666666666666666,
                            "#ed7953"
                          ],
                          [
                            0.7777777777777778,
                            "#fb9f3a"
                          ],
                          [
                            0.8888888888888888,
                            "#fdca26"
                          ],
                          [
                            1,
                            "#f0f921"
                          ]
                        ],
                        "type": "heatmap"
                      }
                    ],
                    "heatmapgl": [
                      {
                        "colorbar": {
                          "outlinewidth": 0,
                          "ticks": ""
                        },
                        "colorscale": [
                          [
                            0,
                            "#0d0887"
                          ],
                          [
                            0.1111111111111111,
                            "#46039f"
                          ],
                          [
                            0.2222222222222222,
                            "#7201a8"
                          ],
                          [
                            0.3333333333333333,
                            "#9c179e"
                          ],
                          [
                            0.4444444444444444,
                            "#bd3786"
                          ],
                          [
                            0.5555555555555556,
                            "#d8576b"
                          ],
                          [
                            0.6666666666666666,
                            "#ed7953"
                          ],
                          [
                            0.7777777777777778,
                            "#fb9f3a"
                          ],
                          [
                            0.8888888888888888,
                            "#fdca26"
                          ],
                          [
                            1,
                            "#f0f921"
                          ]
                        ],
                        "type": "heatmapgl"
                      }
                    ],
                    "histogram": [
                      {
                        "marker": {
                          "pattern": {
                            "fillmode": "overlay",
                            "size": 10,
                            "solidity": 0.2
                          }
                        },
                        "type": "histogram"
                      }
                    ],
                    "histogram2d": [
                      {
                        "colorbar": {
                          "outlinewidth": 0,
                          "ticks": ""
                        },
                        "colorscale": [
                          [
                            0,
                            "#0d0887"
                          ],
                          [
                            0.1111111111111111,
                            "#46039f"
                          ],
                          [
                            0.2222222222222222,
                            "#7201a8"
                          ],
                          [
                            0.3333333333333333,
                            "#9c179e"
                          ],
                          [
                            0.4444444444444444,
                            "#bd3786"
                          ],
                          [
                            0.5555555555555556,
                            "#d8576b"
                          ],
                          [
                            0.6666666666666666,
                            "#ed7953"
                          ],
                          [
                            0.7777777777777778,
                            "#fb9f3a"
                          ],
                          [
                            0.8888888888888888,
                            "#fdca26"
                          ],
                          [
                            1,
                            "#f0f921"
                          ]
                        ],
                        "type": "histogram2d"
                      }
                    ],
                    "histogram2dcontour": [
                      {
                        "colorbar": {
                          "outlinewidth": 0,
                          "ticks": ""
                        },
                        "colorscale": [
                          [
                            0,
                            "#0d0887"
                          ],
                          [
                            0.1111111111111111,
                            "#46039f"
                          ],
                          [
                            0.2222222222222222,
                            "#7201a8"
                          ],
                          [
                            0.3333333333333333,
                            "#9c179e"
                          ],
                          [
                            0.4444444444444444,
                            "#bd3786"
                          ],
                          [
                            0.5555555555555556,
                            "#d8576b"
                          ],
                          [
                            0.6666666666666666,
                            "#ed7953"
                          ],
                          [
                            0.7777777777777778,
                            "#fb9f3a"
                          ],
                          [
                            0.8888888888888888,
                            "#fdca26"
                          ],
                          [
                            1,
                            "#f0f921"
                          ]
                        ],
                        "type": "histogram2dcontour"
                      }
                    ],
                    "mesh3d": [
                      {
                        "colorbar": {
                          "outlinewidth": 0,
                          "ticks": ""
                        },
                        "type": "mesh3d"
                      }
                    ],
                    "parcoords": [
                      {
                        "line": {
                          "colorbar": {
                            "outlinewidth": 0,
                            "ticks": ""
                          }
                        },
                        "type": "parcoords"
                      }
                    ],
                    "pie": [
                      {
                        "automargin": true,
                        "type": "pie"
                      }
                    ],
                    "scatter": [
                      {
                        "fillpattern": {
                          "fillmode": "overlay",
                          "size": 10,
                          "solidity": 0.2
                        },
                        "type": "scatter"
                      }
                    ],
                    "scatter3d": [
                      {
                        "line": {
                          "colorbar": {
                            "outlinewidth": 0,
                            "ticks": ""
                          }
                        },
                        "marker": {
                          "colorbar": {
                            "outlinewidth": 0,
                            "ticks": ""
                          }
                        },
                        "type": "scatter3d"
                      }
                    ],
                    "scattercarpet": [
                      {
                        "marker": {
                          "colorbar": {
                            "outlinewidth": 0,
                            "ticks": ""
                          }
                        },
                        "type": "scattercarpet"
                      }
                    ],
                    "scattergeo": [
                      {
                        "marker": {
                          "colorbar": {
                            "outlinewidth": 0,
                            "ticks": ""
                          }
                        },
                        "type": "scattergeo"
                      }
                    ],
                    "scattergl": [
                      {
                        "marker": {
                          "colorbar": {
                            "outlinewidth": 0,
                            "ticks": ""
                          }
                        },
                        "type": "scattergl"
                      }
                    ],
                    "scattermapbox": [
                      {
                        "marker": {
                          "colorbar": {
                            "outlinewidth": 0,
                            "ticks": ""
                          }
                        },
                        "type": "scattermapbox"
                      }
                    ],
                    "scatterpolar": [
                      {
                        "marker": {
                          "colorbar": {
                            "outlinewidth": 0,
                            "ticks": ""
                          }
                        },
                        "type": "scatterpolar"
                      }
                    ],
                    "scatterpolargl": [
                      {
                        "marker": {
                          "colorbar": {
                            "outlinewidth": 0,
                            "ticks": ""
                          }
                        },
                        "type": "scatterpolargl"
                      }
                    ],
                    "scatterternary": [
                      {
                        "marker": {
                          "colorbar": {
                            "outlinewidth": 0,
                            "ticks": ""
                          }
                        },
                        "type": "scatterternary"
                      }
                    ],
                    "surface": [
                      {
                        "colorbar": {
                          "outlinewidth": 0,
                          "ticks": ""
                        },
                        "colorscale": [
                          [
                            0,
                            "#0d0887"
                          ],
                          [
                            0.1111111111111111,
                            "#46039f"
                          ],
                          [
                            0.2222222222222222,
                            "#7201a8"
                          ],
                          [
                            0.3333333333333333,
                            "#9c179e"
                          ],
                          [
                            0.4444444444444444,
                            "#bd3786"
                          ],
                          [
                            0.5555555555555556,
                            "#d8576b"
                          ],
                          [
                            0.6666666666666666,
                            "#ed7953"
                          ],
                          [
                            0.7777777777777778,
                            "#fb9f3a"
                          ],
                          [
                            0.8888888888888888,
                            "#fdca26"
                          ],
                          [
                            1,
                            "#f0f921"
                          ]
                        ],
                        "type": "surface"
                      }
                    ],
                    "table": [
                      {
                        "cells": {
                          "fill": {
                            "color": "#EBF0F8"
                          },
                          "line": {
                            "color": "white"
                          }
                        },
                        "header": {
                          "fill": {
                            "color": "#C8D4E3"
                          },
                          "line": {
                            "color": "white"
                          }
                        },
                        "type": "table"
                      }
                    ]
                  },
                  "layout": {
                    "annotationdefaults": {
                      "arrowcolor": "#2a3f5f",
                      "arrowhead": 0,
                      "arrowwidth": 1
                    },
                    "autotypenumbers": "strict",
                    "coloraxis": {
                      "colorbar": {
                        "outlinewidth": 0,
                        "ticks": ""
                      }
                    },
                    "colorscale": {
                      "diverging": [
                        [
                          0,
                          "#8e0152"
                        ],
                        [
                          0.1,
                          "#c51b7d"
                        ],
                        [
                          0.2,
                          "#de77ae"
                        ],
                        [
                          0.3,
                          "#f1b6da"
                        ],
                        [
                          0.4,
                          "#fde0ef"
                        ],
                        [
                          0.5,
                          "#f7f7f7"
                        ],
                        [
                          0.6,
                          "#e6f5d0"
                        ],
                        [
                          0.7,
                          "#b8e186"
                        ],
                        [
                          0.8,
                          "#7fbc41"
                        ],
                        [
                          0.9,
                          "#4d9221"
                        ],
                        [
                          1,
                          "#276419"
                        ]
                      ],
                      "sequential": [
                        [
                          0,
                          "#0d0887"
                        ],
                        [
                          0.1111111111111111,
                          "#46039f"
                        ],
                        [
                          0.2222222222222222,
                          "#7201a8"
                        ],
                        [
                          0.3333333333333333,
                          "#9c179e"
                        ],
                        [
                          0.4444444444444444,
                          "#bd3786"
                        ],
                        [
                          0.5555555555555556,
                          "#d8576b"
                        ],
                        [
                          0.6666666666666666,
                          "#ed7953"
                        ],
                        [
                          0.7777777777777778,
                          "#fb9f3a"
                        ],
                        [
                          0.8888888888888888,
                          "#fdca26"
                        ],
                        [
                          1,
                          "#f0f921"
                        ]
                      ],
                      "sequentialminus": [
                        [
                          0,
                          "#0d0887"
                        ],
                        [
                          0.1111111111111111,
                          "#46039f"
                        ],
                        [
                          0.2222222222222222,
                          "#7201a8"
                        ],
                        [
                          0.3333333333333333,
                          "#9c179e"
                        ],
                        [
                          0.4444444444444444,
                          "#bd3786"
                        ],
                        [
                          0.5555555555555556,
                          "#d8576b"
                        ],
                        [
                          0.6666666666666666,
                          "#ed7953"
                        ],
                        [
                          0.7777777777777778,
                          "#fb9f3a"
                        ],
                        [
                          0.8888888888888888,
                          "#fdca26"
                        ],
                        [
                          1,
                          "#f0f921"
                        ]
                      ]
                    },
                    "colorway": [
                      "#636efa",
                      "#EF553B",
                      "#00cc96",
                      "#ab63fa",
                      "#FFA15A",
                      "#19d3f3",
                      "#FF6692",
                      "#B6E880",
                      "#FF97FF",
                      "#FECB52"
                    ],
                    "font": {
                      "color": "#2a3f5f"
                    },
                    "geo": {
                      "bgcolor": "white",
                      "lakecolor": "white",
                      "landcolor": "#E5ECF6",
                      "showlakes": true,
                      "showland": true,
                      "subunitcolor": "white"
                    },
                    "hoverlabel": {
                      "align": "left"
                    },
                    "hovermode": "closest",
                    "mapbox": {
                      "style": "light"
                    },
                    "paper_bgcolor": "white",
                    "plot_bgcolor": "#E5ECF6",
                    "polar": {
                      "angularaxis": {
                        "gridcolor": "white",
                        "linecolor": "white",
                        "ticks": ""
                      },
                      "bgcolor": "#E5ECF6",
                      "radialaxis": {
                        "gridcolor": "white",
                        "linecolor": "white",
                        "ticks": ""
                      }
                    },
                    "scene": {
                      "xaxis": {
                        "backgroundcolor": "#E5ECF6",
                        "gridcolor": "white",
                        "gridwidth": 2,
                        "linecolor": "white",
                        "showbackground": true,
                        "ticks": "",
                        "zerolinecolor": "white"
                      },
                      "yaxis": {
                        "backgroundcolor": "#E5ECF6",
                        "gridcolor": "white",
                        "gridwidth": 2,
                        "linecolor": "white",
                        "showbackground": true,
                        "ticks": "",
                        "zerolinecolor": "white"
                      },
                      "zaxis": {
                        "backgroundcolor": "#E5ECF6",
                        "gridcolor": "white",
                        "gridwidth": 2,
                        "linecolor": "white",
                        "showbackground": true,
                        "ticks": "",
                        "zerolinecolor": "white"
                      }
                    },
                    "shapedefaults": {
                      "line": {
                        "color": "#2a3f5f"
                      }
                    },
                    "ternary": {
                      "aaxis": {
                        "gridcolor": "white",
                        "linecolor": "white",
                        "ticks": ""
                      },
                      "baxis": {
                        "gridcolor": "white",
                        "linecolor": "white",
                        "ticks": ""
                      },
                      "bgcolor": "#E5ECF6",
                      "caxis": {
                        "gridcolor": "white",
                        "linecolor": "white",
                        "ticks": ""
                      }
                    },
                    "title": {
                      "x": 0.05
                    },
                    "xaxis": {
                      "automargin": true,
                      "gridcolor": "white",
                      "linecolor": "white",
                      "ticks": "",
                      "title": {
                        "standoff": 15
                      },
                      "zerolinecolor": "white",
                      "zerolinewidth": 2
                    },
                    "yaxis": {
                      "automargin": true,
                      "gridcolor": "white",
                      "linecolor": "white",
                      "ticks": "",
                      "title": {
                        "standoff": 15
                      },
                      "zerolinecolor": "white",
                      "zerolinewidth": 2
                    }
                  }
                },
                "title": {
                  "text": "Which of the below careers looks close to your Aspirational job ?"
                }
              }
            }
          },
          "metadata": {},
          "output_type": "display_data"
        }
      ],
      "source": [
        "colors = ['purple', 'mediumturquoise', 'gold', 'indigo', 'olivedrab', 'mediumvioletred', 'yellow', 'purple', 'lightgray']\n",
        "\n",
        "environment=df[\"Which of the below careers looks close to your Aspirational job ?\"].value_counts()\n",
        "label=environment.index\n",
        "counts=environment.values\n",
        "fig=go.Figure(data=[go.Pie(labels=label,values=counts, marker_colors=colors)])\n",
        "fig.update_layout(title_text=\"Which of the below careers looks close to your Aspirational job ?\")\n",
        "fig.show()"
      ]
    },
    {
      "cell_type": "code",
      "execution_count": 4,
      "metadata": {},
      "outputs": [
        {
          "data": {
            "text/plain": [
              "Business Operations in any organization, Manage and drive End-to-End Projects or Products, Look deeply into Data and generate insights        12\n",
              "Business Operations in any organization, Manage and drive End-to-End Projects or Products, Build and develop a Team                           11\n",
              "Design and Creative strategy in any company, Teaching in any of the institutes/online or Offline, Business Operations in any organization      9\n",
              "Business Operations in any organization, Build and develop a Team, Look deeply into Data and generate insights                                 9\n",
              "Design and Creative strategy in any company, Manage and drive End-to-End Projects or Products, Look deeply into Data and generate insights     8\n",
              "                                                                                                                                              ..\n",
              "Teaching in any of the institutes/online or Offline, Manage and drive End-to-End Projects or Products, Build and develop a Team                1\n",
              "Teaching in any of the institutes/online or Offline, Design and Develop amazing software, Work as a freelancer and do my thing my way          1\n",
              "Design and Creative strategy in any company, Business Operations in any organization, Work in a BPO setup for some well known client           1\n",
              "Manage and drive End-to-End Projects or Products, Look deeply into Data and generate insights, Become a content Creator in some platform       1\n",
              "Business Operations in any organization, Design and Develop amazing software, Become a content Creator in some platform                        1\n",
              "Name: Which of the below careers looks close to your Aspirational job ?, Length: 84, dtype: int64"
            ]
          },
          "execution_count": 4,
          "metadata": {},
          "output_type": "execute_result"
        }
      ],
      "source": [
        "carreras=df[\"Which of the below careers looks close to your Aspirational job ?\"].value_counts()\n",
        "carreras"
      ]
    },
    {
      "cell_type": "code",
      "execution_count": 161,
      "metadata": {},
      "outputs": [
        {
          "name": "stdout",
          "output_type": "stream",
          "text": [
            "    What is the most preferred working environment for you.\n",
            "0         Fully Remote with No option to visit offices     \n",
            "1    Fully Remote with Options to travel as and whe...     \n",
            "2    Hybrid Working Environment with less than 15 d...     \n",
            "3    Hybrid Working Environment with less than 15 d...     \n",
            "4    Fully Remote with Options to travel as and whe...     \n",
            "..                                                 ...     \n",
            "230  Fully Remote with Options to travel as and whe...     \n",
            "231  Hybrid Working Environment with less than 3 da...     \n",
            "232  Hybrid Working Environment with less than 10 d...     \n",
            "233  Hybrid Working Environment with less than 15 d...     \n",
            "234                       Every Day Office Environment     \n",
            "\n",
            "[235 rows x 1 columns]\n",
            "[1 2 4 4 2 2 2 4 2 0 2 2 4 2 4 3 4 0 0 4 4 0 2 0 4 2 5 4 2 0 0 3 4 1 3 5 0\n",
            " 0 4 0 3 1 2 4 3 4 4 2 4 3 5 2 3 2 0 2 2 1 3 0 2 5 4 2 3 3 2 2 4 5 3 2 0 1\n",
            " 1 2 5 4 0 3 1 2 5 0 3 0 4 0 4 2 3 0 5 0 4 4 0 0 0 2 3 4 3 5 3 4 2 3 4 4 3\n",
            " 4 3 4 2 4 2 4 2 5 3 0 1 2 3 2 1 4 2 4 5 3 4 4 5 0 4 3 2 4 0 2 2 5 5 5 2 4\n",
            " 0 2 2 4 5 3 2 3 2 0 2 5 4 2 5 0 4 1 5 0 5 2 4 5 0 0 4 0 0 4 2 4 2 2 4 4 0\n",
            " 3 2 4 2 2 0 5 2 5 4 0 4 5 3 2 5 4 4 3 4 0 4 0 0 0 2 0 2 0 0 2 2 0 4 2 0 0\n",
            " 0 2 0 3 4 0 1 2 2 5 3 4 0]\n",
            "Precisión del modelo: 0.0\n"
          ]
        }
      ],
      "source": [
        "import pandas as pd\n",
        "from sklearn.model_selection import train_test_split\n",
        "from sklearn.linear_model import LogisticRegression\n",
        "from sklearn.preprocessing import LabelEncoder\n",
        "from sklearn.metrics import accuracy_score\n",
        "\n",
        "# Cargar el conjunto de datos\n",
        "X = df[['What is the most preferred working environment for you.']]\n",
        "print(X)\n",
        "# Codificar la variable categórica en valores numéricos\n",
        "label_encoder = LabelEncoder()\n",
        "X_encoded = label_encoder.fit_transform(X)\n",
        "\n",
        "print(X_encoded)\n",
        "\n",
        "# Dividir el conjunto de datos en etiquetas (y) y características (X)\n",
        "y = df.index\n",
        "\n",
        "# Dividir el conjunto de datos en conjuntos de entrenamiento y prueba\n",
        "X_train, X_test, y_train, y_test = train_test_split(X_encoded, y, test_size=0.2, random_state=5)\n",
        "\n",
        "# Inicializar y entrenar el modelo de regresión logística\n",
        "model = LogisticRegression()\n",
        "model.fit(X_train.reshape(-1, 1), y_train)\n",
        "\n",
        "# Predecir en el conjunto de prueba\n",
        "predictions = model.predict(X_test.reshape(-1, 1))\n",
        "\n",
        "# Calcular la precisión del modelo\n",
        "accuracy = accuracy_score(y_test, predictions)\n",
        "print(\"Precisión del modelo:\", accuracy)\n",
        "\n"
      ]
    },
    {
      "cell_type": "code",
      "execution_count": 36,
      "metadata": {},
      "outputs": [
        {
          "name": "stdout",
          "output_type": "stream",
          "text": [
            "     Zona1  Zona2  Zona3  Zona4  Zona5  Zona6  Zona7  Zona8\n",
            "0        0      1      0      0      0      0      0      0\n",
            "1        0      0      0      0      0      0      0      1\n",
            "2        1      0      0      0      0      0      0      0\n",
            "3        0      0      0      0      0      0      0      1\n",
            "4        0      0      1      0      0      0      0      0\n",
            "..     ...    ...    ...    ...    ...    ...    ...    ...\n",
            "230      0      0      0      0      0      1      0      0\n",
            "231      0      0      0      0      0      0      1      0\n",
            "232      0      0      0      0      0      1      0      0\n",
            "233      1      0      0      0      0      0      0      0\n",
            "234      0      0      0      0      0      1      0      0\n",
            "\n",
            "[235 rows x 8 columns]\n",
            "    Your Current Country.  Your Current Zip Code / Pin Code Your Gender  \\\n",
            "0                   India                            273005        Male   \n",
            "1                   India                            851129        Male   \n",
            "2                   India                            123106      Female   \n",
            "3                   India                            834003        Male   \n",
            "4                   India                            301019      Female   \n",
            "..                    ...                               ...         ...   \n",
            "230                 India                            605008        Male   \n",
            "231                 India                            722207        Male   \n",
            "232                 India                            604102      Female   \n",
            "233                 India                            122002        Male   \n",
            "234                 India                            605102      Female   \n",
            "\n",
            "    Which of the below factors influence the most about your career aspirations ?  \\\n",
            "0         People who have changed the world for better                              \n",
            "1         People who have changed the world for better                              \n",
            "2                           Social Media like LinkedIn                              \n",
            "3        People from my circle, but not family members                              \n",
            "4               Influencers who had successful careers                              \n",
            "..                                                 ...                              \n",
            "230      People from my circle, but not family members                              \n",
            "231      People from my circle, but not family members                              \n",
            "232       People who have changed the world for better                              \n",
            "233       People who have changed the world for better                              \n",
            "234                                         My Parents                              \n",
            "\n",
            "    Would you definitely pursue a Higher Education / Post Graduation outside of India ? If only you have to self sponsor it.  \\\n",
            "0                         Yes, I will earn and do that                                                                         \n",
            "1        No, But if someone could bare the cost I will                                                                         \n",
            "2                         Yes, I will earn and do that                                                                         \n",
            "3        No, But if someone could bare the cost I will                                                                         \n",
            "4        No, But if someone could bare the cost I will                                                                         \n",
            "..                                                 ...                                                                         \n",
            "230                       Yes, I will earn and do that                                                                         \n",
            "231  No I would not be pursuing Higher Education ou...                                                                         \n",
            "232                       Yes, I will earn and do that                                                                         \n",
            "233                       Yes, I will earn and do that                                                                         \n",
            "234                       Yes, I will earn and do that                                                                         \n",
            "\n",
            "    How likely is that you will work for one employer for 3 years or more ?  \\\n",
            "0    This will be hard to do, but if it is the righ...                        \n",
            "1    This will be hard to do, but if it is the righ...                        \n",
            "2                        Will work for 3 years or more                        \n",
            "3    This will be hard to do, but if it is the righ...                        \n",
            "4                        Will work for 3 years or more                        \n",
            "..                                                 ...                        \n",
            "230                      Will work for 3 years or more                        \n",
            "231  This will be hard to do, but if it is the righ...                        \n",
            "232                      Will work for 3 years or more                        \n",
            "233         No way, 3 years with one employer is crazy                        \n",
            "234  This will be hard to do, but if it is the righ...                        \n",
            "\n",
            "    Would you work for a company whose mission is not clearly defined and publicly posted.  \\\n",
            "0                                                   No                                       \n",
            "1                                                   No                                       \n",
            "2                                                  Yes                                       \n",
            "3                                                   No                                       \n",
            "4                                                   No                                       \n",
            "..                                                 ...                                       \n",
            "230                                                 No                                       \n",
            "231                                                Yes                                       \n",
            "232                                                Yes                                       \n",
            "233                                                 No                                       \n",
            "234                                                Yes                                       \n",
            "\n",
            "    How likely would you work for a company whose mission is misaligned with their public actions or even their product ?  \\\n",
            "0                               Will NOT work for them                                                                      \n",
            "1                               Will NOT work for them                                                                      \n",
            "2                                   Will work for them                                                                      \n",
            "3                               Will NOT work for them                                                                      \n",
            "4                               Will NOT work for them                                                                      \n",
            "..                                                 ...                                                                      \n",
            "230                             Will NOT work for them                                                                      \n",
            "231                                 Will work for them                                                                      \n",
            "232                                 Will work for them                                                                      \n",
            "233                             Will NOT work for them                                                                      \n",
            "234                                 Will work for them                                                                      \n",
            "\n",
            "     How likely would you work for a company whose mission is not bringing social impact ?  \\\n",
            "0                                                    4                                       \n",
            "1                                                    1                                       \n",
            "2                                                    7                                       \n",
            "3                                                    6                                       \n",
            "4                                                    5                                       \n",
            "..                                                 ...                                       \n",
            "230                                                  7                                       \n",
            "231                                                  5                                       \n",
            "232                                                  4                                       \n",
            "233                                                  7                                       \n",
            "234                                                  5                                       \n",
            "\n",
            "    What is the most preferred working environment for you.  ...  \\\n",
            "0         Fully Remote with No option to visit offices       ...   \n",
            "1    Fully Remote with Options to travel as and whe...       ...   \n",
            "2    Hybrid Working Environment with less than 15 d...       ...   \n",
            "3    Hybrid Working Environment with less than 15 d...       ...   \n",
            "4    Fully Remote with Options to travel as and whe...       ...   \n",
            "..                                                 ...       ...   \n",
            "230  Fully Remote with Options to travel as and whe...       ...   \n",
            "231  Hybrid Working Environment with less than 3 da...       ...   \n",
            "232  Hybrid Working Environment with less than 10 d...       ...   \n",
            "233  Hybrid Working Environment with less than 15 d...       ...   \n",
            "234                       Every Day Office Environment       ...   \n",
            "\n",
            "    Which of the following setup you would like to work ?   Zona Zona1 Zona2  \\\n",
            "0    Work alone, Work with 2 to 3 people in my team...     Zona2     0     1   \n",
            "1                   Work with 5 to 6 people in my team     Zona8     0     0   \n",
            "2    Work with 2 to 3 people in my team, Work with ...     Zona1     1     0   \n",
            "3                   Work with 2 to 3 people in my team     Zona8     0     0   \n",
            "4    Work with 2 to 3 people in my team, Work with ...     Zona3     0     0   \n",
            "..                                                 ...       ...   ...   ...   \n",
            "230           Work with more than 10 people in my team     Zona6     0     0   \n",
            "231                 Work with 2 to 3 people in my team     Zona7     0     0   \n",
            "232           Work with more than 10 people in my team     Zona6     0     0   \n",
            "233                 Work with 5 to 6 people in my team     Zona1     1     0   \n",
            "234        Work with 7 to 10 or more people in my team     Zona6     0     0   \n",
            "\n",
            "    Zona3 Zona4  Zona5  Zona6  Zona7  Zona8  \n",
            "0       0     0      0      0      0      0  \n",
            "1       0     0      0      0      0      1  \n",
            "2       0     0      0      0      0      0  \n",
            "3       0     0      0      0      0      1  \n",
            "4       1     0      0      0      0      0  \n",
            "..    ...   ...    ...    ...    ...    ...  \n",
            "230     0     0      0      1      0      0  \n",
            "231     0     0      0      0      1      0  \n",
            "232     0     0      0      1      0      0  \n",
            "233     0     0      0      0      0      0  \n",
            "234     0     0      0      1      0      0  \n",
            "\n",
            "[235 rows x 24 columns]\n"
          ]
        }
      ],
      "source": [
        "\n",
        "# Crear una nueva columna para la zona\n",
        "df['Zona'] = ''\n",
        "\n",
        "# Asignar la zona a cada código postal\n",
        "for index, row in df.iterrows():\n",
        "#for index, row in df[\"Your Current Zip Code / Pin Code\"]\n",
        "    cp1 = row['Your Current Zip Code / Pin Code']\n",
        "    cp=str(cp1)\n",
        "    if cp.startswith('1'):\n",
        "        df.at[index, 'Zona'] = 'Zona1'\n",
        "    elif cp.startswith('2'):\n",
        "        df.at[index, 'Zona'] = 'Zona2'\n",
        "    elif cp.startswith('3'):\n",
        "        df.at[index, 'Zona'] = 'Zona3'\n",
        "    elif cp.startswith('4'):\n",
        "        df.at[index, 'Zona'] = 'Zona4'\n",
        "    elif cp.startswith('5'):\n",
        "        df.at[index, 'Zona'] = 'Zona5'\n",
        "    elif cp.startswith('6'):\n",
        "        df.at[index, 'Zona'] = 'Zona6'\n",
        "    elif cp.startswith('7'):\n",
        "        df.at[index, 'Zona'] = 'Zona7'\n",
        "    elif cp.startswith('8'):\n",
        "        df.at[index, 'Zona'] = 'Zona8'\n",
        "    elif cp.startswith('0'):\n",
        "        df.at[index, 'Zona'] = 'Zona9'\n",
        "    # Puedes agregar más condiciones según sea necesario para más zonas\n",
        "\n",
        "# Aplicar One-Hot Encoding a la columna de zonas\n",
        "df_encoded = pd.get_dummies(df['Zona'])\n",
        "print(df_encoded)\n",
        "# Concatenar el DataFrame original con el DataFrame codificado\n",
        "df_final = pd.concat([df, df_encoded], axis=1)\n",
        "\n",
        "print(df_final)\n"
      ]
    },
    {
      "cell_type": "code",
      "execution_count": 40,
      "metadata": {},
      "outputs": [
        {
          "name": "stdout",
          "output_type": "stream",
          "text": [
            "    Your Current Country. Your Gender  \\\n",
            "0                   India        Male   \n",
            "1                   India        Male   \n",
            "2                   India      Female   \n",
            "3                   India        Male   \n",
            "4                   India      Female   \n",
            "..                    ...         ...   \n",
            "230                 India        Male   \n",
            "231                 India        Male   \n",
            "232                 India      Female   \n",
            "233                 India        Male   \n",
            "234                 India      Female   \n",
            "\n",
            "    Which of the below factors influence the most about your career aspirations ?  \\\n",
            "0         People who have changed the world for better                              \n",
            "1         People who have changed the world for better                              \n",
            "2                           Social Media like LinkedIn                              \n",
            "3        People from my circle, but not family members                              \n",
            "4               Influencers who had successful careers                              \n",
            "..                                                 ...                              \n",
            "230      People from my circle, but not family members                              \n",
            "231      People from my circle, but not family members                              \n",
            "232       People who have changed the world for better                              \n",
            "233       People who have changed the world for better                              \n",
            "234                                         My Parents                              \n",
            "\n",
            "    Would you definitely pursue a Higher Education / Post Graduation outside of India ? If only you have to self sponsor it.  \\\n",
            "0                         Yes, I will earn and do that                                                                         \n",
            "1        No, But if someone could bare the cost I will                                                                         \n",
            "2                         Yes, I will earn and do that                                                                         \n",
            "3        No, But if someone could bare the cost I will                                                                         \n",
            "4        No, But if someone could bare the cost I will                                                                         \n",
            "..                                                 ...                                                                         \n",
            "230                       Yes, I will earn and do that                                                                         \n",
            "231  No I would not be pursuing Higher Education ou...                                                                         \n",
            "232                       Yes, I will earn and do that                                                                         \n",
            "233                       Yes, I will earn and do that                                                                         \n",
            "234                       Yes, I will earn and do that                                                                         \n",
            "\n",
            "    How likely is that you will work for one employer for 3 years or more ?  \\\n",
            "0    This will be hard to do, but if it is the righ...                        \n",
            "1    This will be hard to do, but if it is the righ...                        \n",
            "2                        Will work for 3 years or more                        \n",
            "3    This will be hard to do, but if it is the righ...                        \n",
            "4                        Will work for 3 years or more                        \n",
            "..                                                 ...                        \n",
            "230                      Will work for 3 years or more                        \n",
            "231  This will be hard to do, but if it is the righ...                        \n",
            "232                      Will work for 3 years or more                        \n",
            "233         No way, 3 years with one employer is crazy                        \n",
            "234  This will be hard to do, but if it is the righ...                        \n",
            "\n",
            "    Would you work for a company whose mission is not clearly defined and publicly posted.  \\\n",
            "0                                                   No                                       \n",
            "1                                                   No                                       \n",
            "2                                                  Yes                                       \n",
            "3                                                   No                                       \n",
            "4                                                   No                                       \n",
            "..                                                 ...                                       \n",
            "230                                                 No                                       \n",
            "231                                                Yes                                       \n",
            "232                                                Yes                                       \n",
            "233                                                 No                                       \n",
            "234                                                Yes                                       \n",
            "\n",
            "    How likely would you work for a company whose mission is misaligned with their public actions or even their product ?  \\\n",
            "0                               Will NOT work for them                                                                      \n",
            "1                               Will NOT work for them                                                                      \n",
            "2                                   Will work for them                                                                      \n",
            "3                               Will NOT work for them                                                                      \n",
            "4                               Will NOT work for them                                                                      \n",
            "..                                                 ...                                                                      \n",
            "230                             Will NOT work for them                                                                      \n",
            "231                                 Will work for them                                                                      \n",
            "232                                 Will work for them                                                                      \n",
            "233                             Will NOT work for them                                                                      \n",
            "234                                 Will work for them                                                                      \n",
            "\n",
            "     How likely would you work for a company whose mission is not bringing social impact ?  \\\n",
            "0                                                    4                                       \n",
            "1                                                    1                                       \n",
            "2                                                    7                                       \n",
            "3                                                    6                                       \n",
            "4                                                    5                                       \n",
            "..                                                 ...                                       \n",
            "230                                                  7                                       \n",
            "231                                                  5                                       \n",
            "232                                                  4                                       \n",
            "233                                                  7                                       \n",
            "234                                                  5                                       \n",
            "\n",
            "    What is the most preferred working environment for you.  \\\n",
            "0         Fully Remote with No option to visit offices        \n",
            "1    Fully Remote with Options to travel as and whe...        \n",
            "2    Hybrid Working Environment with less than 15 d...        \n",
            "3    Hybrid Working Environment with less than 15 d...        \n",
            "4    Fully Remote with Options to travel as and whe...        \n",
            "..                                                 ...        \n",
            "230  Fully Remote with Options to travel as and whe...        \n",
            "231  Hybrid Working Environment with less than 3 da...        \n",
            "232  Hybrid Working Environment with less than 10 d...        \n",
            "233  Hybrid Working Environment with less than 15 d...        \n",
            "234                       Every Day Office Environment        \n",
            "\n",
            "     Which of the below Employers would you work with.  ...  \\\n",
            "0    Employer who rewards learning and enables that...  ...   \n",
            "1    Employer who pushes your limits by enabling an...  ...   \n",
            "2    Employer who pushes your limits by enabling an...  ...   \n",
            "3    Employer who pushes your limits by enabling an...  ...   \n",
            "4    Employer who appreciates learning and enables ...  ...   \n",
            "..                                                 ...  ...   \n",
            "230  Employer who pushes your limits by enabling an...  ...   \n",
            "231  Employer who rewards learning and enables that...  ...   \n",
            "232  Employer who appreciates learning and enables ...  ...   \n",
            "233  Employer who rewards learning and enables that...  ...   \n",
            "234  Employer who appreciates learning and enables ...  ...   \n",
            "\n",
            "    What type of Manager would you work without looking into your watch ?  \\\n",
            "0    Manager who explains what is expected, sets a ...                      \n",
            "1    Manager who explains what is expected, sets a ...                      \n",
            "2    Manager who explains what is expected, sets a ...                      \n",
            "3    Manager who explains what is expected, sets a ...                      \n",
            "4    Manager who explains what is expected, sets a ...                      \n",
            "..                                                 ...                      \n",
            "230      Manager who sets goal and helps me achieve it                      \n",
            "231  Manager who explains what is expected, sets a ...                      \n",
            "232      Manager who sets goal and helps me achieve it                      \n",
            "233  Manager who explains what is expected, sets a ...                      \n",
            "234  Manager who sets targets and expects me to ach...                      \n",
            "\n",
            "    Which of the following setup you would like to work ? Zona1 Zona2  Zona3  \\\n",
            "0    Work alone, Work with 2 to 3 people in my team...        0     1      0   \n",
            "1                   Work with 5 to 6 people in my team        0     0      0   \n",
            "2    Work with 2 to 3 people in my team, Work with ...        1     0      0   \n",
            "3                   Work with 2 to 3 people in my team        0     0      0   \n",
            "4    Work with 2 to 3 people in my team, Work with ...        0     0      1   \n",
            "..                                                 ...      ...   ...    ...   \n",
            "230           Work with more than 10 people in my team        0     0      0   \n",
            "231                 Work with 2 to 3 people in my team        0     0      0   \n",
            "232           Work with more than 10 people in my team        0     0      0   \n",
            "233                 Work with 5 to 6 people in my team        1     0      0   \n",
            "234        Work with 7 to 10 or more people in my team        0     0      0   \n",
            "\n",
            "     Zona4  Zona5  Zona6  Zona7  Zona8  \n",
            "0        0      0      0      0      0  \n",
            "1        0      0      0      0      1  \n",
            "2        0      0      0      0      0  \n",
            "3        0      0      0      0      1  \n",
            "4        0      0      0      0      0  \n",
            "..     ...    ...    ...    ...    ...  \n",
            "230      0      0      1      0      0  \n",
            "231      0      0      0      1      0  \n",
            "232      0      0      1      0      0  \n",
            "233      0      0      0      0      0  \n",
            "234      0      0      1      0      0  \n",
            "\n",
            "[235 rows x 22 columns]\n"
          ]
        }
      ],
      "source": [
        "# Eliminar columnas auxiliares\n",
        "df_final = df_final.drop(['Your Current Zip Code / Pin Code', 'Zona'], axis=1)\n",
        "\n",
        "print(df_final)"
      ]
    },
    {
      "cell_type": "code",
      "execution_count": 44,
      "metadata": {},
      "outputs": [],
      "source": [
        "\n",
        "\n",
        "# Codificar variables categóricas\n",
        "label_encoders = {}\n",
        "for column in df.columns:\n",
        "    if df[column].dtype == 'object':\n",
        "        label_encoders[column] = LabelEncoder()\n",
        "        df[column] = label_encoders[column].fit_transform(df[column])\n",
        "\n",
        "# Dividir el dataset en características (X) y etiquetas (y)\n",
        "X = df.drop(columns=['Which of the following setup you would like to work ?'])\n",
        "y = df['Which of the following setup you would like to work ?']\n",
        "\n",
        "# Dividir el dataset en conjuntos de entrenamiento y prueba\n",
        "X_train, X_test, y_train, y_test = train_test_split(X, y, test_size=0.2, random_state=5)\n",
        "\n",
        "\n",
        "\n"
      ]
    },
    {
      "cell_type": "code",
      "execution_count": null,
      "metadata": {},
      "outputs": [],
      "source": []
    },
    {
      "cell_type": "code",
      "execution_count": 45,
      "metadata": {},
      "outputs": [],
      "source": [
        "# Definir los parámetros a ajustar\n",
        "param_grid = {\n",
        "    'n_estimators': [50, 100, 150],\n",
        "    'max_depth': [None, 10, 20],\n",
        "    'min_samples_split': [2, 5, 10],\n",
        "    'min_samples_leaf': [1, 2, 4]\n",
        "}\n",
        "\n",
        "# Inicializar el modelo\n",
        "model = RandomForestClassifier()\n",
        "\n",
        "# Realizar la búsqueda de hiperparámetros con validación cruzada\n",
        "grid_search = GridSearchCV(model, param_grid, cv=5, scoring='accuracy')\n",
        "grid_search.fit(X_train, y_train)\n",
        "\n",
        "# Obtener el mejor modelo\n",
        "best_model = grid_search.best_estimator_\n",
        "\n",
        "\n"
      ]
    },
    {
      "cell_type": "code",
      "execution_count": 46,
      "metadata": {},
      "outputs": [
        {
          "data": {
            "text/plain": [
              "array([13, 13,  8, 13, 13, 13, 13,  0,  8, 13,  8, 19,  8,  0,  1,  8,  8,\n",
              "       13, 13,  8,  8,  8,  8,  8, 13, 13,  8, 13,  0, 13, 13,  8,  8, 13,\n",
              "        8, 19,  0,  8, 13, 13, 13, 13,  8, 13, 17, 19, 13])"
            ]
          },
          "execution_count": 46,
          "metadata": {},
          "output_type": "execute_result"
        }
      ],
      "source": [
        "# Hacer predicciones en el conjunto de prueba\n",
        "predictions = best_model.predict(X_test)\n",
        "predictions \n",
        "\n"
      ]
    },
    {
      "cell_type": "code",
      "execution_count": 47,
      "metadata": {},
      "outputs": [
        {
          "name": "stdout",
          "output_type": "stream",
          "text": [
            "Precisión del modelo: 0.3829787234042553\n"
          ]
        }
      ],
      "source": [
        "# Calcular la precisión del modelo\n",
        "accuracy = accuracy_score(y_test, predictions)\n",
        "print(\"Precisión del modelo:\", accuracy)"
      ]
    },
    {
      "cell_type": "code",
      "execution_count": 50,
      "metadata": {},
      "outputs": [
        {
          "name": "stdout",
          "output_type": "stream",
          "text": [
            "Precisión del modelo: 0.3829787234042553\n",
            "Matriz de Confusión:\n",
            "[[ 2  0  0  0  1  0  0  0  0  0]\n",
            " [ 0  0  0  0  2  0  2  0  0  0]\n",
            " [ 0  0  0  0  0  0  1  0  0  0]\n",
            " [ 0  0  0  0  0  0  3  0  0  0]\n",
            " [ 1  1  0  0  4  0  3  0  0  0]\n",
            " [ 0  0  0  0  1  0  0  0  1  0]\n",
            " [ 1  0  0  0  6  0 10  0  0  0]\n",
            " [ 0  0  0  0  0  0  0  0  0  1]\n",
            " [ 0  0  0  0  1  0  1  0  0  0]\n",
            " [ 0  0  0  0  2  0  1  0  0  2]]\n",
            "Reporte de Clasificación:\n",
            "              precision    recall  f1-score   support\n",
            "\n",
            "           0       0.50      0.67      0.57         3\n",
            "           1       0.00      0.00      0.00         4\n",
            "           2       0.00      0.00      0.00         1\n",
            "           4       0.00      0.00      0.00         3\n",
            "           8       0.24      0.44      0.31         9\n",
            "           9       0.00      0.00      0.00         2\n",
            "          13       0.48      0.59      0.53        17\n",
            "          15       0.00      0.00      0.00         1\n",
            "          17       0.00      0.00      0.00         2\n",
            "          19       0.67      0.40      0.50         5\n",
            "\n",
            "    accuracy                           0.38        47\n",
            "   macro avg       0.19      0.21      0.19        47\n",
            "weighted avg       0.32      0.38      0.34        47\n",
            "\n"
          ]
        }
      ],
      "source": [
        "# Calcular la precisión del modelo\n",
        "accuracy = accuracy_score(y_test, predictions)\n",
        "print(\"Precisión del modelo:\", accuracy)\n",
        "\n",
        "# Calcular la matriz de confusión\n",
        "conf_matrix = confusion_matrix(y_test, predictions)\n",
        "print(\"Matriz de Confusión:\")\n",
        "print(conf_matrix)\n",
        "\n",
        "# Imprimir el reporte de clasificación\n",
        "print(\"Reporte de Clasificación:\")\n",
        "print(classification_report(y_test, predictions))"
      ]
    },
    {
      "cell_type": "code",
      "execution_count": 81,
      "metadata": {},
      "outputs": [
        {
          "data": {
            "text/plain": [
              "Fully Remote with Options to travel as and when needed                 60\n",
              "Hybrid Working Environment with less than 15 days a month at office    57\n",
              "Every Day Office Environment                                           50\n",
              "Hybrid Working Environment with less than 10 days a month at office    31\n",
              "Hybrid Working Environment with less than 3 days a month at office     26\n",
              "Fully Remote with No option to visit offices                           11\n",
              "Name: What is the most preferred working environment for you., dtype: int64"
            ]
          },
          "execution_count": 81,
          "metadata": {},
          "output_type": "execute_result"
        }
      ],
      "source": [
        "contador = df['What is the most preferred working environment for you.'].value_counts()\n",
        "contador"
      ]
    },
    {
      "cell_type": "code",
      "execution_count": 25,
      "metadata": {},
      "outputs": [
        {
          "data": {
            "text/html": [
              "<div>\n",
              "<style scoped>\n",
              "    .dataframe tbody tr th:only-of-type {\n",
              "        vertical-align: middle;\n",
              "    }\n",
              "\n",
              "    .dataframe tbody tr th {\n",
              "        vertical-align: top;\n",
              "    }\n",
              "\n",
              "    .dataframe thead th {\n",
              "        text-align: right;\n",
              "    }\n",
              "</style>\n",
              "<table border=\"1\" class=\"dataframe\">\n",
              "  <thead>\n",
              "    <tr style=\"text-align: right;\">\n",
              "      <th></th>\n",
              "      <th>Which of the below factors influence the most about your career aspirations ?_Influencers who had successful careers</th>\n",
              "      <th>Which of the below factors influence the most about your career aspirations ?_My Parents</th>\n",
              "      <th>Which of the below factors influence the most about your career aspirations ?_People from my circle, but not family members</th>\n",
              "      <th>Which of the below factors influence the most about your career aspirations ?_People who have changed the world for better</th>\n",
              "      <th>Which of the below factors influence the most about your career aspirations ?_Social Media like LinkedIn</th>\n",
              "      <th>What is the most preferred working environment for you._Every Day Office Environment</th>\n",
              "      <th>What is the most preferred working environment for you._Fully Remote with No option to visit offices</th>\n",
              "      <th>What is the most preferred working environment for you._Fully Remote with Options to travel as and when needed</th>\n",
              "      <th>What is the most preferred working environment for you._Hybrid Working Environment with less than 10 days a month at office</th>\n",
              "      <th>What is the most preferred working environment for you._Hybrid Working Environment with less than 15 days a month at office</th>\n",
              "      <th>...</th>\n",
              "      <th>Which of the following setup you would like to work ?_Work with 2 to 3 people in my team, Work with 5 to 6 people in my team, Work with 7 to 10 or more people in my team</th>\n",
              "      <th>Which of the following setup you would like to work ?_Work with 2 to 3 people in my team, Work with 5 to 6 people in my team, Work with 7 to 10 or more people in my team, Work with more than 10 people in my team</th>\n",
              "      <th>Which of the following setup you would like to work ?_Work with 2 to 3 people in my team, Work with 7 to 10 or more people in my team, Work with more than 10 people in my team</th>\n",
              "      <th>Which of the following setup you would like to work ?_Work with 5 to 6 people in my team</th>\n",
              "      <th>Which of the following setup you would like to work ?_Work with 5 to 6 people in my team, Work with 7 to 10 or more people in my team</th>\n",
              "      <th>Which of the following setup you would like to work ?_Work with 5 to 6 people in my team, Work with 7 to 10 or more people in my team, Work with more than 10 people in my team</th>\n",
              "      <th>Which of the following setup you would like to work ?_Work with 5 to 6 people in my team, Work with more than 10 people in my team</th>\n",
              "      <th>Which of the following setup you would like to work ?_Work with 7 to 10 or more people in my team</th>\n",
              "      <th>Which of the following setup you would like to work ?_Work with 7 to 10 or more people in my team, Work with more than 10 people in my team</th>\n",
              "      <th>Which of the following setup you would like to work ?_Work with more than 10 people in my team</th>\n",
              "    </tr>\n",
              "  </thead>\n",
              "  <tbody>\n",
              "    <tr>\n",
              "      <th>0</th>\n",
              "      <td>0</td>\n",
              "      <td>0</td>\n",
              "      <td>0</td>\n",
              "      <td>1</td>\n",
              "      <td>0</td>\n",
              "      <td>0</td>\n",
              "      <td>1</td>\n",
              "      <td>0</td>\n",
              "      <td>0</td>\n",
              "      <td>0</td>\n",
              "      <td>...</td>\n",
              "      <td>0</td>\n",
              "      <td>0</td>\n",
              "      <td>0</td>\n",
              "      <td>0</td>\n",
              "      <td>0</td>\n",
              "      <td>0</td>\n",
              "      <td>0</td>\n",
              "      <td>0</td>\n",
              "      <td>0</td>\n",
              "      <td>0</td>\n",
              "    </tr>\n",
              "    <tr>\n",
              "      <th>1</th>\n",
              "      <td>0</td>\n",
              "      <td>0</td>\n",
              "      <td>0</td>\n",
              "      <td>1</td>\n",
              "      <td>0</td>\n",
              "      <td>0</td>\n",
              "      <td>0</td>\n",
              "      <td>1</td>\n",
              "      <td>0</td>\n",
              "      <td>0</td>\n",
              "      <td>...</td>\n",
              "      <td>0</td>\n",
              "      <td>0</td>\n",
              "      <td>0</td>\n",
              "      <td>1</td>\n",
              "      <td>0</td>\n",
              "      <td>0</td>\n",
              "      <td>0</td>\n",
              "      <td>0</td>\n",
              "      <td>0</td>\n",
              "      <td>0</td>\n",
              "    </tr>\n",
              "    <tr>\n",
              "      <th>2</th>\n",
              "      <td>0</td>\n",
              "      <td>0</td>\n",
              "      <td>0</td>\n",
              "      <td>0</td>\n",
              "      <td>1</td>\n",
              "      <td>0</td>\n",
              "      <td>0</td>\n",
              "      <td>0</td>\n",
              "      <td>0</td>\n",
              "      <td>1</td>\n",
              "      <td>...</td>\n",
              "      <td>0</td>\n",
              "      <td>0</td>\n",
              "      <td>0</td>\n",
              "      <td>0</td>\n",
              "      <td>0</td>\n",
              "      <td>0</td>\n",
              "      <td>0</td>\n",
              "      <td>0</td>\n",
              "      <td>0</td>\n",
              "      <td>0</td>\n",
              "    </tr>\n",
              "    <tr>\n",
              "      <th>3</th>\n",
              "      <td>0</td>\n",
              "      <td>0</td>\n",
              "      <td>1</td>\n",
              "      <td>0</td>\n",
              "      <td>0</td>\n",
              "      <td>0</td>\n",
              "      <td>0</td>\n",
              "      <td>0</td>\n",
              "      <td>0</td>\n",
              "      <td>1</td>\n",
              "      <td>...</td>\n",
              "      <td>0</td>\n",
              "      <td>0</td>\n",
              "      <td>0</td>\n",
              "      <td>0</td>\n",
              "      <td>0</td>\n",
              "      <td>0</td>\n",
              "      <td>0</td>\n",
              "      <td>0</td>\n",
              "      <td>0</td>\n",
              "      <td>0</td>\n",
              "    </tr>\n",
              "    <tr>\n",
              "      <th>4</th>\n",
              "      <td>1</td>\n",
              "      <td>0</td>\n",
              "      <td>0</td>\n",
              "      <td>0</td>\n",
              "      <td>0</td>\n",
              "      <td>0</td>\n",
              "      <td>0</td>\n",
              "      <td>1</td>\n",
              "      <td>0</td>\n",
              "      <td>0</td>\n",
              "      <td>...</td>\n",
              "      <td>0</td>\n",
              "      <td>0</td>\n",
              "      <td>0</td>\n",
              "      <td>0</td>\n",
              "      <td>0</td>\n",
              "      <td>0</td>\n",
              "      <td>0</td>\n",
              "      <td>0</td>\n",
              "      <td>0</td>\n",
              "      <td>0</td>\n",
              "    </tr>\n",
              "    <tr>\n",
              "      <th>...</th>\n",
              "      <td>...</td>\n",
              "      <td>...</td>\n",
              "      <td>...</td>\n",
              "      <td>...</td>\n",
              "      <td>...</td>\n",
              "      <td>...</td>\n",
              "      <td>...</td>\n",
              "      <td>...</td>\n",
              "      <td>...</td>\n",
              "      <td>...</td>\n",
              "      <td>...</td>\n",
              "      <td>...</td>\n",
              "      <td>...</td>\n",
              "      <td>...</td>\n",
              "      <td>...</td>\n",
              "      <td>...</td>\n",
              "      <td>...</td>\n",
              "      <td>...</td>\n",
              "      <td>...</td>\n",
              "      <td>...</td>\n",
              "      <td>...</td>\n",
              "    </tr>\n",
              "    <tr>\n",
              "      <th>230</th>\n",
              "      <td>0</td>\n",
              "      <td>0</td>\n",
              "      <td>1</td>\n",
              "      <td>0</td>\n",
              "      <td>0</td>\n",
              "      <td>0</td>\n",
              "      <td>0</td>\n",
              "      <td>1</td>\n",
              "      <td>0</td>\n",
              "      <td>0</td>\n",
              "      <td>...</td>\n",
              "      <td>0</td>\n",
              "      <td>0</td>\n",
              "      <td>0</td>\n",
              "      <td>0</td>\n",
              "      <td>0</td>\n",
              "      <td>0</td>\n",
              "      <td>0</td>\n",
              "      <td>0</td>\n",
              "      <td>0</td>\n",
              "      <td>1</td>\n",
              "    </tr>\n",
              "    <tr>\n",
              "      <th>231</th>\n",
              "      <td>0</td>\n",
              "      <td>0</td>\n",
              "      <td>1</td>\n",
              "      <td>0</td>\n",
              "      <td>0</td>\n",
              "      <td>0</td>\n",
              "      <td>0</td>\n",
              "      <td>0</td>\n",
              "      <td>0</td>\n",
              "      <td>0</td>\n",
              "      <td>...</td>\n",
              "      <td>0</td>\n",
              "      <td>0</td>\n",
              "      <td>0</td>\n",
              "      <td>0</td>\n",
              "      <td>0</td>\n",
              "      <td>0</td>\n",
              "      <td>0</td>\n",
              "      <td>0</td>\n",
              "      <td>0</td>\n",
              "      <td>0</td>\n",
              "    </tr>\n",
              "    <tr>\n",
              "      <th>232</th>\n",
              "      <td>0</td>\n",
              "      <td>0</td>\n",
              "      <td>0</td>\n",
              "      <td>1</td>\n",
              "      <td>0</td>\n",
              "      <td>0</td>\n",
              "      <td>0</td>\n",
              "      <td>0</td>\n",
              "      <td>1</td>\n",
              "      <td>0</td>\n",
              "      <td>...</td>\n",
              "      <td>0</td>\n",
              "      <td>0</td>\n",
              "      <td>0</td>\n",
              "      <td>0</td>\n",
              "      <td>0</td>\n",
              "      <td>0</td>\n",
              "      <td>0</td>\n",
              "      <td>0</td>\n",
              "      <td>0</td>\n",
              "      <td>1</td>\n",
              "    </tr>\n",
              "    <tr>\n",
              "      <th>233</th>\n",
              "      <td>0</td>\n",
              "      <td>0</td>\n",
              "      <td>0</td>\n",
              "      <td>1</td>\n",
              "      <td>0</td>\n",
              "      <td>0</td>\n",
              "      <td>0</td>\n",
              "      <td>0</td>\n",
              "      <td>0</td>\n",
              "      <td>1</td>\n",
              "      <td>...</td>\n",
              "      <td>0</td>\n",
              "      <td>0</td>\n",
              "      <td>0</td>\n",
              "      <td>1</td>\n",
              "      <td>0</td>\n",
              "      <td>0</td>\n",
              "      <td>0</td>\n",
              "      <td>0</td>\n",
              "      <td>0</td>\n",
              "      <td>0</td>\n",
              "    </tr>\n",
              "    <tr>\n",
              "      <th>234</th>\n",
              "      <td>0</td>\n",
              "      <td>1</td>\n",
              "      <td>0</td>\n",
              "      <td>0</td>\n",
              "      <td>0</td>\n",
              "      <td>1</td>\n",
              "      <td>0</td>\n",
              "      <td>0</td>\n",
              "      <td>0</td>\n",
              "      <td>0</td>\n",
              "      <td>...</td>\n",
              "      <td>0</td>\n",
              "      <td>0</td>\n",
              "      <td>0</td>\n",
              "      <td>0</td>\n",
              "      <td>0</td>\n",
              "      <td>0</td>\n",
              "      <td>0</td>\n",
              "      <td>1</td>\n",
              "      <td>0</td>\n",
              "      <td>0</td>\n",
              "    </tr>\n",
              "  </tbody>\n",
              "</table>\n",
              "<p>235 rows × 31 columns</p>\n",
              "</div>"
            ],
            "text/plain": [
              "     Which of the below factors influence the most about your career aspirations ?_Influencers who had successful careers  \\\n",
              "0                                                    0                                                                      \n",
              "1                                                    0                                                                      \n",
              "2                                                    0                                                                      \n",
              "3                                                    0                                                                      \n",
              "4                                                    1                                                                      \n",
              "..                                                 ...                                                                      \n",
              "230                                                  0                                                                      \n",
              "231                                                  0                                                                      \n",
              "232                                                  0                                                                      \n",
              "233                                                  0                                                                      \n",
              "234                                                  0                                                                      \n",
              "\n",
              "     Which of the below factors influence the most about your career aspirations ?_My Parents  \\\n",
              "0                                                    0                                          \n",
              "1                                                    0                                          \n",
              "2                                                    0                                          \n",
              "3                                                    0                                          \n",
              "4                                                    0                                          \n",
              "..                                                 ...                                          \n",
              "230                                                  0                                          \n",
              "231                                                  0                                          \n",
              "232                                                  0                                          \n",
              "233                                                  0                                          \n",
              "234                                                  1                                          \n",
              "\n",
              "     Which of the below factors influence the most about your career aspirations ?_People from my circle, but not family members  \\\n",
              "0                                                    0                                                                             \n",
              "1                                                    0                                                                             \n",
              "2                                                    0                                                                             \n",
              "3                                                    1                                                                             \n",
              "4                                                    0                                                                             \n",
              "..                                                 ...                                                                             \n",
              "230                                                  1                                                                             \n",
              "231                                                  1                                                                             \n",
              "232                                                  0                                                                             \n",
              "233                                                  0                                                                             \n",
              "234                                                  0                                                                             \n",
              "\n",
              "     Which of the below factors influence the most about your career aspirations ?_People who have changed the world for better  \\\n",
              "0                                                    1                                                                            \n",
              "1                                                    1                                                                            \n",
              "2                                                    0                                                                            \n",
              "3                                                    0                                                                            \n",
              "4                                                    0                                                                            \n",
              "..                                                 ...                                                                            \n",
              "230                                                  0                                                                            \n",
              "231                                                  0                                                                            \n",
              "232                                                  1                                                                            \n",
              "233                                                  1                                                                            \n",
              "234                                                  0                                                                            \n",
              "\n",
              "     Which of the below factors influence the most about your career aspirations ?_Social Media like LinkedIn  \\\n",
              "0                                                    0                                                          \n",
              "1                                                    0                                                          \n",
              "2                                                    1                                                          \n",
              "3                                                    0                                                          \n",
              "4                                                    0                                                          \n",
              "..                                                 ...                                                          \n",
              "230                                                  0                                                          \n",
              "231                                                  0                                                          \n",
              "232                                                  0                                                          \n",
              "233                                                  0                                                          \n",
              "234                                                  0                                                          \n",
              "\n",
              "     What is the most preferred working environment for you._Every Day Office Environment  \\\n",
              "0                                                    0                                      \n",
              "1                                                    0                                      \n",
              "2                                                    0                                      \n",
              "3                                                    0                                      \n",
              "4                                                    0                                      \n",
              "..                                                 ...                                      \n",
              "230                                                  0                                      \n",
              "231                                                  0                                      \n",
              "232                                                  0                                      \n",
              "233                                                  0                                      \n",
              "234                                                  1                                      \n",
              "\n",
              "     What is the most preferred working environment for you._Fully Remote with No option to visit offices  \\\n",
              "0                                                    1                                                      \n",
              "1                                                    0                                                      \n",
              "2                                                    0                                                      \n",
              "3                                                    0                                                      \n",
              "4                                                    0                                                      \n",
              "..                                                 ...                                                      \n",
              "230                                                  0                                                      \n",
              "231                                                  0                                                      \n",
              "232                                                  0                                                      \n",
              "233                                                  0                                                      \n",
              "234                                                  0                                                      \n",
              "\n",
              "     What is the most preferred working environment for you._Fully Remote with Options to travel as and when needed  \\\n",
              "0                                                    0                                                                \n",
              "1                                                    1                                                                \n",
              "2                                                    0                                                                \n",
              "3                                                    0                                                                \n",
              "4                                                    1                                                                \n",
              "..                                                 ...                                                                \n",
              "230                                                  1                                                                \n",
              "231                                                  0                                                                \n",
              "232                                                  0                                                                \n",
              "233                                                  0                                                                \n",
              "234                                                  0                                                                \n",
              "\n",
              "     What is the most preferred working environment for you._Hybrid Working Environment with less than 10 days a month at office  \\\n",
              "0                                                    0                                                                             \n",
              "1                                                    0                                                                             \n",
              "2                                                    0                                                                             \n",
              "3                                                    0                                                                             \n",
              "4                                                    0                                                                             \n",
              "..                                                 ...                                                                             \n",
              "230                                                  0                                                                             \n",
              "231                                                  0                                                                             \n",
              "232                                                  1                                                                             \n",
              "233                                                  0                                                                             \n",
              "234                                                  0                                                                             \n",
              "\n",
              "     What is the most preferred working environment for you._Hybrid Working Environment with less than 15 days a month at office  \\\n",
              "0                                                    0                                                                             \n",
              "1                                                    0                                                                             \n",
              "2                                                    1                                                                             \n",
              "3                                                    1                                                                             \n",
              "4                                                    0                                                                             \n",
              "..                                                 ...                                                                             \n",
              "230                                                  0                                                                             \n",
              "231                                                  0                                                                             \n",
              "232                                                  0                                                                             \n",
              "233                                                  1                                                                             \n",
              "234                                                  0                                                                             \n",
              "\n",
              "     ...  \\\n",
              "0    ...   \n",
              "1    ...   \n",
              "2    ...   \n",
              "3    ...   \n",
              "4    ...   \n",
              "..   ...   \n",
              "230  ...   \n",
              "231  ...   \n",
              "232  ...   \n",
              "233  ...   \n",
              "234  ...   \n",
              "\n",
              "     Which of the following setup you would like to work ?_Work with 2 to 3 people in my team, Work with 5 to 6 people in my team, Work with 7 to 10 or more people in my team  \\\n",
              "0                                                    0                                                                                                                           \n",
              "1                                                    0                                                                                                                           \n",
              "2                                                    0                                                                                                                           \n",
              "3                                                    0                                                                                                                           \n",
              "4                                                    0                                                                                                                           \n",
              "..                                                 ...                                                                                                                           \n",
              "230                                                  0                                                                                                                           \n",
              "231                                                  0                                                                                                                           \n",
              "232                                                  0                                                                                                                           \n",
              "233                                                  0                                                                                                                           \n",
              "234                                                  0                                                                                                                           \n",
              "\n",
              "     Which of the following setup you would like to work ?_Work with 2 to 3 people in my team, Work with 5 to 6 people in my team, Work with 7 to 10 or more people in my team, Work with more than 10 people in my team  \\\n",
              "0                                                    0                                                                                                                                                                     \n",
              "1                                                    0                                                                                                                                                                     \n",
              "2                                                    0                                                                                                                                                                     \n",
              "3                                                    0                                                                                                                                                                     \n",
              "4                                                    0                                                                                                                                                                     \n",
              "..                                                 ...                                                                                                                                                                     \n",
              "230                                                  0                                                                                                                                                                     \n",
              "231                                                  0                                                                                                                                                                     \n",
              "232                                                  0                                                                                                                                                                     \n",
              "233                                                  0                                                                                                                                                                     \n",
              "234                                                  0                                                                                                                                                                     \n",
              "\n",
              "     Which of the following setup you would like to work ?_Work with 2 to 3 people in my team, Work with 7 to 10 or more people in my team, Work with more than 10 people in my team  \\\n",
              "0                                                    0                                                                                                                                 \n",
              "1                                                    0                                                                                                                                 \n",
              "2                                                    0                                                                                                                                 \n",
              "3                                                    0                                                                                                                                 \n",
              "4                                                    0                                                                                                                                 \n",
              "..                                                 ...                                                                                                                                 \n",
              "230                                                  0                                                                                                                                 \n",
              "231                                                  0                                                                                                                                 \n",
              "232                                                  0                                                                                                                                 \n",
              "233                                                  0                                                                                                                                 \n",
              "234                                                  0                                                                                                                                 \n",
              "\n",
              "     Which of the following setup you would like to work ?_Work with 5 to 6 people in my team  \\\n",
              "0                                                    0                                          \n",
              "1                                                    1                                          \n",
              "2                                                    0                                          \n",
              "3                                                    0                                          \n",
              "4                                                    0                                          \n",
              "..                                                 ...                                          \n",
              "230                                                  0                                          \n",
              "231                                                  0                                          \n",
              "232                                                  0                                          \n",
              "233                                                  1                                          \n",
              "234                                                  0                                          \n",
              "\n",
              "     Which of the following setup you would like to work ?_Work with 5 to 6 people in my team, Work with 7 to 10 or more people in my team  \\\n",
              "0                                                    0                                                                                       \n",
              "1                                                    0                                                                                       \n",
              "2                                                    0                                                                                       \n",
              "3                                                    0                                                                                       \n",
              "4                                                    0                                                                                       \n",
              "..                                                 ...                                                                                       \n",
              "230                                                  0                                                                                       \n",
              "231                                                  0                                                                                       \n",
              "232                                                  0                                                                                       \n",
              "233                                                  0                                                                                       \n",
              "234                                                  0                                                                                       \n",
              "\n",
              "     Which of the following setup you would like to work ?_Work with 5 to 6 people in my team, Work with 7 to 10 or more people in my team, Work with more than 10 people in my team  \\\n",
              "0                                                    0                                                                                                                                 \n",
              "1                                                    0                                                                                                                                 \n",
              "2                                                    0                                                                                                                                 \n",
              "3                                                    0                                                                                                                                 \n",
              "4                                                    0                                                                                                                                 \n",
              "..                                                 ...                                                                                                                                 \n",
              "230                                                  0                                                                                                                                 \n",
              "231                                                  0                                                                                                                                 \n",
              "232                                                  0                                                                                                                                 \n",
              "233                                                  0                                                                                                                                 \n",
              "234                                                  0                                                                                                                                 \n",
              "\n",
              "     Which of the following setup you would like to work ?_Work with 5 to 6 people in my team, Work with more than 10 people in my team  \\\n",
              "0                                                    0                                                                                    \n",
              "1                                                    0                                                                                    \n",
              "2                                                    0                                                                                    \n",
              "3                                                    0                                                                                    \n",
              "4                                                    0                                                                                    \n",
              "..                                                 ...                                                                                    \n",
              "230                                                  0                                                                                    \n",
              "231                                                  0                                                                                    \n",
              "232                                                  0                                                                                    \n",
              "233                                                  0                                                                                    \n",
              "234                                                  0                                                                                    \n",
              "\n",
              "     Which of the following setup you would like to work ?_Work with 7 to 10 or more people in my team  \\\n",
              "0                                                    0                                                   \n",
              "1                                                    0                                                   \n",
              "2                                                    0                                                   \n",
              "3                                                    0                                                   \n",
              "4                                                    0                                                   \n",
              "..                                                 ...                                                   \n",
              "230                                                  0                                                   \n",
              "231                                                  0                                                   \n",
              "232                                                  0                                                   \n",
              "233                                                  0                                                   \n",
              "234                                                  1                                                   \n",
              "\n",
              "     Which of the following setup you would like to work ?_Work with 7 to 10 or more people in my team, Work with more than 10 people in my team  \\\n",
              "0                                                    0                                                                                             \n",
              "1                                                    0                                                                                             \n",
              "2                                                    0                                                                                             \n",
              "3                                                    0                                                                                             \n",
              "4                                                    0                                                                                             \n",
              "..                                                 ...                                                                                             \n",
              "230                                                  0                                                                                             \n",
              "231                                                  0                                                                                             \n",
              "232                                                  0                                                                                             \n",
              "233                                                  0                                                                                             \n",
              "234                                                  0                                                                                             \n",
              "\n",
              "     Which of the following setup you would like to work ?_Work with more than 10 people in my team  \n",
              "0                                                    0                                               \n",
              "1                                                    0                                               \n",
              "2                                                    0                                               \n",
              "3                                                    0                                               \n",
              "4                                                    0                                               \n",
              "..                                                 ...                                               \n",
              "230                                                  1                                               \n",
              "231                                                  0                                               \n",
              "232                                                  1                                               \n",
              "233                                                  0                                               \n",
              "234                                                  0                                               \n",
              "\n",
              "[235 rows x 31 columns]"
            ]
          },
          "execution_count": 25,
          "metadata": {},
          "output_type": "execute_result"
        }
      ],
      "source": [
        "import pandas as pd\n",
        "import numpy as np\n",
        "import matplotlib.pyplot as plt\n",
        "from sklearn.cluster import KMeans\n",
        "from sklearn.preprocessing import StandardScaler\n",
        "from sklearn.decomposition import PCA\n",
        "\n",
        "\n",
        "\n",
        "\n",
        "# Seleccionar las variables relevantes para el análisis de tendencias\n",
        "variables_interes = ['Which of the below factors influence the most about your career aspirations ?', \n",
        "                    'What is the most preferred working environment for you.', \n",
        "                    'Which of the following setup you would like to work ?']\n",
        "\n",
        "data_interes = df[variables_interes]\n",
        "\n",
        "# Codificar variables categóricas utilizando one-hot encoding\n",
        "data_encoded = pd.get_dummies(data_interes)\n",
        "data_encoded \n",
        "\n"
      ]
    },
    {
      "cell_type": "code",
      "execution_count": 26,
      "metadata": {},
      "outputs": [
        {
          "data": {
            "text/plain": [
              "<bound method IndexOpsMixin.value_counts of 0      Work alone, Work with 2 to 3 people in my team...\n",
              "1                     Work with 5 to 6 people in my team\n",
              "2      Work with 2 to 3 people in my team, Work with ...\n",
              "3                     Work with 2 to 3 people in my team\n",
              "4      Work with 2 to 3 people in my team, Work with ...\n",
              "                             ...                        \n",
              "230             Work with more than 10 people in my team\n",
              "231                   Work with 2 to 3 people in my team\n",
              "232             Work with more than 10 people in my team\n",
              "233                   Work with 5 to 6 people in my team\n",
              "234          Work with 7 to 10 or more people in my team\n",
              "Name: Which of the following setup you would like to work ?, Length: 235, dtype: object>"
            ]
          },
          "execution_count": 26,
          "metadata": {},
          "output_type": "execute_result"
        }
      ],
      "source": [
        "imprimirvalores = data_interes['Which of the following setup you would like to work ?'].value_counts\n",
        "imprimirvalores"
      ]
    },
    {
      "cell_type": "code",
      "execution_count": 27,
      "metadata": {},
      "outputs": [
        {
          "data": {
            "text/plain": [
              "array([[ 1.35412878e+00, -2.21883507e+00,  1.43946522e+00,\n",
              "        -1.99303809e+00],\n",
              "       [ 2.42929380e+00, -1.08683100e+00, -3.95895390e-01,\n",
              "         8.06071764e-01],\n",
              "       [ 4.78460674e-02,  9.76696648e-01,  8.23568777e-01,\n",
              "        -2.56579275e+00],\n",
              "       [-4.37281973e-01,  1.80261141e+00, -1.38283044e+00,\n",
              "        -1.75090833e+00],\n",
              "       [ 1.17240973e+00,  7.97346430e-01, -1.39623748e-01,\n",
              "         9.10351930e-01],\n",
              "       [-5.60294551e-01, -8.77242634e-01, -6.82822494e-01,\n",
              "         7.45599158e-01],\n",
              "       [ 1.61259406e+00,  2.87443626e-01, -1.39428330e+00,\n",
              "        -2.25078017e-01],\n",
              "       [-3.74332544e-01,  1.64806100e+00, -8.26231127e-01,\n",
              "        -1.76255807e+00],\n",
              "       [ 1.61259406e+00,  2.87443626e-01, -1.39428330e+00,\n",
              "        -2.25078017e-01],\n",
              "       [-5.29166686e-01,  4.56135078e-02,  1.94019354e+00,\n",
              "        -2.66543467e-01],\n",
              "       [ 1.85285991e+00,  8.83155315e-01, -1.47911797e-01,\n",
              "        -4.62223562e-01],\n",
              "       [ 1.91109622e+00, -1.65147567e+00,  1.77040901e+00,\n",
              "         9.02369939e-02],\n",
              "       [-1.54521207e+00, -5.83365247e-02, -1.29957083e+00,\n",
              "        -1.02928074e+00],\n",
              "       [ 2.42929380e+00, -1.08683100e+00, -3.95895390e-01,\n",
              "         8.06071764e-01],\n",
              "       [ 5.95082193e-01,  1.59909331e+00, -8.08666807e-01,\n",
              "        -1.83598723e+00],\n",
              "       [ 9.82299878e-01,  2.30772088e+00,  9.68929145e-03,\n",
              "        -5.46668839e-01],\n",
              "       [ 1.87492207e-01,  1.61625254e+00, -7.56372082e-01,\n",
              "        -8.64527964e-01],\n",
              "       [-1.38022409e+00, -1.67656848e+00, -1.13357024e+00,\n",
              "         7.13136240e-01],\n",
              "       [ 5.11811402e-01, -6.97151602e-01,  9.83922890e-01,\n",
              "         1.18662911e+00],\n",
              "       [ 4.04736388e-01,  1.73068724e+00, -1.19930265e+00,\n",
              "         2.99988648e-01],\n",
              "       [ 6.27676540e-01,  1.10634974e+00, -2.01103164e+00,\n",
              "        -1.99995791e+00],\n",
              "       [-2.44518261e+00, -9.80306811e-01, -5.05369043e-01,\n",
              "         9.62185823e-01],\n",
              "       [ 3.93426719e-01, -2.88562906e+00, -1.17655557e+00,\n",
              "         1.28812272e+00],\n",
              "       [-4.57603336e-01, -6.48183913e-01,  9.66358570e-01,\n",
              "         1.26005827e+00],\n",
              "       [ 6.27676540e-01,  1.10634974e+00, -2.01103164e+00,\n",
              "        -1.99995791e+00],\n",
              "       [ 1.22250731e+00,  6.85265460e-01,  1.38792549e-01,\n",
              "         1.61925088e+00],\n",
              "       [-1.06098640e+00, -6.82100795e-01,  1.32146136e-01,\n",
              "        -2.59450401e-01],\n",
              "       [-1.54521207e+00, -5.83365247e-02, -1.29957083e+00,\n",
              "        -1.02928074e+00],\n",
              "       [ 2.66955965e+00, -4.91119309e-01,  8.50476115e-01,\n",
              "         5.68926219e-01],\n",
              "       [-8.02026881e-01, -5.73546087e-02,  1.89618686e+00,\n",
              "         1.34572759e-01],\n",
              "       [-1.24919032e+00, -1.15390538e+00, -1.48416116e-01,\n",
              "         4.84231711e-01],\n",
              "       [ 1.38155729e+00,  3.38705448e-01, -2.82285957e-01,\n",
              "         1.01375098e+00],\n",
              "       [ 1.87492207e-01,  1.61625254e+00, -7.56372082e-01,\n",
              "        -8.64527964e-01],\n",
              "       [ 1.51639502e+00, -1.51627638e+00,  1.06909875e+00,\n",
              "        -6.08176897e-01],\n",
              "       [-1.60803107e+00,  5.48293811e-01, -5.69213061e-01,\n",
              "         9.53278377e-01],\n",
              "       [-1.37550721e+00,  1.78018707e+00,  1.00779874e+00,\n",
              "         9.48329806e-01],\n",
              "       [-6.29786393e-01,  8.94577106e-02, -8.86118827e-01,\n",
              "         1.67186686e+00],\n",
              "       [-5.20552765e-01, -4.93633503e-01,  4.09759258e-01,\n",
              "         1.27170801e+00],\n",
              "       [-3.49219780e-01, -2.31935090e-01, -9.42617902e-01,\n",
              "        -1.50723485e+00],\n",
              "       [-2.44518261e+00, -9.80306811e-01, -5.05369043e-01,\n",
              "         9.62185823e-01],\n",
              "       [-1.60803107e+00,  5.48293811e-01, -5.69213061e-01,\n",
              "         9.53278377e-01],\n",
              "       [ 1.80280358e+00, -1.44419868e+00,  1.37430779e+00,\n",
              "        -9.08542408e-01],\n",
              "       [ 4.73431496e-01, -1.75339989e+00,  4.44969000e-02,\n",
              "        -1.11721615e+00],\n",
              "       [ 1.57541006e+00,  2.54738218e-01, -2.74896010e-02,\n",
              "        -1.19771266e+00],\n",
              "       [ 5.32263194e-01,  2.20572364e+00, -7.83090402e-02,\n",
              "         1.46571882e-01],\n",
              "       [-5.62945491e-01, -1.49773654e-01, -1.00382349e+00,\n",
              "        -1.82325859e+00],\n",
              "       [-6.34710727e-02, -1.19326173e+00, -1.55781946e+00,\n",
              "        -1.88001255e+00],\n",
              "       [ 4.47510738e+00, -1.75204529e+00,  1.22519545e+00,\n",
              "         2.20123223e+00],\n",
              "       [ 6.27676540e-01,  1.10634974e+00, -2.01103164e+00,\n",
              "        -1.99995791e+00],\n",
              "       [ 2.07365144e-01,  1.61805833e+00, -9.49962846e-01,\n",
              "         1.66295942e+00],\n",
              "       [-4.82789187e-01,  9.37113079e-01,  3.16190324e+00,\n",
              "        -8.38013882e-01],\n",
              "       [ 1.52990212e+00,  8.92268168e-01, -4.70334771e-01,\n",
              "        -7.70006286e-01],\n",
              "       [ 1.51259106e+00,  8.61368554e-01,  7.02868166e-01,\n",
              "         7.84846454e-01],\n",
              "       [ 2.39806134e+00, -1.26672658e+00,  9.59625201e-01,\n",
              "        -8.07693958e-01],\n",
              "       [-2.38223318e+00, -1.13485722e+00,  5.12302698e-02,\n",
              "         9.50536084e-01],\n",
              "       [ 2.56032758e+00, -5.64167892e-01,  5.89258733e-01,\n",
              "         5.77167236e-01],\n",
              "       [ 5.04663963e-01, -1.57350431e+00, -1.31102369e+00,\n",
              "         4.96549575e-01],\n",
              "       [ 8.67163661e-01, -2.60358416e+00,  2.25024903e+00,\n",
              "        -1.09510714e+00],\n",
              "       [ 3.16598772e-01,  1.03496712e+00,  3.45915240e-01,\n",
              "         1.26280057e+00],\n",
              "       [-2.44518261e+00, -9.80306811e-01, -5.05369043e-01,\n",
              "         9.62185823e-01],\n",
              "       [ 5.04663963e-01, -1.57350431e+00, -1.31102369e+00,\n",
              "         4.96549575e-01],\n",
              "       [ 9.94677218e-01,  3.27235619e-01,  2.03242856e+00,\n",
              "        -1.78832741e-01],\n",
              "       [ 2.37589795e-01,  1.50417157e+00, -4.77955784e-01,\n",
              "        -1.55629014e-01],\n",
              "       [ 1.57999971e+00,  7.80187199e-01, -1.91918474e-01,\n",
              "        -6.11073362e-02],\n",
              "       [ 1.50689421e+00,  2.19054378e+00,  1.79486301e+00,\n",
              "         8.95789658e-01],\n",
              "       [ 1.38155729e+00,  3.38705448e-01, -2.82285957e-01,\n",
              "         1.01375098e+00],\n",
              "       [ 2.56384605e+00, -3.67571760e-01,  8.51225767e-02,\n",
              "         1.42566011e+00],\n",
              "       [ 2.39669946e+00, -5.94087425e-01,  8.06469438e-01,\n",
              "         9.70042445e-01],\n",
              "       [-9.98451139e-01, -1.31924287e+00,  2.38532371e-01,\n",
              "        -1.99416509e+00],\n",
              "       [-1.31255778e+00,  1.62563666e+00,  1.56439806e+00,\n",
              "         9.36680067e-01],\n",
              "       [-8.57593370e-01,  2.31432001e+00, -3.21761649e-01,\n",
              "         1.91200900e+00],\n",
              "       [ 2.39669946e+00, -5.94087425e-01,  8.06469438e-01,\n",
              "         9.70042445e-01],\n",
              "       [-2.44518261e+00, -9.80306811e-01, -5.05369043e-01,\n",
              "         9.62185823e-01],\n",
              "       [-5.39268596e-01, -2.52561280e+00, -8.31183671e-01,\n",
              "        -6.88794558e-01],\n",
              "       [-1.05746618e+00, -3.09025747e+00,  1.33512072e+00,\n",
              "        -1.40462933e+00],\n",
              "       [ 2.42929380e+00, -1.08683100e+00, -3.95895390e-01,\n",
              "         8.06071764e-01],\n",
              "       [-1.51515335e+00,  1.14063118e+00,  2.58773960e+00,\n",
              "        -7.52934980e-01],\n",
              "       [ 6.27676540e-01,  1.10634974e+00, -2.01103164e+00,\n",
              "        -1.99995791e+00],\n",
              "       [-2.38223318e+00, -1.13485722e+00,  5.12302698e-02,\n",
              "         9.50536084e-01],\n",
              "       [ 5.64857542e-01,  1.71298007e+00, -1.28067387e+00,\n",
              "        -1.73987990e-02],\n",
              "       [-6.21960531e-01, -1.92078825e+00,  9.27648603e-02,\n",
              "        -1.23372283e+00],\n",
              "       [ 1.90143148e-01,  8.88783559e-01, -4.35371083e-01,\n",
              "         1.70432978e+00],\n",
              "       [-2.90960625e+00, -7.90732521e-01,  2.59764443e+00,\n",
              "        -8.98459021e-01],\n",
              "       [-1.69474491e+00,  7.85719382e-01, -2.57917631e-01,\n",
              "         1.92091645e+00],\n",
              "       [-9.34290081e-01,  1.52021370e+00,  1.81477852e+00,\n",
              "         1.99094476e-01],\n",
              "       [-6.62380741e-01,  5.82201283e-01,  3.16246001e-01,\n",
              "         1.83583755e+00],\n",
              "       [ 9.93055349e-02,  1.91976525e-01,  1.25514084e+00,\n",
              "        -3.63463020e+00],\n",
              "       [-1.41260220e-01,  7.07042555e-01, -2.31675728e-01,\n",
              "        -2.37395881e-01],\n",
              "       [ 7.58710316e-01,  1.62901284e+00, -1.02587751e+00,\n",
              "        -2.22886244e+00],\n",
              "       [ 1.61259406e+00,  2.87443626e-01, -1.39428330e+00,\n",
              "        -2.25078017e-01],\n",
              "       [-9.34290081e-01,  1.52021370e+00,  1.81477852e+00,\n",
              "         1.99094476e-01],\n",
              "       [-2.44518261e+00, -9.80306811e-01, -5.05369043e-01,\n",
              "         9.62185823e-01],\n",
              "       [ 7.80951507e-01,  4.09397056e-01,  1.97122297e+00,\n",
              "        -4.94856482e-01],\n",
              "       [-1.41281844e+00, -1.18382491e+00,  6.87945894e-02,\n",
              "         8.77106921e-01],\n",
              "       [ 7.58710316e-01,  1.62901284e+00, -1.02587751e+00,\n",
              "        -2.22886244e+00],\n",
              "       [ 5.95082193e-01,  1.59909331e+00, -8.08666807e-01,\n",
              "        -1.83598723e+00],\n",
              "       [-5.20552765e-01, -4.93633503e-01,  4.09759258e-01,\n",
              "         1.27170801e+00],\n",
              "       [ 5.44405749e-01, -1.18989517e+00, -2.18441938e-01,\n",
              "         1.02265843e+00],\n",
              "       [-1.69474491e+00,  7.85719382e-01, -2.57917631e-01,\n",
              "         1.92091645e+00],\n",
              "       [ 5.04663963e-01, -1.57350431e+00, -1.31102369e+00,\n",
              "         4.96549575e-01],\n",
              "       [-4.08520309e-01,  5.71291378e-01, -7.16396290e-01,\n",
              "         1.32381714e+00],\n",
              "       [-7.94774371e-01,  1.70768967e+00, -1.05211942e+00,\n",
              "        -7.05501116e-02],\n",
              "       [-5.00100972e-01,  2.40924174e+00, -6.52472672e-01,\n",
              "         2.31650784e-01],\n",
              "       [-1.01801482e+00,  1.87510881e+00,  6.77087721e-01,\n",
              "        -7.32028411e-01],\n",
              "       [ 2.07365144e-01,  1.61805833e+00, -9.49962846e-01,\n",
              "         1.66295942e+00],\n",
              "       [-1.54521207e+00, -5.83365247e-02, -1.29957083e+00,\n",
              "        -1.02928074e+00],\n",
              "       [ 1.08286117e+00,  4.57095683e-02,  1.71873341e+00,\n",
              "        -8.20139058e-02],\n",
              "       [-5.00100972e-01,  2.40924174e+00, -6.52472672e-01,\n",
              "         2.31650784e-01],\n",
              "       [ 9.93055349e-02,  1.91976525e-01,  1.25514084e+00,\n",
              "        -3.63463020e+00],\n",
              "       [ 1.44437628e+00, -2.67924888e-01, -1.01264372e+00,\n",
              "        -9.68808130e-01],\n",
              "       [-4.12038779e-01,  3.74695246e-01, -2.12260134e-01,\n",
              "         4.75324265e-01],\n",
              "       [-4.80253556e-01, -7.54598196e-01, -1.92777202e+00,\n",
              "        -1.27833032e+00],\n",
              "       [-8.57593370e-01,  2.31432001e+00, -3.21761649e-01,\n",
              "         1.91200900e+00],\n",
              "       [-5.11486023e-01, -9.34493777e-01, -5.72251434e-01,\n",
              "        -2.89209604e+00],\n",
              "       [ 2.42929380e+00, -1.08683100e+00, -3.95895390e-01,\n",
              "         8.06071764e-01],\n",
              "       [-1.54521207e+00, -5.83365247e-02, -1.29957083e+00,\n",
              "        -1.02928074e+00],\n",
              "       [ 5.04663963e-01, -1.57350431e+00, -1.31102369e+00,\n",
              "         4.96549575e-01],\n",
              "       [-4.80253556e-01, -7.54598196e-01, -1.92777202e+00,\n",
              "        -1.27833032e+00],\n",
              "       [ 1.09439648e+00, -2.77201049e-01,  7.72021093e-01,\n",
              "        -9.40912787e-01],\n",
              "       [-1.09358075e+00, -1.89357223e-01,  1.33451096e+00,\n",
              "        -9.54797204e-02],\n",
              "       [ 4.82165606e-01,  2.31780461e+00, -3.56725338e-01,\n",
              "        -5.62327068e-01],\n",
              "       [-6.62380741e-01,  5.82201283e-01,  3.16246001e-01,\n",
              "         1.83583755e+00],\n",
              "       [-1.60422711e+00, -1.82935112e+00, -2.02982474e-01,\n",
              "        -4.39744974e-01],\n",
              "       [ 5.47635545e-01,  9.83705298e-01, -7.66082106e-01,\n",
              "         2.39715659e-02],\n",
              "       [ 2.07365144e-01,  1.61805833e+00, -9.49962846e-01,\n",
              "         1.66295942e+00],\n",
              "       [ 2.42929380e+00, -1.08683100e+00, -3.95895390e-01,\n",
              "         8.06071764e-01],\n",
              "       [-5.39268596e-01, -2.52561280e+00, -8.31183671e-01,\n",
              "        -6.88794558e-01],\n",
              "       [-7.31824942e-01,  1.55313926e+00, -4.95520104e-01,\n",
              "        -8.21998506e-02],\n",
              "       [ 2.56032758e+00, -5.64167892e-01,  5.89258733e-01,\n",
              "         5.77167236e-01],\n",
              "       [-4.37281973e-01,  1.80261141e+00, -1.38283044e+00,\n",
              "        -1.75090833e+00],\n",
              "       [-2.12594491e+00,  1.41608767e-02,  7.60347333e-01,\n",
              "        -1.04008182e-02],\n",
              "       [-3.02806707e-01,  4.47743829e-01,  4.89572479e-02,\n",
              "         4.67083249e-01],\n",
              "       [-7.94774371e-01,  1.70768967e+00, -1.05211942e+00,\n",
              "        -7.05501116e-02],\n",
              "       [ 1.30538003e-01,  3.71872105e-01, -1.00379754e-01,\n",
              "        -2.02086448e+00],\n",
              "       [-2.01315072e-01,  5.00834185e-01,  1.67547563e+00,\n",
              "         2.99121371e-01],\n",
              "       [ 5.44405749e-01, -1.18989517e+00, -2.18441938e-01,\n",
              "         1.02265843e+00],\n",
              "       [-4.80253556e-01, -7.54598196e-01, -1.92777202e+00,\n",
              "        -1.27833032e+00],\n",
              "       [-5.43072554e-01, -1.47967860e-01, -1.19741426e+00,\n",
              "         7.04228793e-01],\n",
              "       [-5.60294551e-01, -8.77242634e-01, -6.82822494e-01,\n",
              "         7.45599158e-01],\n",
              "       [ 6.27676540e-01,  1.10634974e+00, -2.01103164e+00,\n",
              "        -1.99995791e+00],\n",
              "       [-1.38022409e+00, -1.67656848e+00, -1.13357024e+00,\n",
              "         7.13136240e-01],\n",
              "       [ 2.84607629e+00, -1.52549454e+00, -2.59428265e-02,\n",
              "         2.04389533e-01],\n",
              "       [ 1.49536751e+00,  7.88233577e-01,  1.82799226e-01,\n",
              "         1.21813465e+00],\n",
              "       [ 1.72280626e-01,  3.03068547e+00,  2.12603549e+00,\n",
              "        -1.09903932e+00],\n",
              "       [-1.01801482e+00,  1.87510881e+00,  6.77087721e-01,\n",
              "        -7.32028411e-01],\n",
              "       [-9.68392423e-01, -1.20275168e-01,  4.12584280e+00,\n",
              "        -1.71781933e+00],\n",
              "       [ 2.34660187e+00, -4.82006455e-01,  5.28053141e-01,\n",
              "         2.61143495e-01],\n",
              "       [-4.37281973e-01,  1.80261141e+00, -1.38283044e+00,\n",
              "        -1.75090833e+00],\n",
              "       [-1.69474491e+00,  7.85719382e-01, -2.57917631e-01,\n",
              "         1.92091645e+00],\n",
              "       [ 1.03276359e+00,  1.57790538e-01,  1.44031711e+00,\n",
              "        -7.90912856e-01],\n",
              "       [ 5.04663963e-01, -1.57350431e+00, -1.31102369e+00,\n",
              "         4.96549575e-01],\n",
              "       [-1.54521207e+00, -5.83365247e-02, -1.29957083e+00,\n",
              "        -1.02928074e+00],\n",
              "       [-1.26062190e+00,  2.66776025e+00,  5.05186938e+00,\n",
              "        -5.18037070e-01],\n",
              "       [-1.60803107e+00,  5.48293811e-01, -5.69213061e-01,\n",
              "         9.53278377e-01],\n",
              "       [ 4.47510738e+00, -1.75204529e+00,  1.22519545e+00,\n",
              "         2.20123223e+00],\n",
              "       [-6.03061916e-01,  3.84144908e+00,  2.14236812e+00,\n",
              "         2.14690691e+00],\n",
              "       [ 1.90143148e-01,  8.88783559e-01, -4.35371083e-01,\n",
              "         1.70432978e+00],\n",
              "       [-7.69432533e-01, -5.50098181e-01,  6.93822031e-01,\n",
              "        -2.93979224e-02],\n",
              "       [ 1.25510166e+00,  1.92521888e-01, -1.06357228e+00,\n",
              "         1.45528020e+00],\n",
              "       [-2.06299548e+00, -1.40389534e-01,  1.31694665e+00,\n",
              "        -2.20505572e-02],\n",
              "       [ 1.44437628e+00, -2.67924888e-01, -1.01264372e+00,\n",
              "        -9.68808130e-01],\n",
              "       [ 1.36433529e+00, -3.90569326e-01,  2.32305806e-01,\n",
              "         1.05512135e+00],\n",
              "       [-2.12594491e+00,  1.41608767e-02,  7.60347333e-01,\n",
              "        -1.04008182e-02],\n",
              "       [-1.38022409e+00, -1.67656848e+00, -1.13357024e+00,\n",
              "         7.13136240e-01],\n",
              "       [ 5.95082193e-01,  1.59909331e+00, -8.08666807e-01,\n",
              "        -1.83598723e+00],\n",
              "       [-1.05746618e+00, -3.09025747e+00,  1.33512072e+00,\n",
              "        -1.40462933e+00],\n",
              "       [-1.09221887e+00, -8.61996376e-01,  1.48766673e+00,\n",
              "        -1.87321612e+00],\n",
              "       [-1.33725251e+00,  8.80641121e-01, -5.88628654e-01,\n",
              "         2.40558230e-01],\n",
              "       [-1.37550721e+00,  1.78018707e+00,  1.00779874e+00,\n",
              "         9.48329806e-01],\n",
              "       [ 1.38613544e+00,  7.15184994e-01, -7.84181562e-02,\n",
              "         1.22637567e+00],\n",
              "       [ 1.44437628e+00, -2.67924888e-01, -1.01264372e+00,\n",
              "        -9.68808130e-01],\n",
              "       [ 1.15076123e+00,  3.53003416e-01,  4.99090208e+00,\n",
              "        -3.22676314e-03],\n",
              "       [-6.29786393e-01,  8.94577106e-02, -8.86118827e-01,\n",
              "         1.67186686e+00],\n",
              "       [-2.44518261e+00, -9.80306811e-01, -5.05369043e-01,\n",
              "         9.62185823e-01],\n",
              "       [-4.80253556e-01, -7.54598196e-01, -1.92777202e+00,\n",
              "        -1.27833032e+00],\n",
              "       [-1.38022409e+00, -1.67656848e+00, -1.13357024e+00,\n",
              "         7.13136240e-01],\n",
              "       [-1.38022409e+00, -1.67656848e+00, -1.13357024e+00,\n",
              "         7.13136240e-01],\n",
              "       [ 2.70184143e-01,  1.01142800e+00, -1.68032061e+00,\n",
              "        -3.19599695e-01],\n",
              "       [ 5.97257938e-01, -1.01167868e+00,  2.68267298e+00,\n",
              "        -9.61819357e-01],\n",
              "       [ 4.42367200e-01,  2.73786373e-01,  1.72156785e-01,\n",
              "        -7.31408286e-01],\n",
              "       [-1.35336199e-02, -2.13814898e+00,  8.55280705e-01,\n",
              "        -2.19285195e-01],\n",
              "       [ 4.72069616e-01, -1.08076073e+00, -1.08658862e-01,\n",
              "         6.60520256e-01],\n",
              "       [ 3.70803850e-01,  9.67583794e-01,  1.14599175e+00,\n",
              "        -2.25801003e+00],\n",
              "       [-1.54521207e+00, -5.83365247e-02, -1.29957083e+00,\n",
              "        -1.02928074e+00],\n",
              "       [ 5.11811402e-01, -6.97151602e-01,  9.83922890e-01,\n",
              "         1.18662911e+00],\n",
              "       [ 6.77190038e-02,  9.78502442e-01,  6.29978013e-01,\n",
              "        -3.83053685e-02],\n",
              "       [ 1.36433529e+00, -3.90569326e-01,  2.32305806e-01,\n",
              "         1.05512135e+00],\n",
              "       [-4.37281973e-01,  1.80261141e+00, -1.38283044e+00,\n",
              "        -1.75090833e+00],\n",
              "       [ 5.04663963e-01, -1.57350431e+00, -1.31102369e+00,\n",
              "         4.96549575e-01],\n",
              "       [ 1.36433529e+00, -3.90569326e-01,  2.32305806e-01,\n",
              "         1.05512135e+00],\n",
              "       [-1.38022409e+00, -1.67656848e+00, -1.13357024e+00,\n",
              "         7.13136240e-01],\n",
              "       [-9.68392423e-01, -1.20275168e-01,  4.12584280e+00,\n",
              "        -1.71781933e+00],\n",
              "       [ 1.01446384e+00,  6.26253727e-01, -1.23893524e+00,\n",
              "         1.47553513e+00],\n",
              "       [-1.79514925e-01,  1.60658850e+00,  1.36475167e+00,\n",
              "         4.70375695e-01],\n",
              "       [ 1.41314382e+00, -4.47820469e-01,  3.42876867e-01,\n",
              "        -2.58257385e+00],\n",
              "       [-6.29786393e-01,  8.94577106e-02, -8.86118827e-01,\n",
              "         1.67186686e+00],\n",
              "       [ 1.68464213e+00,  3.27786801e-01,  2.33727781e-01,\n",
              "        -1.20595368e+00],\n",
              "       [-3.10548700e-01,  1.08392540e+00,  3.79597548e-01,\n",
              "         6.99280223e-01],\n",
              "       [-2.33780878e-01,  4.61489505e+00, -2.32303675e-01,\n",
              "         4.66173454e+00],\n",
              "       [ 5.47635545e-01,  9.83705298e-01, -7.66082106e-01,\n",
              "         2.39715659e-02],\n",
              "       [-1.57918398e+00, -1.24674547e+00,  2.29845053e+00,\n",
              "        -9.75285172e-01],\n",
              "       [ 6.27676540e-01,  1.10634974e+00, -2.01103164e+00,\n",
              "        -1.99995791e+00],\n",
              "       [-4.80253556e-01, -7.54598196e-01, -1.92777202e+00,\n",
              "        -1.27833032e+00],\n",
              "       [-4.37151543e-01,  2.25469133e+00, -9.58733598e-02,\n",
              "         2.20001045e-01],\n",
              "       [ 1.44437628e+00, -2.67924888e-01, -1.01264372e+00,\n",
              "        -9.68808130e-01],\n",
              "       [-2.44518261e+00, -9.80306811e-01, -5.05369043e-01,\n",
              "         9.62185823e-01],\n",
              "       [ 1.41178194e+00,  2.24818684e-01,  1.89721105e-01,\n",
              "        -8.04837449e-01],\n",
              "       [-8.02026881e-01, -5.73546087e-02,  1.89618686e+00,\n",
              "         1.34572759e-01],\n",
              "       [-1.83439105e+00,  1.46163491e-01,  1.32202323e+00,\n",
              "         2.19651661e-01],\n",
              "       [-2.44518261e+00, -9.80306811e-01, -5.05369043e-01,\n",
              "         9.62185823e-01],\n",
              "       [ 2.39669946e+00, -5.94087425e-01,  8.06469438e-01,\n",
              "         9.70042445e-01],\n",
              "       [-2.38223318e+00, -1.13485722e+00,  5.12302698e-02,\n",
              "         9.50536084e-01],\n",
              "       [ 2.42929380e+00, -1.08683100e+00, -3.95895390e-01,\n",
              "         8.06071764e-01],\n",
              "       [-1.41281844e+00, -1.18382491e+00,  6.87945894e-02,\n",
              "         8.77106921e-01],\n",
              "       [-2.38223318e+00, -1.13485722e+00,  5.12302698e-02,\n",
              "         9.50536084e-01],\n",
              "       [ 5.04663963e-01, -1.57350431e+00, -1.31102369e+00,\n",
              "         4.96549575e-01],\n",
              "       [ 1.25510166e+00,  1.92521888e-01, -1.06357228e+00,\n",
              "         1.45528020e+00],\n",
              "       [-2.44518261e+00, -9.80306811e-01, -5.05369043e-01,\n",
              "         9.62185823e-01],\n",
              "       [-7.20891375e-01, -3.20866357e-01, -2.10313499e+00,\n",
              "        -1.25807538e+00],\n",
              "       [ 2.42929380e+00, -1.08683100e+00, -3.95895390e-01,\n",
              "         8.06071764e-01],\n",
              "       [-1.46291603e+00, -1.07174394e+00, -2.09621708e-01,\n",
              "         1.68207970e-01],\n",
              "       [-1.28763012e+00, -1.11474286e+00,  2.86012643e+00,\n",
              "        -7.45232693e-01],\n",
              "       [ 2.62081657e-02, -1.75453985e+00,  1.94786246e+00,\n",
              "         3.06823658e-01],\n",
              "       [ 4.72069616e-01, -1.08076073e+00, -1.08658862e-01,\n",
              "         6.60520256e-01],\n",
              "       [ 2.62081657e-02, -1.75453985e+00,  1.94786246e+00,\n",
              "         3.06823658e-01],\n",
              "       [ 3.79548201e-01,  8.80416709e-01,  9.02514552e-01,\n",
              "         1.25115083e+00],\n",
              "       [-3.87659581e-01, -1.92772569e-01,  2.06592464e+00,\n",
              "        -2.73669925e+00],\n",
              "       [-1.89842167e+00, -2.24121316e+00,  1.03273416e+00,\n",
              "        -2.69853065e-03],\n",
              "       [-5.39268596e-01, -2.52561280e+00, -8.31183671e-01,\n",
              "        -6.88794558e-01],\n",
              "       [ 5.04663963e-01, -1.57350431e+00, -1.31102369e+00,\n",
              "         4.96549575e-01],\n",
              "       [ 1.57999971e+00,  7.80187199e-01, -1.91918474e-01,\n",
              "        -6.11073362e-02],\n",
              "       [-1.01801482e+00,  1.87510881e+00,  6.77087721e-01,\n",
              "        -7.32028411e-01],\n",
              "       [ 1.34896294e+00,  8.31449021e-01,  9.20078872e-01,\n",
              "         1.17772166e+00],\n",
              "       [ 1.44437628e+00, -2.67924888e-01, -1.01264372e+00,\n",
              "        -9.68808130e-01],\n",
              "       [-2.38223318e+00, -1.13485722e+00,  5.12302698e-02,\n",
              "         9.50536084e-01]])"
            ]
          },
          "execution_count": 27,
          "metadata": {},
          "output_type": "execute_result"
        }
      ],
      "source": [
        "# Escalar los datos\n",
        "scaler = StandardScaler()\n",
        "data_scaled = scaler.fit_transform(data_encoded)\n",
        "\n",
        "# Aplicar PCA para reducir la dimensionalidad\n",
        "pca = PCA(n_components=4)\n",
        "data_pca = pca.fit_transform(data_scaled)\n",
        "data_pca\n",
        "\n",
        "\n"
      ]
    },
    {
      "cell_type": "code",
      "execution_count": 28,
      "metadata": {},
      "outputs": [
        {
          "name": "stdout",
          "output_type": "stream",
          "text": [
            "PCA-1: 28.00%\n",
            "PCA-2: 53.64%\n",
            "PCA-3: 77.49%\n",
            "PCA-4: 100.00%\n"
          ]
        },
        {
          "data": {
            "image/png": "[encoded data removed]",
            "text/plain": [
              "<Figure size 800x550 with 1 Axes>"
            ]
          },
          "metadata": {},
          "output_type": "display_data"
        }
      ],
      "source": [
        "# Inicializamos PCA con todos los componentes\n",
        "pca = PCA(n_components=None)\n",
        "\n",
        "# Se Aplica PCA al conjunto de datos\n",
        "pca.fit_transform(data_pca)\n",
        "\n",
        "# Se obtiene la varianza explicada acumulativa\n",
        "variance_ratio_cumsum = np.cumsum(pca.explained_variance_ratio_)\n",
        "\n",
        "for i, ratio in enumerate(variance_ratio_cumsum):\n",
        "    print(f'PCA-{i + 1}: {ratio * 100:.2f}%')\n",
        "    \n",
        "#  Se grafica la varianza explicada acumulativa\n",
        "plt.plot(range(1, \n",
        "               len(variance_ratio_cumsum) + 1), \n",
        "               variance_ratio_cumsum,\n",
        "               marker='o',\n",
        "               color='purple')\n",
        "plt.xlabel('Número de componentes principales')\n",
        "plt.ylabel('Varianza explicada acumulativa')\n",
        "plt.title('Método de codo para PCA')\n",
        "plt.show()"
      ]
    },
    {
      "cell_type": "code",
      "execution_count": 29,
      "metadata": {},
      "outputs": [
        {
          "data": {
            "image/png": "[encoded data removed]",
            "text/plain": [
              "<Figure size 800x550 with 1 Axes>"
            ]
          },
          "metadata": {},
          "output_type": "display_data"
        }
      ],
      "source": [
        "#Método del codo\n",
        "# Calcular la inercia para diferentes números de clusters\n",
        "inertia = []\n",
        "for n_clusters in range(1, 11):\n",
        "    kmeans = KMeans(n_clusters=n_clusters, random_state=100)\n",
        "    kmeans.fit(data_pca)\n",
        "    inertia.append(kmeans.inertia_)\n",
        "\n",
        "# Graficar el método del codo\n",
        "plt.plot(range(1, 11), inertia, marker='o', color='purple')\n",
        "plt.xlabel('Número de Clusters')\n",
        "plt.ylabel('Inercia')\n",
        "plt.title('Método del Codo con PCA')\n",
        "plt.show()"
      ]
    },
    {
      "cell_type": "code",
      "execution_count": 30,
      "metadata": {},
      "outputs": [],
      "source": [
        "# Ahora usamos la función de sklearn para determinar el valor óptimo de k, elbow method\n",
        "from yellowbrick.cluster import KElbowVisualizer\n",
        "\n",
        "# Instanciamos el modelo\n",
        "visualizer = KElbowVisualizer(kmeans, k = (1, 11), random_state= 50)"
      ]
    },
    {
      "cell_type": "code",
      "execution_count": 31,
      "metadata": {},
      "outputs": [
        {
          "data": {
            "image/png": "[encoded data removed]",
            "text/plain": [
              "<Figure size 800x550 with 2 Axes>"
            ]
          },
          "metadata": {},
          "output_type": "display_data"
        },
        {
          "data": {
            "text/plain": [
              "<AxesSubplot: title={'center': 'Distortion Score Elbow for KMeans Clustering'}, xlabel='k', ylabel='distortion score'>"
            ]
          },
          "execution_count": 31,
          "metadata": {},
          "output_type": "execute_result"
        }
      ],
      "source": [
        "# Ajustamos el modelo\n",
        "visualizer.fit(data_encoded)\n",
        "\n",
        "# Graficamos el valor óptimo de k\n",
        "visualizer.show()"
      ]
    },
    {
      "cell_type": "code",
      "execution_count": 32,
      "metadata": {},
      "outputs": [
        {
          "name": "stdout",
          "output_type": "stream",
          "text": [
            "PCA-1: 28.00%\n",
            "PCA-2: 53.64%\n",
            "PCA-3: 77.49%\n",
            "PCA-4: 100.00%\n"
          ]
        },
        {
          "data": {
            "image/png": "[encoded data removed]",
            "text/plain": [
              "<Figure size 800x550 with 1 Axes>"
            ]
          },
          "metadata": {},
          "output_type": "display_data"
        }
      ],
      "source": [
        "num_components = 4\n",
        "\n",
        "pca = PCA(n_components=num_components)\n",
        "pca.fit(data_pca)\n",
        "variance_ratio_cumsum = np.cumsum(pca.explained_variance_ratio_)\n",
        "\n",
        "for i, ratio in enumerate(variance_ratio_cumsum):\n",
        "    print(f'PCA-{i + 1}: {ratio * 100:.2f}%')\n",
        "\n",
        "plt.bar(range(1, num_components + 1), pca.explained_variance_ratio_, color = ['lightgreen'])\n",
        "plt.xlabel('Componente Principal')\n",
        "plt.ylabel('Porcentaje de Varianza Explicada')\n",
        "plt.title('Porcentaje de Varianza Explicada por Componente Principal')\n",
        "plt.show()"
      ]
    },
    {
      "cell_type": "code",
      "execution_count": 42,
      "metadata": {},
      "outputs": [
        {
          "data": {
            "image/png": "[encoded data removed]",
            "text/plain": [
              "<Figure size 1000x600 with 1 Axes>"
            ]
          },
          "metadata": {},
          "output_type": "display_data"
        },
        {
          "name": "stdout",
          "output_type": "stream",
          "text": [
            "         Your Current Zip Code / Pin Code  \\\n",
            "Cluster                                     \n",
            "0                           506666.246753   \n",
            "1                           427843.825000   \n",
            "2                           503236.224138   \n",
            "3                           507284.550000   \n",
            "\n",
            "         How likely would you work for a company whose mission is not bringing social impact ?  \n",
            "Cluster                                                                                         \n",
            "0                                                 5.324675                                      \n",
            "1                                                 5.525000                                      \n",
            "2                                                 4.965517                                      \n",
            "3                                                 5.333333                                      \n"
          ]
        }
      ],
      "source": [
        "# Aplicar KMeans con el número óptimo de clusters\n",
        "num_clusters = 4  # ajusta este valor según el método del codo\n",
        "kmeans = KMeans(n_clusters=num_clusters, random_state=5)\n",
        "kmeans.fit(data_pca)\n",
        "\n",
        "df['Cluster'] = kmeans.labels_\n",
        "\n",
        "# Visualizar los clusters en el espacio de PCA\n",
        "plt.figure(figsize=(10, 6))\n",
        "for cluster_label in range(num_clusters):\n",
        "    plt.scatter(data_pca[df['Cluster'] == cluster_label, 0], \n",
        "                data_pca[df['Cluster'] == cluster_label, 1],\n",
        "                label=f'Cluster {cluster_label}',\n",
        "                alpha=0.7)\n",
        "\n",
        "plt.xlabel('Componente Principal 1')\n",
        "plt.ylabel('Componente Principal 2')\n",
        "plt.title('Clusters en el espacio de PCA')\n",
        "plt.legend()\n",
        "plt.grid(True)\n",
        "plt.show()\n",
        "\n",
        "# Analizar los perfiles de los clusters\n",
        "cluster_profiles = df.groupby('Cluster').mean()\n",
        "print(cluster_profiles)\n"
      ]
    },
    {
      "cell_type": "code",
      "execution_count": 33,
      "metadata": {},
      "outputs": [
        {
          "data": {
            "image/png": "[encoded data removed]",
            "text/plain": [
              "<Figure size 1000x600 with 1 Axes>"
            ]
          },
          "metadata": {},
          "output_type": "display_data"
        },
        {
          "name": "stdout",
          "output_type": "stream",
          "text": [
            "         Your Current Zip Code / Pin Code  \\\n",
            "Cluster                                     \n",
            "0                           506666.246753   \n",
            "1                           427843.825000   \n",
            "2                           503236.224138   \n",
            "3                           507284.550000   \n",
            "\n",
            "         How likely would you work for a company whose mission is not bringing social impact ?  \n",
            "Cluster                                                                                         \n",
            "0                                                 5.324675                                      \n",
            "1                                                 5.525000                                      \n",
            "2                                                 4.965517                                      \n",
            "3                                                 5.333333                                      \n",
            "El cluster 0 solo contiene una clase, no se puede entrenar el clasificador.\n",
            "El cluster 1 solo contiene una clase, no se puede entrenar el clasificador.\n",
            "El cluster 2 solo contiene una clase, no se puede entrenar el clasificador.\n",
            "El cluster 3 solo contiene una clase, no se puede entrenar el clasificador.\n",
            "Coeficiente de silueta para K-means: 0.26198813973492846\n",
            "Coeficiente de silueta para DBSCAN: 0.037078661876398085\n"
          ]
        }
      ],
      "source": [
        "from sklearn.cluster import KMeans, DBSCAN\n",
        "from sklearn.metrics import silhouette_score\n",
        "import numpy as np\n",
        "import matplotlib.pyplot as plt\n",
        "\n",
        "\n",
        "# Aplicar KMeans con el número óptimo de clusters\n",
        "num_clusters = 4  # ajusta este valor según el método del codo\n",
        "kmeans = KMeans(n_clusters=num_clusters, random_state=5)\n",
        "labels=kmeans.fit_predict(data_pca)\n",
        "\n",
        "df['Cluster'] = kmeans.labels_\n",
        "\n",
        "# Visualizar los clusters en el espacio de PCA\n",
        "plt.figure(figsize=(10, 6))\n",
        "for cluster_label in range(num_clusters):\n",
        "    plt.scatter(data_pca[df['Cluster'] == cluster_label, 0], \n",
        "                data_pca[df['Cluster'] == cluster_label, 1],\n",
        "                label=f'Cluster {cluster_label}',\n",
        "                alpha=0.7)\n",
        "\n",
        "plt.xlabel('Componente Principal 1')\n",
        "plt.ylabel('Componente Principal 2')\n",
        "plt.title('Clusters en el espacio de PCA')\n",
        "plt.legend()\n",
        "plt.grid(True)\n",
        "plt.show()\n",
        "\n",
        "# Analizar los perfiles de los clusters\n",
        "cluster_profiles = df.groupby('Cluster').mean()\n",
        "print(cluster_profiles)\n",
        "\n",
        "# Número de clusters\n",
        "num_clusters = len(set(labels))\n",
        "\n",
        "# Crear un clasificador para cada cluster usando K-means\n",
        "kmeans_classifiers = []\n",
        "for i in range(num_clusters):\n",
        "    # Filtrar los datos pertenecientes al cluster i\n",
        "    cluster_data = data_pca[labels == i]\n",
        "    y_cluster = labels[labels == i] \n",
        "\n",
        "    unique_classes = np.unique(y_cluster)\n",
        "    if len(unique_classes) < 2:\n",
        "        print(f\"El cluster {i} solo contiene una clase, no se puede entrenar el clasificador.\")\n",
        "        continue\n",
        "\n",
        "    classifier = LogisticRegression()  # Usamos Regresión Logística \n",
        "    classifier.fit(cluster_data, y_cluster)\n",
        "    kmeans_classifiers.append(classifier)\n",
        "    # kmeans_classifiers.fit(cluster_data, y)\n",
        "    # kmeans_classifiers.append(kmeans_classifiers)\n",
        "\n",
        "# K-means\n",
        "kmeans = KMeans(n_clusters=num_clusters)\n",
        "kmeans.fit(data_pca)\n",
        "kmeans_labels = kmeans.labels_\n",
        "\n",
        "# DBSCAN\n",
        "dbscan = DBSCAN(eps=0.5, min_samples=5)\n",
        "dbscan.fit(data_pca)\n",
        "dbscan_labels = dbscan.labels_\n",
        "\n",
        "# Evaluación de los clusters utilizando el coeficiente de silueta\n",
        "kmeans_silhouette = silhouette_score(data_pca, kmeans_labels)\n",
        "dbscan_silhouette = silhouette_score(data_pca, dbscan_labels)\n",
        "\n",
        "print(\"Coeficiente de silueta para K-means:\", kmeans_silhouette)\n",
        "print(\"Coeficiente de silueta para DBSCAN:\", dbscan_silhouette)\n"
      ]
    },
    {
      "cell_type": "code",
      "execution_count": 36,
      "metadata": {},
      "outputs": [
        {
          "ename": "ValueError",
          "evalue": "\nAll the 45 fits failed.\nIt is very likely that your model is misconfigured.\nYou can try to debug the error by setting error_score='raise'.\n\nBelow are more details about the failures:\n--------------------------------------------------------------------------------\n45 fits failed with the following error:\nTraceback (most recent call last):\n  File \"c:\\Users\\adria\\AppData\\Local\\Programs\\Python\\Python310\\lib\\site-packages\\sklearn\\model_selection\\_validation.py\", line 727, in _fit_and_score\n    estimator.fit(X_train, **fit_params)\n  File \"c:\\Users\\adria\\AppData\\Local\\Programs\\Python\\Python310\\lib\\site-packages\\sklearn\\base.py\", line 1152, in wrapper\n    return fit_method(estimator, *args, **kwargs)\n  File \"c:\\Users\\adria\\AppData\\Local\\Programs\\Python\\Python310\\lib\\site-packages\\sklearn\\pipeline.py\", line 427, in fit\n    self._final_estimator.fit(Xt, y, **fit_params_last_step)\n  File \"c:\\Users\\adria\\AppData\\Local\\Programs\\Python\\Python310\\lib\\site-packages\\sklearn\\base.py\", line 1152, in wrapper\n    return fit_method(estimator, *args, **kwargs)\n  File \"c:\\Users\\adria\\AppData\\Local\\Programs\\Python\\Python310\\lib\\site-packages\\sklearn\\ensemble\\_voting.py\", line 339, in fit\n    check_classification_targets(y)\n  File \"c:\\Users\\adria\\AppData\\Local\\Programs\\Python\\Python310\\lib\\site-packages\\sklearn\\utils\\multiclass.py\", line 208, in check_classification_targets\n    y_type = type_of_target(y, input_name=\"y\")\n  File \"c:\\Users\\adria\\AppData\\Local\\Programs\\Python\\Python310\\lib\\site-packages\\sklearn\\utils\\multiclass.py\", line 303, in type_of_target\n    raise ValueError(\nValueError: Expected array-like (array or non-string sequence), got None\n",
          "output_type": "error",
          "traceback": [
            "\u001b[1;31m---------------------------------------------------------------------------\u001b[0m",
            "\u001b[1;31mValueError\u001b[0m                                Traceback (most recent call last)",
            "Cell \u001b[1;32mIn [36], line 31\u001b[0m\n\u001b[0;32m     29\u001b[0m \u001b[38;5;66;03m# Realizar búsqueda en cuadrícula\u001b[39;00m\n\u001b[0;32m     30\u001b[0m grid_search \u001b[38;5;241m=\u001b[39m GridSearchCV(pipeline, params, cv\u001b[38;5;241m=\u001b[39m\u001b[38;5;241m5\u001b[39m)\n\u001b[1;32m---> 31\u001b[0m \u001b[43mgrid_search\u001b[49m\u001b[38;5;241;43m.\u001b[39;49m\u001b[43mfit\u001b[49m\u001b[43m(\u001b[49m\u001b[43mdata_pca\u001b[49m\u001b[43m)\u001b[49m\n\u001b[0;32m     33\u001b[0m \u001b[38;5;66;03m# Obtener los mejores parámetros y el mejor modelo\u001b[39;00m\n\u001b[0;32m     34\u001b[0m best_params \u001b[38;5;241m=\u001b[39m grid_search\u001b[38;5;241m.\u001b[39mbest_params_\n",
            "File \u001b[1;32mc:\\Users\\adria\\AppData\\Local\\Programs\\Python\\Python310\\lib\\site-packages\\sklearn\\base.py:1152\u001b[0m, in \u001b[0;36m_fit_context.<locals>.decorator.<locals>.wrapper\u001b[1;34m(estimator, *args, **kwargs)\u001b[0m\n\u001b[0;32m   1145\u001b[0m     estimator\u001b[38;5;241m.\u001b[39m_validate_params()\n\u001b[0;32m   1147\u001b[0m \u001b[38;5;28;01mwith\u001b[39;00m config_context(\n\u001b[0;32m   1148\u001b[0m     skip_parameter_validation\u001b[38;5;241m=\u001b[39m(\n\u001b[0;32m   1149\u001b[0m         prefer_skip_nested_validation \u001b[38;5;129;01mor\u001b[39;00m global_skip_validation\n\u001b[0;32m   1150\u001b[0m     )\n\u001b[0;32m   1151\u001b[0m ):\n\u001b[1;32m-> 1152\u001b[0m     \u001b[38;5;28;01mreturn\u001b[39;00m fit_method(estimator, \u001b[38;5;241m*\u001b[39margs, \u001b[38;5;241m*\u001b[39m\u001b[38;5;241m*\u001b[39mkwargs)\n",
            "File \u001b[1;32mc:\\Users\\adria\\AppData\\Local\\Programs\\Python\\Python310\\lib\\site-packages\\sklearn\\model_selection\\_search.py:898\u001b[0m, in \u001b[0;36mBaseSearchCV.fit\u001b[1;34m(self, X, y, groups, **fit_params)\u001b[0m\n\u001b[0;32m    892\u001b[0m     results \u001b[38;5;241m=\u001b[39m \u001b[38;5;28mself\u001b[39m\u001b[38;5;241m.\u001b[39m_format_results(\n\u001b[0;32m    893\u001b[0m         all_candidate_params, n_splits, all_out, all_more_results\n\u001b[0;32m    894\u001b[0m     )\n\u001b[0;32m    896\u001b[0m     \u001b[38;5;28;01mreturn\u001b[39;00m results\n\u001b[1;32m--> 898\u001b[0m \u001b[38;5;28;43mself\u001b[39;49m\u001b[38;5;241;43m.\u001b[39;49m\u001b[43m_run_search\u001b[49m\u001b[43m(\u001b[49m\u001b[43mevaluate_candidates\u001b[49m\u001b[43m)\u001b[49m\n\u001b[0;32m    900\u001b[0m \u001b[38;5;66;03m# multimetric is determined here because in the case of a callable\u001b[39;00m\n\u001b[0;32m    901\u001b[0m \u001b[38;5;66;03m# self.scoring the return type is only known after calling\u001b[39;00m\n\u001b[0;32m    902\u001b[0m first_test_score \u001b[38;5;241m=\u001b[39m all_out[\u001b[38;5;241m0\u001b[39m][\u001b[38;5;124m\"\u001b[39m\u001b[38;5;124mtest_scores\u001b[39m\u001b[38;5;124m\"\u001b[39m]\n",
            "File \u001b[1;32mc:\\Users\\adria\\AppData\\Local\\Programs\\Python\\Python310\\lib\\site-packages\\sklearn\\model_selection\\_search.py:1422\u001b[0m, in \u001b[0;36mGridSearchCV._run_search\u001b[1;34m(self, evaluate_candidates)\u001b[0m\n\u001b[0;32m   1420\u001b[0m \u001b[38;5;28;01mdef\u001b[39;00m \u001b[38;5;21m_run_search\u001b[39m(\u001b[38;5;28mself\u001b[39m, evaluate_candidates):\n\u001b[0;32m   1421\u001b[0m     \u001b[38;5;124;03m\"\"\"Search all candidates in param_grid\"\"\"\u001b[39;00m\n\u001b[1;32m-> 1422\u001b[0m     \u001b[43mevaluate_candidates\u001b[49m\u001b[43m(\u001b[49m\u001b[43mParameterGrid\u001b[49m\u001b[43m(\u001b[49m\u001b[38;5;28;43mself\u001b[39;49m\u001b[38;5;241;43m.\u001b[39;49m\u001b[43mparam_grid\u001b[49m\u001b[43m)\u001b[49m\u001b[43m)\u001b[49m\n",
            "File \u001b[1;32mc:\\Users\\adria\\AppData\\Local\\Programs\\Python\\Python310\\lib\\site-packages\\sklearn\\model_selection\\_search.py:875\u001b[0m, in \u001b[0;36mBaseSearchCV.fit.<locals>.evaluate_candidates\u001b[1;34m(candidate_params, cv, more_results)\u001b[0m\n\u001b[0;32m    868\u001b[0m \u001b[38;5;28;01melif\u001b[39;00m \u001b[38;5;28mlen\u001b[39m(out) \u001b[38;5;241m!=\u001b[39m n_candidates \u001b[38;5;241m*\u001b[39m n_splits:\n\u001b[0;32m    869\u001b[0m     \u001b[38;5;28;01mraise\u001b[39;00m \u001b[38;5;167;01mValueError\u001b[39;00m(\n\u001b[0;32m    870\u001b[0m         \u001b[38;5;124m\"\u001b[39m\u001b[38;5;124mcv.split and cv.get_n_splits returned \u001b[39m\u001b[38;5;124m\"\u001b[39m\n\u001b[0;32m    871\u001b[0m         \u001b[38;5;124m\"\u001b[39m\u001b[38;5;124minconsistent results. Expected \u001b[39m\u001b[38;5;132;01m{}\u001b[39;00m\u001b[38;5;124m \u001b[39m\u001b[38;5;124m\"\u001b[39m\n\u001b[0;32m    872\u001b[0m         \u001b[38;5;124m\"\u001b[39m\u001b[38;5;124msplits, got \u001b[39m\u001b[38;5;132;01m{}\u001b[39;00m\u001b[38;5;124m\"\u001b[39m\u001b[38;5;241m.\u001b[39mformat(n_splits, \u001b[38;5;28mlen\u001b[39m(out) \u001b[38;5;241m/\u001b[39m\u001b[38;5;241m/\u001b[39m n_candidates)\n\u001b[0;32m    873\u001b[0m     )\n\u001b[1;32m--> 875\u001b[0m \u001b[43m_warn_or_raise_about_fit_failures\u001b[49m\u001b[43m(\u001b[49m\u001b[43mout\u001b[49m\u001b[43m,\u001b[49m\u001b[43m \u001b[49m\u001b[38;5;28;43mself\u001b[39;49m\u001b[38;5;241;43m.\u001b[39;49m\u001b[43merror_score\u001b[49m\u001b[43m)\u001b[49m\n\u001b[0;32m    877\u001b[0m \u001b[38;5;66;03m# For callable self.scoring, the return type is only know after\u001b[39;00m\n\u001b[0;32m    878\u001b[0m \u001b[38;5;66;03m# calling. If the return type is a dictionary, the error scores\u001b[39;00m\n\u001b[0;32m    879\u001b[0m \u001b[38;5;66;03m# can now be inserted with the correct key. The type checking\u001b[39;00m\n\u001b[0;32m    880\u001b[0m \u001b[38;5;66;03m# of out will be done in `_insert_error_scores`.\u001b[39;00m\n\u001b[0;32m    881\u001b[0m \u001b[38;5;28;01mif\u001b[39;00m callable(\u001b[38;5;28mself\u001b[39m\u001b[38;5;241m.\u001b[39mscoring):\n",
            "File \u001b[1;32mc:\\Users\\adria\\AppData\\Local\\Programs\\Python\\Python310\\lib\\site-packages\\sklearn\\model_selection\\_validation.py:414\u001b[0m, in \u001b[0;36m_warn_or_raise_about_fit_failures\u001b[1;34m(results, error_score)\u001b[0m\n\u001b[0;32m    407\u001b[0m \u001b[38;5;28;01mif\u001b[39;00m num_failed_fits \u001b[38;5;241m==\u001b[39m num_fits:\n\u001b[0;32m    408\u001b[0m     all_fits_failed_message \u001b[38;5;241m=\u001b[39m (\n\u001b[0;32m    409\u001b[0m         \u001b[38;5;124mf\u001b[39m\u001b[38;5;124m\"\u001b[39m\u001b[38;5;130;01m\\n\u001b[39;00m\u001b[38;5;124mAll the \u001b[39m\u001b[38;5;132;01m{\u001b[39;00mnum_fits\u001b[38;5;132;01m}\u001b[39;00m\u001b[38;5;124m fits failed.\u001b[39m\u001b[38;5;130;01m\\n\u001b[39;00m\u001b[38;5;124m\"\u001b[39m\n\u001b[0;32m    410\u001b[0m         \u001b[38;5;124m\"\u001b[39m\u001b[38;5;124mIt is very likely that your model is misconfigured.\u001b[39m\u001b[38;5;130;01m\\n\u001b[39;00m\u001b[38;5;124m\"\u001b[39m\n\u001b[0;32m    411\u001b[0m         \u001b[38;5;124m\"\u001b[39m\u001b[38;5;124mYou can try to debug the error by setting error_score=\u001b[39m\u001b[38;5;124m'\u001b[39m\u001b[38;5;124mraise\u001b[39m\u001b[38;5;124m'\u001b[39m\u001b[38;5;124m.\u001b[39m\u001b[38;5;130;01m\\n\u001b[39;00m\u001b[38;5;130;01m\\n\u001b[39;00m\u001b[38;5;124m\"\u001b[39m\n\u001b[0;32m    412\u001b[0m         \u001b[38;5;124mf\u001b[39m\u001b[38;5;124m\"\u001b[39m\u001b[38;5;124mBelow are more details about the failures:\u001b[39m\u001b[38;5;130;01m\\n\u001b[39;00m\u001b[38;5;132;01m{\u001b[39;00mfit_errors_summary\u001b[38;5;132;01m}\u001b[39;00m\u001b[38;5;124m\"\u001b[39m\n\u001b[0;32m    413\u001b[0m     )\n\u001b[1;32m--> 414\u001b[0m     \u001b[38;5;28;01mraise\u001b[39;00m \u001b[38;5;167;01mValueError\u001b[39;00m(all_fits_failed_message)\n\u001b[0;32m    416\u001b[0m \u001b[38;5;28;01melse\u001b[39;00m:\n\u001b[0;32m    417\u001b[0m     some_fits_failed_message \u001b[38;5;241m=\u001b[39m (\n\u001b[0;32m    418\u001b[0m         \u001b[38;5;124mf\u001b[39m\u001b[38;5;124m\"\u001b[39m\u001b[38;5;130;01m\\n\u001b[39;00m\u001b[38;5;132;01m{\u001b[39;00mnum_failed_fits\u001b[38;5;132;01m}\u001b[39;00m\u001b[38;5;124m fits failed out of a total of \u001b[39m\u001b[38;5;132;01m{\u001b[39;00mnum_fits\u001b[38;5;132;01m}\u001b[39;00m\u001b[38;5;124m.\u001b[39m\u001b[38;5;130;01m\\n\u001b[39;00m\u001b[38;5;124m\"\u001b[39m\n\u001b[0;32m    419\u001b[0m         \u001b[38;5;124m\"\u001b[39m\u001b[38;5;124mThe score on these train-test partitions for these parameters\u001b[39m\u001b[38;5;124m\"\u001b[39m\n\u001b[1;32m   (...)\u001b[0m\n\u001b[0;32m    423\u001b[0m         \u001b[38;5;124mf\u001b[39m\u001b[38;5;124m\"\u001b[39m\u001b[38;5;124mBelow are more details about the failures:\u001b[39m\u001b[38;5;130;01m\\n\u001b[39;00m\u001b[38;5;132;01m{\u001b[39;00mfit_errors_summary\u001b[38;5;132;01m}\u001b[39;00m\u001b[38;5;124m\"\u001b[39m\n\u001b[0;32m    424\u001b[0m     )\n",
            "\u001b[1;31mValueError\u001b[0m: \nAll the 45 fits failed.\nIt is very likely that your model is misconfigured.\nYou can try to debug the error by setting error_score='raise'.\n\nBelow are more details about the failures:\n--------------------------------------------------------------------------------\n45 fits failed with the following error:\nTraceback (most recent call last):\n  File \"c:\\Users\\adria\\AppData\\Local\\Programs\\Python\\Python310\\lib\\site-packages\\sklearn\\model_selection\\_validation.py\", line 727, in _fit_and_score\n    estimator.fit(X_train, **fit_params)\n  File \"c:\\Users\\adria\\AppData\\Local\\Programs\\Python\\Python310\\lib\\site-packages\\sklearn\\base.py\", line 1152, in wrapper\n    return fit_method(estimator, *args, **kwargs)\n  File \"c:\\Users\\adria\\AppData\\Local\\Programs\\Python\\Python310\\lib\\site-packages\\sklearn\\pipeline.py\", line 427, in fit\n    self._final_estimator.fit(Xt, y, **fit_params_last_step)\n  File \"c:\\Users\\adria\\AppData\\Local\\Programs\\Python\\Python310\\lib\\site-packages\\sklearn\\base.py\", line 1152, in wrapper\n    return fit_method(estimator, *args, **kwargs)\n  File \"c:\\Users\\adria\\AppData\\Local\\Programs\\Python\\Python310\\lib\\site-packages\\sklearn\\ensemble\\_voting.py\", line 339, in fit\n    check_classification_targets(y)\n  File \"c:\\Users\\adria\\AppData\\Local\\Programs\\Python\\Python310\\lib\\site-packages\\sklearn\\utils\\multiclass.py\", line 208, in check_classification_targets\n    y_type = type_of_target(y, input_name=\"y\")\n  File \"c:\\Users\\adria\\AppData\\Local\\Programs\\Python\\Python310\\lib\\site-packages\\sklearn\\utils\\multiclass.py\", line 303, in type_of_target\n    raise ValueError(\nValueError: Expected array-like (array or non-string sequence), got None\n"
          ]
        }
      ],
      "source": [
        "from sklearn.model_selection import GridSearchCV\n",
        "from sklearn.ensemble import VotingClassifier\n",
        "from sklearn.linear_model import LogisticRegression\n",
        "from sklearn.cluster import KMeans, DBSCAN\n",
        "from sklearn.pipeline import Pipeline\n",
        "from sklearn.decomposition import PCA\n",
        "from sklearn.metrics import silhouette_score\n",
        "\n",
        "# Crear modelos base\n",
        "kmeans = KMeans()\n",
        "dbscan = DBSCAN()\n",
        "\n",
        "# Crear clasificador de votación\n",
        "estimators = [('kmeans', kmeans), ('dbscan', dbscan)]\n",
        "voting_classifier = VotingClassifier(estimators)\n",
        "\n",
        "# Definir el pipeline\n",
        "pipeline = Pipeline([\n",
        "    ('pca', PCA(n_components=2)),\n",
        "    ('voting', voting_classifier)\n",
        "])\n",
        "\n",
        "# Definir parámetros para búsqueda en cuadrícula\n",
        "params = {\n",
        "    'voting__kmeans__n_clusters': [3, 4, 5],  # probar diferentes números de clusters para KMeans\n",
        "    'voting__dbscan__eps': [0.3, 0.4, 0.5],   # probar diferentes valores de epsilon para DBSCAN\n",
        "}\n",
        "\n",
        "# Realizar búsqueda en cuadrícula\n",
        "grid_search = GridSearchCV(pipeline, params, cv=5)\n",
        "grid_search.fit(data_pca)\n",
        "\n",
        "# Obtener los mejores parámetros y el mejor modelo\n",
        "best_params = grid_search.best_params_\n",
        "best_model = grid_search.best_estimator_\n",
        "\n",
        "# Obtener etiquetas de los clusters\n",
        "best_labels = best_model.predict(data_pca)\n",
        "\n",
        "# Evaluación de los clusters utilizando el coeficiente de silueta\n",
        "silhouette = silhouette_score(data_pca, best_labels)\n",
        "print(\"Coeficiente de silueta:\", silhouette)\n"
      ]
    },
    {
      "cell_type": "code",
      "execution_count": 93,
      "metadata": {},
      "outputs": [
        {
          "name": "stdout",
          "output_type": "stream",
          "text": [
            "                                                                                                                                                    precision    recall  f1-score   support\n",
            "\n",
            "                                        Build and develop a Team, Design and Develop amazing software, Look deeply into Data and generate insights       0.00      0.00      0.00         3\n",
            "                                    Business Operations in any organization, Build and develop a Team, Look deeply into Data and generate insights       0.00      0.00      0.00         3\n",
            "                         Business Operations in any organization, Design and Develop amazing software, Look deeply into Data and generate insights       0.00      0.00      0.00         1\n",
            "                               Business Operations in any organization, Manage and drive End-to-End Projects or Products, Build and develop a Team       0.11      0.50      0.18         2\n",
            "            Business Operations in any organization, Manage and drive End-to-End Projects or Products, Look deeply into Data and generate insights       0.00      0.00      0.00         3\n",
            "         Business Operations in any organization, Manage and drive End-to-End Projects or Products, Work in a BPO setup for some well known client       0.00      0.00      0.00         1\n",
            "                   Business Operations in any organization, Work as a freelancer and do my thing my way, Become a content Creator in some platform       0.00      0.00      0.00         1\n",
            "                                        Design and Creative strategy in any company, Build and develop a Team, Design and Develop amazing software       0.00      0.00      0.00         1\n",
            "                                Design and Creative strategy in any company, Build and develop a Team, Look deeply into Data and generate insights       0.00      0.00      0.00         1\n",
            "                                Design and Creative strategy in any company, Build and develop a Team, Work as a freelancer and do my thing my way       0.00      0.00      0.00         1\n",
            "                   Design and Creative strategy in any company, Business Operations in any organization, Become a content Creator in some platform       0.00      0.00      0.00         0\n",
            "                                    Design and Creative strategy in any company, Business Operations in any organization, Build and develop a Team       0.00      0.00      0.00         1\n",
            "                 Design and Creative strategy in any company, Business Operations in any organization, Look deeply into Data and generate insights       0.09      1.00      0.17         1\n",
            "                 Design and Creative strategy in any company, Business Operations in any organization, Work as a freelancer and do my thing my way       0.00      0.00      0.00         2\n",
            "                       Design and Creative strategy in any company, Design and Develop amazing software, Become a content Creator in some platform       0.00      0.00      0.00         1\n",
            "                     Design and Creative strategy in any company, Design and Develop amazing software, Work as a freelancer and do my thing my way       0.00      0.00      0.00         1\n",
            "             Design and Creative strategy in any company, Look deeply into Data and generate insights, Work as a freelancer and do my thing my way       0.00      0.00      0.00         1\n",
            "                Design and Creative strategy in any company, Manage and drive End-to-End Projects or Products, Design and Develop amazing software       0.00      0.00      0.00         1\n",
            "        Design and Creative strategy in any company, Manage and drive End-to-End Projects or Products, Work as a freelancer and do my thing my way       0.00      0.00      0.00         1\n",
            "                        Design and Creative strategy in any company, Teaching in any of the institutes/online or Offline, Build and develop a Team       0.00      0.00      0.00         1\n",
            "         Design and Creative strategy in any company, Teaching in any of the institutes/online or Offline, Business Operations in any organization       0.10      0.50      0.17         2\n",
            "             Design and Creative strategy in any company, Teaching in any of the institutes/online or Offline, Design and Develop amazing software       0.00      0.00      0.00         2\n",
            "     Design and Creative strategy in any company, Teaching in any of the institutes/online or Offline, Look deeply into Data and generate insights       0.00      0.00      0.00         1\n",
            "               Design and Creative strategy in any company, Work as a freelancer and do my thing my way, Become a content Creator in some platform       0.00      0.00      0.00         1\n",
            "                       Design and Develop amazing software, Look deeply into Data and generate insights, Become a content Creator in some platform       0.00      0.00      0.00         1\n",
            "                     Design and Develop amazing software, Look deeply into Data and generate insights, Work as a freelancer and do my thing my way       0.00      0.00      0.00         1\n",
            "                       Design and Develop amazing software, Work as a freelancer and do my thing my way, Become a content Creator in some platform       0.00      0.00      0.00         1\n",
            "                        Manage and drive End-to-End Projects or Products, Build and develop a Team, Work in a BPO setup for some well known client       0.00      0.00      0.00         1\n",
            "          Manage and drive End-to-End Projects or Products, Look deeply into Data and generate insights, Become a content Creator in some platform       0.00      0.00      0.00         1\n",
            "        Manage and drive End-to-End Projects or Products, Look deeply into Data and generate insights, Work as a freelancer and do my thing my way       0.00      0.00      0.00         1\n",
            "                          Teaching in any of the institutes/online or Offline, Build and develop a Team, Become a content Creator in some platform       0.00      0.00      0.00         1\n",
            "                        Teaching in any of the institutes/online or Offline, Build and develop a Team, Look deeply into Data and generate insights       0.00      0.00      0.00         1\n",
            "         Teaching in any of the institutes/online or Offline, Business Operations in any organization, Look deeply into Data and generate insights       0.00      0.00      0.00         1\n",
            "    Teaching in any of the institutes/online or Offline, Business Operations in any organization, Manage and drive End-to-End Projects or Products       0.00      0.00      0.00         1\n",
            "             Teaching in any of the institutes/online or Offline, Design and Develop amazing software, Look deeply into Data and generate insights       0.00      0.00      0.00         1\n",
            "     Teaching in any of the institutes/online or Offline, Look deeply into Data and generate insights, Work as a freelancer and do my thing my way       0.00      0.00      0.00         1\n",
            "Teaching in any of the institutes/online or Offline, Manage and drive End-to-End Projects or Products, Look deeply into Data and generate insights       0.00      0.00      0.00         1\n",
            "  Teaching in any of the institutes/online or Offline, Work in a BPO setup for some well known client, Work as a freelancer and do my thing my way       0.00      0.00      0.00         1\n",
            "\n",
            "                                                                                                                                          accuracy                           0.06        47\n",
            "                                                                                                                                         macro avg       0.01      0.05      0.01        47\n",
            "                                                                                                                                      weighted avg       0.01      0.06      0.02        47\n",
            "\n"
          ]
        }
      ],
      "source": [
        "import pandas as pd\n",
        "from sklearn.model_selection import train_test_split\n",
        "from sklearn.feature_extraction.text import CountVectorizer\n",
        "from sklearn.naive_bayes import MultinomialNB\n",
        "from sklearn.metrics import classification_report\n",
        "\n",
        "\n",
        "\n",
        "# Seleccionar las características relevantes y la variable objetivo\n",
        "X = df['Which of the below factors influence the most about your career aspirations ?']\n",
        "y = df['Which of the below careers looks close to your Aspirational job ?']\n",
        "\n",
        "# Dividir los datos en conjuntos de entrenamiento y prueba\n",
        "X_train, X_test, y_train, y_test = train_test_split(X, y, test_size=0.2, random_state=42)\n",
        "\n",
        "# Preprocesamiento de texto y vectorización\n",
        "vectorizer = CountVectorizer()\n",
        "X_train_counts = vectorizer.fit_transform(X_train)\n",
        "X_test_counts = vectorizer.transform(X_test)\n",
        "\n",
        "# Entrenamiento del modelo Naive Bayes Multinomial\n",
        "clf = MultinomialNB()\n",
        "clf.fit(X_train_counts, y_train)\n",
        "\n",
        "# Predicción en el conjunto de prueba\n",
        "y_pred = clf.predict(X_test_counts)\n",
        "\n",
        "# Evaluación del modelo\n",
        "print(classification_report(y_test, y_pred))\n"
      ]
    },
    {
      "cell_type": "code",
      "execution_count": 96,
      "metadata": {},
      "outputs": [
        {
          "name": "stdout",
          "output_type": "stream",
          "text": [
            "Silhouette Score: 0.12862663100557312\n",
            "2    70\n",
            "3    65\n",
            "1    64\n",
            "0    36\n",
            "Name: Cluster, dtype: int64\n"
          ]
        }
      ],
      "source": [
        "import pandas as pd\n",
        "from sklearn.cluster import KMeans\n",
        "from sklearn.feature_extraction.text import TfidfVectorizer\n",
        "from sklearn.metrics import silhouette_score\n",
        "\n",
        "# Cargar los datos\n",
        "\n",
        "\n",
        "# Seleccionar las características relevantes\n",
        "features = df[['Which of the below factors influence the most about your career aspirations ?',\n",
        "                 'What is the most preferred working environment for you.',\n",
        "                 'Which of the below careers looks close to your Aspirational job ?']]\n",
        "\n",
        "# Combinar las respuestas de las tres preguntas en una sola columna\n",
        "responses = features.apply(lambda x: ' '.join(x.dropna().astype(str)), axis=1)\n",
        "\n",
        "# Vectorizar las respuestas utilizando TF-IDF\n",
        "vectorizer = TfidfVectorizer()\n",
        "X = vectorizer.fit_transform(responses)\n",
        "\n",
        "# Entrenar el modelo de clustering (KMeans)\n",
        "num_clusters = 4  # Selecciona el número de clusters\n",
        "kmeans = KMeans(n_clusters=num_clusters, random_state=42)\n",
        "kmeans.fit(X)\n",
        "\n",
        "# Obtener las etiquetas de cluster asignadas\n",
        "cluster_labels = kmeans.labels_\n",
        "\n",
        "# Evaluar el modelo utilizando la métrica de silhouette\n",
        "silhouette_avg = silhouette_score(X, cluster_labels)\n",
        "print(f'Silhouette Score: {silhouette_avg}')\n",
        "\n",
        "# Asignar las etiquetas de cluster al DataFrame original\n",
        "df['Cluster'] = cluster_labels\n",
        "\n",
        "# Mostrar la distribución de los clusters\n",
        "print(df['Cluster'].value_counts())\n",
        "\n",
        "# Guardar los resultados\n",
        "df.to_csv('clusters_result.csv', index=False)\n"
      ]
    }
  ],
  "metadata": {
    "colab": {
      "provenance": []
    },
    "kernelspec": {
      "display_name": "Python 3",
      "name": "python3"
    },
    "language_info": {
      "codemirror_mode": {
        "name": "ipython",
        "version": 3
      },
      "file_extension": ".py",
      "mimetype": "text/x-python",
      "name": "python",
      "nbconvert_exporter": "python",
      "pygments_lexer": "ipython3",
      "version": "3.10.7"
    }
  },
  "nbformat": 4,
  "nbformat_minor": 0
}
